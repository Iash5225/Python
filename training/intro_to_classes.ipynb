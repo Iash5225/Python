{
 "cells": [
  {
   "cell_type": "markdown",
   "metadata": {},
   "source": [
    "## Intro to Classes\n",
    "\n",
    "#### Topics\n",
    "1) Introduction\n",
    "* What is a class?\n",
    "* Why use classes?\n",
    "2) Class definition\n",
    "* Syntax\n",
    "* Creating instances\n",
    "3) Syntax\n",
    "* Attributes\n",
    "* Methods\n",
    "* Properties\n",
    "* Initialisation\n",
    "* IP2\n",
    "3) Inheritance\n",
    "* Creating Subclasses\n",
    "* Overriding methods\n",
    "* Calling the superclass constructor\n",
    "4) Examples\n",
    "\n",
    "Other Topics (Next Week)\n",
    "7) Decorators"
   ]
  },
  {
   "cell_type": "markdown",
   "metadata": {},
   "source": [
    "### What is a Class?\n",
    "\n",
    "A class in Python is a blueprint for creating objects. It defines a data structure that bundles data and the functions that operate on the data into a single unit. In other words, a class is a way to structure and organize code in a modular and reusable fashion.\n",
    "\n",
    "### Why use Classes?\n",
    "Using classes in programming offers several benefits that contribute to code organization, modularity, and reusability."
   ]
  },
  {
   "cell_type": "code",
   "execution_count": null,
   "metadata": {},
   "outputs": [],
   "source": [
    "# Syntax\n",
    "class MyClass:\n",
    "    n_apples = 10\n",
    "    n_pears = n_apples*2"
   ]
  },
  {
   "cell_type": "code",
   "execution_count": null,
   "metadata": {},
   "outputs": [],
   "source": [
    "m = MyClass()\n",
    "m"
   ]
  },
  {
   "cell_type": "code",
   "execution_count": null,
   "metadata": {},
   "outputs": [],
   "source": [
    "m.n_apples"
   ]
  },
  {
   "cell_type": "code",
   "execution_count": null,
   "metadata": {},
   "outputs": [],
   "source": [
    "m.n_apples = 20\n",
    "m.n_apples"
   ]
  },
  {
   "cell_type": "markdown",
   "metadata": {},
   "source": [
    "## What is an Object?\n",
    "\n",
    "Objects are instances of a class. They represent instances of the data and behavior defined by the class."
   ]
  },
  {
   "cell_type": "code",
   "execution_count": null,
   "metadata": {},
   "outputs": [],
   "source": [
    "m = MyClass()\n",
    "m"
   ]
  },
  {
   "cell_type": "code",
   "execution_count": null,
   "metadata": {},
   "outputs": [],
   "source": [
    "import pandas as pd\n",
    "\n",
    "df = pd.DataFrame()"
   ]
  },
  {
   "cell_type": "markdown",
   "metadata": {},
   "source": [
    "## Syntax"
   ]
  },
  {
   "cell_type": "code",
   "execution_count": null,
   "metadata": {},
   "outputs": [],
   "source": [
    "# attributes/properties\n",
    "class MyClass:\n",
    "    def __init__(self, b):\n",
    "        self.n_apples = 10*b\n",
    "        self.n_pears = self.n_apples*2"
   ]
  },
  {
   "cell_type": "code",
   "execution_count": null,
   "metadata": {},
   "outputs": [],
   "source": [
    "m = MyClass(2)\n",
    "m.n_apples"
   ]
  },
  {
   "cell_type": "code",
   "execution_count": null,
   "metadata": {},
   "outputs": [],
   "source": [
    "# methods\n",
    "class MyClass:\n",
    "    def __init__(self):\n",
    "        self.n_apples = 10\n",
    "        self.n_pears = self.n_apples*2\n",
    "\n",
    "    def more_apples(self, n):\n",
    "        self.n_apples += n"
   ]
  },
  {
   "cell_type": "code",
   "execution_count": null,
   "metadata": {},
   "outputs": [],
   "source": [
    "m = MyClass()\n",
    "m.n_apples"
   ]
  },
  {
   "cell_type": "code",
   "execution_count": null,
   "metadata": {},
   "outputs": [],
   "source": [
    "m.more_apples(5)\n",
    "m.n_apples"
   ]
  },
  {
   "cell_type": "code",
   "execution_count": null,
   "metadata": {},
   "outputs": [],
   "source": [
    "# methods\n",
    "class MyClass:\n",
    "    def __init__(self):\n",
    "        self.n_apples = 10\n",
    "        self.n_pears = self.n_apples*2\n",
    "\n",
    "    @property\n",
    "    def more_apples(self):\n",
    "        return 5*self.n_apples"
   ]
  },
  {
   "cell_type": "code",
   "execution_count": null,
   "metadata": {},
   "outputs": [],
   "source": [
    "m = MyClass()\n",
    "m.n_apples\n",
    "m.more_apples"
   ]
  },
  {
   "cell_type": "markdown",
   "metadata": {},
   "source": [
    "# Input Properties (IP2)\n",
    "\n",
    "The InputTracker is designed to deal answer the following questions:\n",
    "- What inputs are used by a class, and their description and units\n",
    "- What default values should be used for parameters.\n",
    "- What parameters are required.\n",
    "\n",
    "Not only does it have a mechanism to define these things, it also streamlines managing properties as you compose different classes together. When multiple classes with input parameters have been composed together, during init the class will automatically look over all parent classes and compile a list of input properties, and remove any properties from the list that have been defined as a calculated value from another class.\n",
    "\n",
    "We have the following methods available:\n",
    "- `inputs`: lists all the inputs for the class\n",
    "- `required_inputs`: list all the that are required\n",
    "- `check_all_required`: check that all the required properties have been defined\n",
    "- `defaults_used`: list all the defaults that are being used in analysis\n",
    "- `defaults_overwritten`: list of all properties that have been overwritten with a user specified value"
   ]
  },
  {
   "cell_type": "markdown",
   "metadata": {},
   "source": [
    "Class definition has two features. First, we subclass InputTracker somewhere in the parent tree. Second, we have a class level variable called input_properties, which contains a list of InputProperty objects. An InputProperty has the following parameters."
   ]
  },
  {
   "cell_type": "code",
   "execution_count": null,
   "metadata": {},
   "outputs": [],
   "source": [
    "# Import\n",
    "from sea_calcs import InputProperty                 # Old Version\n",
    "from sea_calcs import InputTracker, InputProperty2 as IP2   # New Version"
   ]
  },
  {
   "cell_type": "markdown",
   "metadata": {},
   "source": [
    "Class definition has two features. First, we subclass InputTracker somewhere in the parent tree. Second, we have a class level variable called input_properties, which contains a list of InputProperty objects. An InputProperty has the following parameters."
   ]
  },
  {
   "cell_type": "code",
   "execution_count": null,
   "metadata": {},
   "outputs": [],
   "source": [
    "print(InputProperty.__doc__)"
   ]
  },
  {
   "cell_type": "code",
   "execution_count": null,
   "metadata": {},
   "outputs": [],
   "source": [
    "# Python version\n",
    "\n",
    "class Animal: \n",
    "\n",
    "    def __init__(self, legs, weight, wears_glasses):\n",
    "        self.legs = legs\n",
    "        self.weight = weight\n",
    "        self.wears_glasses = wears_glasses\n"
   ]
  },
  {
   "cell_type": "code",
   "execution_count": null,
   "metadata": {},
   "outputs": [],
   "source": [
    "# Old version\n",
    "\n",
    "class Animal(InputTracker): # InputTracker needs to be subclassed somewhere in the class tree\n",
    "\n",
    "    # Define list of input_properties as a class level variable\n",
    "    input_properties = [\n",
    "        InputProperty(name='legs', units='-', description='Number of legs on the animal', required=True),\n",
    "        InputProperty('weight', 'kg', 'Weight of animal'),\n",
    "        InputProperty('wears_glasses', 'bool', 'Whether the animal wears glasses', default=False)\n",
    "        ]\n",
    "\n",
    "    def leg_count(self):\n",
    "        return \"I have {} legs and {} wear glasses\".format(self.legs, \"do\" if self.wears_glasses else \"don't\")"
   ]
  },
  {
   "cell_type": "code",
   "execution_count": null,
   "metadata": {},
   "outputs": [],
   "source": [
    "# New Version - YES Much Nicer!!!!\n",
    "\n",
    "class Animal(InputTracker): # InputTracker needs to be subclassed somewhere in the class tree\n",
    "\n",
    "    # Define list of input_properties as a class level variable\n",
    "    legs = IP2(units='-', description='Number of legs on the animal', required=True)\n",
    "    weight = IP2('kg', 'Weight of animal')\n",
    "    wears_glasses = IP2('bool', 'Whether the animal wears glasses', default=False)\n",
    "\n",
    "    def leg_count(self):\n",
    "        return \"I have {} legs and {} wear glasses\".format(self.legs, \"do\" if self.wears_glasses else \"don't\")"
   ]
  },
  {
   "cell_type": "code",
   "execution_count": null,
   "metadata": {},
   "outputs": [],
   "source": [
    "# Create an Instance\n",
    "a = Animal()\n",
    "a.inputs"
   ]
  },
  {
   "cell_type": "code",
   "execution_count": null,
   "metadata": {},
   "outputs": [],
   "source": [
    "# Can also get a list of required inputs\n",
    "a.required_inputs"
   ]
  },
  {
   "cell_type": "code",
   "execution_count": null,
   "metadata": {},
   "outputs": [],
   "source": [
    "# You can define properties during init, or after it's created.\n",
    "a = Animal()\n",
    "a.legs = 17\n",
    "print(a.leg_count())\n",
    "b = Animal(legs=22, wears_glasses=True)\n",
    "print(b.leg_count())"
   ]
  },
  {
   "cell_type": "markdown",
   "metadata": {},
   "source": [
    "### Subclassing\n",
    "\n",
    "When you combine multiple classes together, it automatically works out what parameters have been overwritten."
   ]
  },
  {
   "cell_type": "code",
   "execution_count": null,
   "metadata": {},
   "outputs": [],
   "source": [
    "class Dog(Animal):\n",
    "    breed = IP2('enum', 'One of [large, medium or small ')\n",
    "    legs = IP2('-', 'Number of legs on the animal', default=4)\n",
    "\n",
    "    @property\n",
    "    def weight(self):\n",
    "        return {'large': 40, 'medium': 20, 'small': 15}[self.breed] + self.wears_glasses*0.2"
   ]
  },
  {
   "cell_type": "code",
   "execution_count": null,
   "metadata": {},
   "outputs": [],
   "source": [
    "d = Dog()\n",
    "d.legs"
   ]
  },
  {
   "cell_type": "code",
   "execution_count": null,
   "metadata": {},
   "outputs": [],
   "source": [
    "# Call properties\n",
    "d.breed = 'large'\n",
    "d.weight"
   ]
  },
  {
   "cell_type": "code",
   "execution_count": null,
   "metadata": {},
   "outputs": [],
   "source": [
    "# Overwriting properties\n",
    "class Bird(Animal):\n",
    "\n",
    "    wings = IP2('-', 'Number of wings on the animal', default=2)\n",
    "\n",
    "    def leg_count(self):\n",
    "        return \"I am a birdy you silly goose, but I still have two legs!!!\""
   ]
  },
  {
   "cell_type": "code",
   "execution_count": null,
   "metadata": {},
   "outputs": [],
   "source": [
    "b = Bird()\n",
    "b.leg_count()"
   ]
  },
  {
   "cell_type": "code",
   "execution_count": null,
   "metadata": {},
   "outputs": [],
   "source": [
    "# Calling Super()\n",
    "class Spider(Bird, Animal):\n",
    "\n",
    "    def leg_count(self):\n",
    "        self.legs = 8\n",
    "        old_sting = super().leg_count()  # Here we modify the output of the leg_count\n",
    "        return \"I am a Spider, \" + old_sting"
   ]
  },
  {
   "cell_type": "code",
   "execution_count": null,
   "metadata": {},
   "outputs": [],
   "source": [
    "s = Spider()\n",
    "s.leg_count()"
   ]
  },
  {
   "cell_type": "markdown",
   "metadata": {},
   "source": [
    "### Why would we want to do this??"
   ]
  },
  {
   "cell_type": "markdown",
   "metadata": {},
   "source": [
    "# Examples"
   ]
  },
  {
   "cell_type": "markdown",
   "metadata": {},
   "source": [
    "1) Create a class called MyClass with an attribute called name. Use the initializer __init__"
   ]
  },
  {
   "cell_type": "code",
   "execution_count": 1,
   "metadata": {},
   "outputs": [
    {
     "data": {
      "text/plain": "'taylor swift'"
     },
     "execution_count": 1,
     "metadata": {},
     "output_type": "execute_result"
    }
   ],
   "source": [
    "class MyClass:\n",
    "    def __init__(self):\n",
    "        self.name = 'taylor swift'\n",
    "\n",
    "a = MyClass()\n",
    "a.name"
   ]
  },
  {
   "cell_type": "code",
   "execution_count": null,
   "metadata": {},
   "outputs": [],
   "source": [
    "# Solution\n",
    "\"\"\"\n",
    "class MyClass:\n",
    "    def __init__(self):\n",
    "        self.name = \"Connor\"\n",
    "a = MyClass()\n",
    "a.name\n",
    "\"\"\""
   ]
  },
  {
   "cell_type": "markdown",
   "metadata": {},
   "source": [
    "2) Write a Python class named Rectangle constructed from length and width and a property that will compute the area of a rectangle."
   ]
  },
  {
   "cell_type": "code",
   "execution_count": 9,
   "metadata": {},
   "outputs": [
    {
     "data": {
      "text/plain": "80"
     },
     "execution_count": 9,
     "metadata": {},
     "output_type": "execute_result"
    }
   ],
   "source": [
    "class Rectangle:\n",
    "    def __init__(self):\n",
    "        self.length = 10\n",
    "        self.width = 8\n",
    "\n",
    "    @property\n",
    "    def area(self):\n",
    "        return self.length*self.width\n",
    "area = Rectangle()\n",
    "area.area\n"
   ]
  },
  {
   "cell_type": "code",
   "execution_count": null,
   "metadata": {},
   "outputs": [],
   "source": [
    "# Solution\n",
    "\"\"\"\n",
    "class Rectangle:\n",
    "    def __init__(self, length, width):\n",
    "        self.length = length\n",
    "        self.width = width\n",
    "\n",
    "    @property\n",
    "    def area(self):\n",
    "        return self.length*self.width\n",
    "\n",
    "model = Rectangle(20, 10)\n",
    "model.area\n",
    "\"\"\""
   ]
  },
  {
   "cell_type": "markdown",
   "metadata": {},
   "source": [
    "3. Create a class called MyClass with an attribute called name. Using sea_calcs IP2. Print all inputs"
   ]
  },
  {
   "cell_type": "code",
   "execution_count": 2,
   "metadata": {},
   "outputs": [
    {
     "data": {
      "text/plain": "[name [-]: name of class (default=Taylor Swift)]"
     },
     "execution_count": 2,
     "metadata": {},
     "output_type": "execute_result"
    }
   ],
   "source": [
    "from sea_calcs import InputProperty2 as IP2,InputTracker\n",
    "\n",
    "class MyClass(InputTracker):\n",
    "    name = IP2('-','name of class' , default='Taylor Swift')\n",
    "\n",
    "test = MyClass()\n",
    "\n",
    "test.inputs\n",
    "\n",
    "\n"
   ]
  },
  {
   "cell_type": "code",
   "execution_count": null,
   "metadata": {},
   "outputs": [],
   "source": [
    "# Solution\n",
    "\"\"\"\n",
    "from sea_calcs import InputTracker, InputProperty2 as IP2\n",
    "\n",
    "class MyClass(InputTracker):\n",
    "    name = IP2('-', 'Name of class', default = 'Connor')\n",
    "a = MyClass()\n",
    "a.inputs\n",
    "\"\"\""
   ]
  },
  {
   "cell_type": "markdown",
   "metadata": {},
   "source": [
    "4. Create a child class Bus that will inherit all of the variables and methods of the Vehicle class. Give the capacity argument of Bus.seating_capacity() a default value of 50."
   ]
  },
  {
   "cell_type": "code",
   "execution_count": 5,
   "metadata": {},
   "outputs": [],
   "source": [
    "# Subclass the Vehicle Class\n",
    "class Vehicle:\n",
    "    name = IP2('-', 'Name of Vehicle', default='School Bus')\n",
    "    max_speed = IP2('m/s', 'Max speed of vehicle', default=10)\n",
    "    mileage = IP2('L/km', 'Max speed of vehicle', default=10)\n",
    "\n",
    "    def seating_capacity(self, capacity):\n",
    "        return f\"The seating capacity of a {self.name} is {capacity} passengers\""
   ]
  },
  {
   "cell_type": "code",
   "execution_count": 6,
   "metadata": {},
   "outputs": [
    {
     "data": {
      "text/plain": "'The seating capacity of a School Bus is 50 passengers'"
     },
     "execution_count": 6,
     "metadata": {},
     "output_type": "execute_result"
    }
   ],
   "source": [
    "class Bus(Vehicle):\n",
    "    def seating_capacity(self, capacity=50):\n",
    "        return super().seating_capacity(capacity)\n",
    "\n",
    "school_bus = Bus()\n",
    "school_bus.seating_capacity()\n",
    "\n",
    "\n"
   ]
  },
  {
   "cell_type": "code",
   "execution_count": null,
   "metadata": {},
   "outputs": [],
   "source": [
    "# Solution\n",
    "\"\"\"\n",
    "class Bus(Vehicle):\n",
    "    # assign default value to capacity\n",
    "    def seating_capacity(self, capacity=50):\n",
    "        return super().seating_capacity(capacity=50)\n",
    "\n",
    "school_bus = Bus()\n",
    "school_bus.seating_capacity()\n",
    "\"\"\""
   ]
  }
 ],
 "metadata": {
  "kernelspec": {
   "display_name": "Python 3 (ipykernel)",
   "language": "python",
   "name": "python3"
  },
  "language_info": {
   "codemirror_mode": {
    "name": "ipython",
    "version": 3
   },
   "file_extension": ".py",
   "mimetype": "text/x-python",
   "name": "python",
   "nbconvert_exporter": "python",
   "pygments_lexer": "ipython3",
   "version": "3.9.13"
  }
 },
 "nbformat": 4,
 "nbformat_minor": 1
}
