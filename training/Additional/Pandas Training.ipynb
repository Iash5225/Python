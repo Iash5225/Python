{
 "cells": [
  {
   "cell_type": "markdown",
   "id": "8b0adfe8",
   "metadata": {},
   "source": [
    "# Pandas"
   ]
  },
  {
   "cell_type": "markdown",
   "id": "73476568",
   "metadata": {},
   "source": [
    "Provides a way to analyse data structures in python.\n",
    "There are two types of data structures that the package analyses:\n",
    "1. Series: 1D arrays\n",
    "2. DataFrame: 2D, tabular structure with rows and columns."
   ]
  },
  {
   "cell_type": "code",
   "execution_count": null,
   "id": "c81eb931",
   "metadata": {},
   "outputs": [],
   "source": [
    "import pandas as pd"
   ]
  },
  {
   "cell_type": "markdown",
   "id": "610c3ca9",
   "metadata": {},
   "source": [
    "## Series Example"
   ]
  },
  {
   "cell_type": "code",
   "execution_count": null,
   "id": "cbf27819",
   "metadata": {
    "scrolled": true
   },
   "outputs": [],
   "source": [
    "biomes_data = ['Desert', 'Jungle', 'Mesa']\n",
    "biomes_series = pd.Series(biomes_data)\n",
    "\n",
    "print(biomes_series)"
   ]
  },
  {
   "cell_type": "markdown",
   "id": "7c600ac4",
   "metadata": {},
   "source": [
    "#### Returning second item in biomes_series:"
   ]
  },
  {
   "cell_type": "code",
   "execution_count": null,
   "id": "daa03c3c",
   "metadata": {},
   "outputs": [],
   "source": [
    "biomes_series[1]"
   ]
  },
  {
   "cell_type": "markdown",
   "id": "45d10994",
   "metadata": {},
   "source": [
    "#### Returning the first 2 items in biomes_series by slicing:"
   ]
  },
  {
   "cell_type": "code",
   "execution_count": null,
   "id": "562ffdd2",
   "metadata": {},
   "outputs": [],
   "source": [
    "biomes_series[0:2]"
   ]
  },
  {
   "cell_type": "markdown",
   "id": "355bf8a8",
   "metadata": {},
   "source": [
    "# DataFrames"
   ]
  },
  {
   "cell_type": "markdown",
   "id": "5b1b7016",
   "metadata": {},
   "source": [
    "### Creating a DataFrame using Dictionaries"
   ]
  },
  {
   "cell_type": "code",
   "execution_count": null,
   "id": "3b8ab5d5",
   "metadata": {},
   "outputs": [],
   "source": [
    "data = {\n",
    "    'Character': ['Mario', 'Donkey Kong', 'Dry Bones'],\n",
    "    'Car': ['Standard Kart', 'Flame Rider', 'Mini Beast']\n",
    "}\n",
    "\n",
    "mario_df = pd.DataFrame(data)\n",
    "\n",
    "display(mario_df)"
   ]
  },
  {
   "cell_type": "markdown",
   "id": "8fc4f1fc",
   "metadata": {},
   "source": [
    "#### Describe"
   ]
  },
  {
   "cell_type": "code",
   "execution_count": null,
   "id": "764768f5",
   "metadata": {},
   "outputs": [],
   "source": [
    "mario_df.describe()"
   ]
  },
  {
   "cell_type": "markdown",
   "id": "de8599ea",
   "metadata": {},
   "source": [
    "#### Len"
   ]
  },
  {
   "cell_type": "code",
   "execution_count": null,
   "id": "a3bc9734",
   "metadata": {},
   "outputs": [],
   "source": [
    "len(mario_df)"
   ]
  },
  {
   "cell_type": "markdown",
   "id": "00bb6aca",
   "metadata": {},
   "source": [
    "#### Return entire row/column"
   ]
  },
  {
   "cell_type": "code",
   "execution_count": null,
   "id": "545329bf",
   "metadata": {},
   "outputs": [],
   "source": [
    "mario_df.iloc[0, :]"
   ]
  },
  {
   "cell_type": "markdown",
   "id": "f84ad61e",
   "metadata": {},
   "source": [
    "#### Returning cell (1, 1)"
   ]
  },
  {
   "cell_type": "code",
   "execution_count": null,
   "id": "d3fce9f1",
   "metadata": {
    "scrolled": true
   },
   "outputs": [],
   "source": [
    "mario_df.iloc[1, 1]"
   ]
  },
  {
   "cell_type": "markdown",
   "id": "98c9034b",
   "metadata": {},
   "source": [
    "#### Adding column to end of DataFrame."
   ]
  },
  {
   "cell_type": "code",
   "execution_count": null,
   "id": "6b578097",
   "metadata": {},
   "outputs": [],
   "source": [
    "mario_df['Position'] = ['1st', '3rd', '2nd']\n",
    "mario_df"
   ]
  },
  {
   "cell_type": "markdown",
   "id": "54611ae8",
   "metadata": {},
   "source": [
    "#### Sorting by the place the characters came in ascending order."
   ]
  },
  {
   "cell_type": "code",
   "execution_count": null,
   "id": "4161df05",
   "metadata": {},
   "outputs": [],
   "source": [
    "mario_df_sorted = mario_df.sort_values(by='Position', ascending=True)\n",
    "display(mario_df_sorted)"
   ]
  },
  {
   "cell_type": "markdown",
   "id": "8fa716fd",
   "metadata": {},
   "source": [
    "#### Return the character who came in 3rd Place. "
   ]
  },
  {
   "cell_type": "code",
   "execution_count": null,
   "id": "bf5e2e0a",
   "metadata": {},
   "outputs": [],
   "source": [
    "third_place = mario_df[mario_df['Position'] == '3rd']['Character']\n",
    "third_place"
   ]
  },
  {
   "cell_type": "markdown",
   "id": "d9f54bf9",
   "metadata": {},
   "source": [
    "#### Character/s whose name starts with a D"
   ]
  },
  {
   "cell_type": "code",
   "execution_count": null,
   "id": "6f5e706a",
   "metadata": {},
   "outputs": [],
   "source": [
    "name_starting_with_D = mario_df[mario_df['Character'].str.startswith('D')]\n",
    "name_starting_with_D"
   ]
  },
  {
   "cell_type": "markdown",
   "id": "4b6ebf81",
   "metadata": {},
   "source": [
    "### Importing data from an Excel or CSV file"
   ]
  },
  {
   "cell_type": "code",
   "execution_count": null,
   "id": "5a54e265",
   "metadata": {
    "scrolled": true
   },
   "outputs": [],
   "source": [
    "excel_file_path = 'Monopoly Strategy.xlsx' #same location as notebook\n",
    "\n",
    "monopoly_df = pd.read_excel(excel_file_path)\n",
    "\n",
    "display(monopoly_df)"
   ]
  },
  {
   "cell_type": "markdown",
   "id": "b12d5ac4",
   "metadata": {},
   "source": [
    "## Loading Data"
   ]
  },
  {
   "cell_type": "markdown",
   "id": "db458cdf",
   "metadata": {},
   "source": [
    "#### Importing file from MFiles"
   ]
  },
  {
   "cell_type": "code",
   "execution_count": null,
   "id": "9cd933d8",
   "metadata": {
    "scrolled": false
   },
   "outputs": [],
   "source": [
    "from sea_calcs import MFiles\n",
    "mf = MFiles()\n",
    "tally = pd.read_excel(mf.stream_from_link('m-files://show/70242064-9A5B-41DB-89C6-20D3931E7974/0-485243?object=C15B393B-AFB7-4DF2-AB20-EBE2341CF240'), header=7)\n",
    "display(tally)"
   ]
  },
  {
   "cell_type": "markdown",
   "id": "b842740d",
   "metadata": {},
   "source": [
    "#### Dropping Columns"
   ]
  },
  {
   "cell_type": "code",
   "execution_count": null,
   "id": "64fdab16",
   "metadata": {
    "scrolled": true
   },
   "outputs": [],
   "source": [
    "tally = tally.drop(columns = [\"latitude (WGS84)\", \"longitude (WGS84)\"])\n",
    "display(tally)"
   ]
  },
  {
   "cell_type": "markdown",
   "id": "eef0f0bc",
   "metadata": {},
   "source": [
    "#### Dropping Duplicates"
   ]
  },
  {
   "cell_type": "code",
   "execution_count": null,
   "id": "949d073e",
   "metadata": {},
   "outputs": [],
   "source": [
    "df_dropped_duplicates = tally.drop_duplicates(subset=['Feature type'], keep='first')\n",
    "display(df_dropped_duplicates)"
   ]
  },
  {
   "cell_type": "markdown",
   "id": "88ef43be",
   "metadata": {},
   "source": [
    "#### First few/last few rows"
   ]
  },
  {
   "cell_type": "code",
   "execution_count": null,
   "id": "1310a709",
   "metadata": {},
   "outputs": [],
   "source": [
    "display(tally.head(5)) # First 5 rows"
   ]
  },
  {
   "cell_type": "code",
   "execution_count": null,
   "id": "bc3213b4",
   "metadata": {},
   "outputs": [],
   "source": [
    "display(tally.tail(5)) # Last 5 rows"
   ]
  },
  {
   "cell_type": "markdown",
   "id": "bc1b341c",
   "metadata": {},
   "source": [
    "#### Renaming Columns"
   ]
  },
  {
   "cell_type": "code",
   "execution_count": null,
   "id": "7d464f3d",
   "metadata": {
    "scrolled": true
   },
   "outputs": [],
   "source": [
    "tally.rename(columns = {'Max. depth': 'Maximum Depth'}, inplace=True)\n",
    "tally"
   ]
  },
  {
   "cell_type": "markdown",
   "id": "a0c8d47b",
   "metadata": {},
   "source": [
    "# Exercises"
   ]
  },
  {
   "cell_type": "markdown",
   "id": "bbde524b",
   "metadata": {},
   "source": [
    "## Exercise 1"
   ]
  },
  {
   "cell_type": "code",
   "execution_count": null,
   "id": "d6d787d2",
   "metadata": {},
   "outputs": [],
   "source": [
    "numbers = {'Column A': (1, 2, 3),\n",
    "       'Column B': (4, 5, 6),\n",
    "        'Column C': (7, 8, 9)}"
   ]
  },
  {
   "cell_type": "markdown",
   "id": "3c518092",
   "metadata": {},
   "source": [
    "a) Convert 'numbers' into a DataFrame"
   ]
  },
  {
   "cell_type": "code",
   "execution_count": null,
   "id": "d0f60207",
   "metadata": {},
   "outputs": [],
   "source": []
  },
  {
   "cell_type": "markdown",
   "id": "c83244f5",
   "metadata": {},
   "source": [
    "b) Return sum of the third row"
   ]
  },
  {
   "cell_type": "code",
   "execution_count": null,
   "id": "4c0a7dbd",
   "metadata": {},
   "outputs": [],
   "source": []
  },
  {
   "cell_type": "markdown",
   "id": "bdab1e2a",
   "metadata": {},
   "source": [
    "c) Sort by Column A in descending order."
   ]
  },
  {
   "cell_type": "code",
   "execution_count": null,
   "id": "b0935e96",
   "metadata": {
    "scrolled": false
   },
   "outputs": [],
   "source": []
  },
  {
   "cell_type": "markdown",
   "id": "10982051",
   "metadata": {},
   "source": [
    "## Exercise 2"
   ]
  },
  {
   "cell_type": "code",
   "execution_count": null,
   "id": "e05dee66",
   "metadata": {},
   "outputs": [],
   "source": [
    "data = {'Name': ['Harry', 'Louis', 'Liam', 'Niall', 'Zayn'],\n",
    "        'Age': [29, 32, 30, 30, 31],\n",
    "        'City': ['Redditch', 'Doncaster', 'Woverhampton', 'Mullingar', 'Bradford'],\n",
    "        'Net Worth (Million)': [120, 70, 60, 71, 75]}\n",
    "\n",
    "data_df = pd.DataFrame(data)"
   ]
  },
  {
   "cell_type": "markdown",
   "id": "979e59db",
   "metadata": {},
   "source": [
    "a) Find the average age of the invidiuals in the DataFrame"
   ]
  },
  {
   "cell_type": "code",
   "execution_count": null,
   "id": "a569d3b3",
   "metadata": {},
   "outputs": [],
   "source": []
  },
  {
   "cell_type": "markdown",
   "id": "7ea9dfde",
   "metadata": {},
   "source": [
    "b) Sort the DataFrame based on the 'Net Worth (Million)' column in descending order."
   ]
  },
  {
   "cell_type": "code",
   "execution_count": null,
   "id": "3d0617d9",
   "metadata": {},
   "outputs": [],
   "source": []
  },
  {
   "cell_type": "markdown",
   "id": "2d543c45",
   "metadata": {},
   "source": [
    "c) Filter individuals from cities starting with 'B'"
   ]
  },
  {
   "cell_type": "code",
   "execution_count": null,
   "id": "c396ccd0",
   "metadata": {},
   "outputs": [],
   "source": []
  },
  {
   "cell_type": "markdown",
   "id": "492138a4",
   "metadata": {},
   "source": [
    "## Exercise 3"
   ]
  },
  {
   "cell_type": "code",
   "execution_count": null,
   "id": "12bd93f7",
   "metadata": {},
   "outputs": [],
   "source": [
    "data = {'Product': ['Contour', 'Blush', 'Lipstick', 'Contour', 'Blush', 'Lipstick', 'Contour', 'Blush', 'Lipstick'],\n",
    "        'Price': [60, 30, 50, 45, 25, 55, 65, 20, 35],\n",
    "        'Quantity': [10, 15, 20, 8, 12, 18, 6, 10, 25],\n",
    "        'Brand': ['KKW Beauty', 'Kylie Cosmetics', 'KKW Beauty', 'Kylie Cosmetics', 'Rare', 'Rare', \n",
    "                  'KKW Beauty', 'Rare', 'Kylie Cosmetics']}\n",
    "\n",
    "product_df = pd.DataFrame(data)"
   ]
  },
  {
   "cell_type": "markdown",
   "id": "418084aa",
   "metadata": {},
   "source": [
    "a) Add a total revenue column (Price * Quantity)."
   ]
  },
  {
   "cell_type": "code",
   "execution_count": null,
   "id": "5ad0af4b",
   "metadata": {},
   "outputs": [],
   "source": []
  },
  {
   "cell_type": "markdown",
   "id": "08999557",
   "metadata": {},
   "source": [
    "b) Create a new column 'Discount Price' with 10% off the original price."
   ]
  },
  {
   "cell_type": "code",
   "execution_count": null,
   "id": "4c8c54eb",
   "metadata": {},
   "outputs": [],
   "source": []
  },
  {
   "cell_type": "markdown",
   "id": "c078c323",
   "metadata": {},
   "source": [
    "c) Filter the DataFrame to include only products with a quantity greater than 10."
   ]
  },
  {
   "cell_type": "code",
   "execution_count": null,
   "id": "14df27ea",
   "metadata": {},
   "outputs": [],
   "source": []
  },
  {
   "cell_type": "markdown",
   "id": "51188c64",
   "metadata": {},
   "source": [
    "### Solutions"
   ]
  },
  {
   "cell_type": "markdown",
   "id": "55c0426a",
   "metadata": {},
   "source": [
    "#### Exercise 1"
   ]
  },
  {
   "cell_type": "markdown",
   "id": "d04e8d73",
   "metadata": {},
   "source": [
    "a) numbers_df = pd.DataFrame(numbers)\n",
    "\n",
    "b) row_3 = numbers_df.iloc[2, :]\n",
    "\n",
    "    print(sum(row_3))\n",
    "\n",
    "c) numbers_df_sorted = numbers_df.sort_values(by='Column A', ascending=False)\n"
   ]
  },
  {
   "cell_type": "markdown",
   "id": "50d10c96",
   "metadata": {},
   "source": [
    "#### Exercise 2"
   ]
  },
  {
   "cell_type": "markdown",
   "id": "cc183a42",
   "metadata": {},
   "source": [
    "a) average_age = data_df['Age'].mean()\n",
    "\n",
    "b) df_sorted = data_df.sort_values(by='Net Worth (Million)', ascending=False)\n",
    "\n",
    "c) df_b_cities = data_df[data_df['City'].str.startswith('B')]\n"
   ]
  },
  {
   "cell_type": "markdown",
   "id": "50d37ee6",
   "metadata": {},
   "source": [
    "#### Exercise 3"
   ]
  },
  {
   "cell_type": "markdown",
   "id": "755c4010",
   "metadata": {},
   "source": [
    "a) product_df['Total Revenue'] = product_df['Price'] * product_df['Quantity']\n",
    "\n",
    "b) product_df['Discount Price'] = product_df['Price'] * 0.9\n",
    "\n",
    "c) df_quantity_greater_than_10 = product_df[product_df['Quantity'] > 10]"
   ]
  },
  {
   "cell_type": "code",
   "execution_count": null,
   "id": "581f1595",
   "metadata": {},
   "outputs": [],
   "source": []
  }
 ],
 "metadata": {
  "kernelspec": {
   "display_name": "Python 3 (ipykernel)",
   "language": "python",
   "name": "python3"
  },
  "language_info": {
   "codemirror_mode": {
    "name": "ipython",
    "version": 3
   },
   "file_extension": ".py",
   "mimetype": "text/x-python",
   "name": "python",
   "nbconvert_exporter": "python",
   "pygments_lexer": "ipython3",
   "version": "3.11.5"
  }
 },
 "nbformat": 4,
 "nbformat_minor": 5
}
