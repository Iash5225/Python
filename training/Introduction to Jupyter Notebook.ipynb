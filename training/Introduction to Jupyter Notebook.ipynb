{
 "cells": [
  {
   "cell_type": "markdown",
   "id": "96f08249",
   "metadata": {},
   "source": [
    "# Introduction to Jupyter Notebook"
   ]
  },
  {
   "cell_type": "markdown",
   "id": "bed9dff9",
   "metadata": {},
   "source": [
    "Jupyter Notebook is an open-source web application that allows you to create and share documents that contain live code, equations, visualizations, and narrative text. The name “Jupyter” comes from the core supported programming languages that it supports: Julia, Python, and R."
   ]
  },
  {
   "cell_type": "markdown",
   "id": "42498997",
   "metadata": {},
   "source": [
    "Functions on the top bar in Jupyter Notebook:\n",
    "\n",
    "1. **File**: This menu has options to create a new notebook, open an existing one, save the current notebook, make a copy of it, rename it, and download it in various formats including .ipynb (Jupyter Notebook), .py (Python), .html, .pdf, etc.\n",
    "\n",
    "2. **Edit**: This menu provides options for cut/copy/paste cells, delete cells, split and merge cells, move cells up or down, find and replace within the notebook, etc.\n",
    "\n",
    "3. **View**: This menu allows you to toggle the visibility of the header and toolbar, and the cell number and output.\n",
    "\n",
    "4. **Insert**: This menu has options to insert a new cell above or below the current cell.\n",
    "\n",
    "5. **Cell**: This menu provides cell operations like run, interrupt, and stop. It also has options to change the cell type and clear the output.\n",
    "\n",
    "6. **Kernel**: This menu allows you to connect to a different kernel (i.e., Python 2, Python 3, R, etc.), restart the kernel, reconnect to the kernel, shutdown the kernel, etc.\n",
    "\n",
    "---------------------\n",
    "The kernel in a Jupyter notebook is like the **brain** of an animal. Just as the brain processes information, makes decisions, and controls functions in an animal, the kernel executes the code, processes the data, and renders the output in a Jupyter notebook. \n",
    "\n",
    "If we were to compare it to a specific animal, consider the kernel as the **octopus's brain**. An octopus is known for its intelligence and problem-solving abilities. Similarly, the kernel can handle complex computations and manage multiple tasks efficiently. Also, just as an octopus uses its arms to interact with its environment, the kernel communicates with the notebook interface and performs operations based on the user's input.\n",
    "\n",
    "Remember, without the kernel (or the octopus's brain), the Jupyter notebook (or the octopus) wouldn't be able to function! 🐙\n",
    "\n",
    "-----------------------\n",
    "\n",
    "\n",
    "7. **Widgets**: This menu provides options for saving and clearing widget states.\n",
    "\n",
    "8. **Help**: This menu provides a series of helpful resources including a tour of Jupyter Notebook, a guide to using Markdown, keyboard shortcuts, and links to reference documentation for a number of relevant libraries (Python, NumPy, SciPy, Matplotlib, Pandas, etc.).\n",
    "\n",
    "Remember, the top bar is designed to provide quick access to a number of useful features, so it's worth taking the time to familiarize yourself with it."
   ]
  },
  {
   "cell_type": "markdown",
   "id": "cf5bb0e4",
   "metadata": {},
   "source": [
    "The bar below the top menu in Jupyter Notebook is called the **toolbar**:\n",
    "\n",
    "1. **Save Button (Floppy Disk Icon)**: This button saves the current state of your notebook.\n",
    "\n",
    "2. **+ Button**: This button adds a new cell below the currently active cell.\n",
    "\n",
    "3. **Cut, Copy, and Paste Buttons (Scissors, Two Pages, and Clipboard Icons)**: These buttons cut, copy, and paste the currently active cell respectively.\n",
    "\n",
    "4. **Up and Down Arrows**: These buttons move the currently active cell up or down.\n",
    "\n",
    "5. **Run Button (Play Icon)**: This button runs the currently active cell and moves to the next cell.\n",
    "\n",
    "6. **Stop Button (Square Icon)**: This button stops the execution of the currently running cell.\n",
    "\n",
    "7. **Refresh Button (Circular Arrow Icon)**: This button restarts the kernel, effectively clearing all the variables that were defined.\n",
    "\n",
    "8. **Fast-Forward Button**: This button restarts the kernel, and then re-runs the entire notebook.\n",
    "\n",
    "9. **Cell Type Dropdown**: This dropdown allows you to change the type of the cell.\n",
    "\n",
    "In a Jupyter notebook, there are three types of cells:\n",
    "\n",
    "* **Code Cells**: These cells contain code to be executed by the kernel. The programming language used depends on the kernel, and the default kernel (IPython) runs Python code.\n",
    "\n",
    "* **Markdown Cells**: These cells contain text formatted using markdown and are used to document the computational process in a literate way.\n",
    "\n",
    "* **Raw Cells**: These cells are not evaluated by the notebook. Raw cells could potentially be used to write output directly.\n",
    "\n",
    "You can change the cell type in your Jupyter notebook by clicking on the cell to select it, then selecting the desired cell type from the dropdown menu in the toolbar. For example, if you want to change a cell to Markdown, you would select \"Markdown\" from the dropdown menu. If you want to change a cell to code, you would select \"Code\". \n",
    "\n",
    "Remember, using the right cell type for the right task can make your Jupyter notebook more organized and easier to read.\n",
    "\n",
    "--------------\n",
    "# How to make headings?\n",
    "## How to make headings?\n",
    "### How to make headings?\n",
    "#### How to make headings?\n",
    "\n",
    "Remember, these toolbar options provide shortcuts for the most commonly used operations while working with Jupyter Notebooks, making your workflow more efficient."
   ]
  },
  {
   "cell_type": "markdown",
   "id": "67b5ce97",
   "metadata": {},
   "source": [
    "# Shortcuts and General Use of Jupyter"
   ]
  },
  {
   "cell_type": "markdown",
   "id": "6df52f42",
   "metadata": {},
   "source": [
    "### 1. Command Mode and Edit Mode\n",
    "In Jupyter, there are two main modes you can be in. Command mode is when the box around the code is blue, and edit mode is when the box around a block of code is green. In command mode, you can do things to the blocks of code as a whole, such as copying the entire block. In edit mode, you edit the letters/numbers of the code itself."
   ]
  },
  {
   "cell_type": "markdown",
   "id": "abe0ac22",
   "metadata": {},
   "source": [
    "https://towardsdatascience.com/optimizing-jupyter-notebook-tips-tricks-and-nbextensions-26d75d502663"
   ]
  },
  {
   "cell_type": "markdown",
   "id": "0bc29c57",
   "metadata": {},
   "source": [
    "#### Exercise 1.1 - using edit mode\n",
    "Click on the code block below. You will see it will outline in green, which means you are in edit mode. Use your keyboard to add an exclamation mark to the end of it."
   ]
  },
  {
   "cell_type": "code",
   "execution_count": 1,
   "id": "100a11c3",
   "metadata": {},
   "outputs": [],
   "source": [
    "#click here"
   ]
  },
  {
   "cell_type": "markdown",
   "id": "13d6461b",
   "metadata": {},
   "source": [
    "### Command mode operations\n",
    "To change into command mode, you can click somewhere else, outside of the block of code, or you can press esc\n",
    "\n",
    "There are helpful things you can do in command mode, such as:\n",
    "- press h for help (for more shortcuts)\n",
    "- adding and removing code blocks\n",
    "    - a = add block above\n",
    "    - b = add block below\n",
    "    - d d = delete block\n",
    "    - c = copy block\n",
    "    - x = cut block\n",
    "    - v = paste block\n",
    "\n",
    "#### exercise 1.2 - using command mode\n",
    "Add a code block below.\\\n",
    "hint: make sure you are in command mode first\\\n",
    "Then, copy the \"click here!\" code block that you edited earlier and paste it below the empty block of code you created.\\\n",
    "Next, delete the empty block of code."
   ]
  },
  {
   "cell_type": "code",
   "execution_count": 2,
   "id": "21d01b14",
   "metadata": {},
   "outputs": [],
   "source": [
    "#add a code block below this one"
   ]
  },
  {
   "cell_type": "markdown",
   "id": "edc66c05",
   "metadata": {},
   "source": [
    "Now, let's learn how to run code (i.e to make your code do the thing you wrote)\n",
    "\n",
    "- shift + enter = run code and move to the next block. if you are at the end of the code, it will add a new block. \n",
    "- OR you can click run (which is located at the top of the notebook, under the word \"cell\")\n",
    "\n",
    "To the left of the code block, you have probably noticed In []: . When you run a code block, you will see a number appear in the square brackets, which will tell you which order you have run your code in. For example, In [1]: means it is the 1st block of code that has been run. \\\n",
    "In some cases, when you run code, there will be an Out []. This means that jupyter has given you an output for your code.\n",
    "\n",
    "#### exercise 1.3 - running a block of code\n",
    "Run the block of code below. "
   ]
  },
  {
   "cell_type": "code",
   "execution_count": 3,
   "id": "9e8ec123",
   "metadata": {},
   "outputs": [
    {
     "data": {
      "text/plain": [
       "16"
      ]
     },
     "execution_count": 3,
     "metadata": {},
     "output_type": "execute_result"
    }
   ],
   "source": [
    "2*8"
   ]
  },
  {
   "cell_type": "markdown",
   "id": "d82b4ec5",
   "metadata": {},
   "source": [
    "#### Good coding pracitces \n",
    "src/sea-calcs/reference -> Notebook Good Practices"
   ]
  },
  {
   "cell_type": "markdown",
   "id": "93c750cd",
   "metadata": {},
   "source": [
    "### Quick talk about chatgpt and other AIs "
   ]
  },
  {
   "cell_type": "code",
   "execution_count": 4,
   "id": "eedd2711",
   "metadata": {},
   "outputs": [],
   "source": [
    "# Thanks :)) "
   ]
  },
  {
   "attachments": {},
   "cell_type": "markdown",
   "id": "59433774",
   "metadata": {},
   "source": [
    "<!-- ![image.png](attachment:image.png) -->"
   ]
  }
 ],
 "metadata": {
  "kernelspec": {
   "display_name": "Python 3 (ipykernel)",
   "language": "python",
   "name": "python3"
  },
  "language_info": {
   "codemirror_mode": {
    "name": "ipython",
    "version": 3
   },
   "file_extension": ".py",
   "mimetype": "text/x-python",
   "name": "python",
   "nbconvert_exporter": "python",
   "pygments_lexer": "ipython3",
   "version": "3.11.5"
  }
 },
 "nbformat": 4,
 "nbformat_minor": 5
}
