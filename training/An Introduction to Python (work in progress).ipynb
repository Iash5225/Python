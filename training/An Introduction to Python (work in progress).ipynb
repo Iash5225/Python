{
 "cells": [
  {
   "cell_type": "markdown",
   "id": "6779b08c",
   "metadata": {},
   "source": [
    "# Introduction to Python\n",
    "#### Created by Jade Alcock from 30/11/2022 - "
   ]
  },
  {
   "cell_type": "markdown",
   "id": "d98639e2",
   "metadata": {},
   "source": [
    "Welcome! Python may seem a little intimidating at the start but take your time, learn by practicing and remember everyone around you will be happy to help.\\\n",
    "If you accidentally double click on some text and the format goes all weird, just press shift and enter :)\\\n",
    "Good luck and have fun\n",
    "  "
   ]
  },
  {
   "cell_type": "markdown",
   "id": "036686e9",
   "metadata": {
    "heading_collapsed": true
   },
   "source": [
    "## Table of Contents:\n",
    "1. Shortcuts and General Use of Jupyter <br>\n",
    "2. Basic Commands and Operations <br> \n",
    "3. Types of Variables <br>\n",
    "4. Data Structures and Accessing Variables <br>\n",
    "5. Control Flow <br>\n",
    "6. Functions <br>\n",
    "7. Importing Packages <br>\n",
    "8. Numpy and Vectorisation <br>\n",
    "9. Importing data (CSV, JSON, XLSX) <br>\n",
    "10. DataFrames (Pandas) <br>\n",
    "11. Visualisations (Matplotlib) <br>\n",
    "12. Data Base (SQLAlchemy) <br>\n",
    "13. Classes <br>\n",
    "14. SEA - Specific Training <br>"
   ]
  },
  {
   "cell_type": "markdown",
   "id": "82e69e1a",
   "metadata": {
    "heading_collapsed": true
   },
   "source": [
    "# Section 1: Shortcuts and General Use of Jupyter"
   ]
  },
  {
   "cell_type": "markdown",
   "id": "0eb74f64",
   "metadata": {
    "hidden": true
   },
   "source": [
    "https://towardsdatascience.com/optimizing-jupyter-notebook-tips-tricks-and-nbextensions-26d75d502663\n",
    "\n",
    "### Command Mode and Edit Mode\n",
    "In Jupyter, there are two main modes you can be in. Command mode is when the box around the code is blue, and edit mode is when the box around a block of code is green. In command mode, you can do things to the blocks of code as a whole, such as copying the entire block. In edit mode, you edit the letters/numbers of the code itself. \n",
    "\n",
    "#### Exercise 1.1 - using edit mode\n",
    "Click on the code block below. You will see it will outline in green, which means you are in edit mode. Use your keyboard to add an exclamation mark to the end of it. "
   ]
  },
  {
   "cell_type": "code",
   "execution_count": 3,
   "id": "26271c8d",
   "metadata": {
    "hidden": true
   },
   "outputs": [],
   "source": [
    "#click here"
   ]
  },
  {
   "cell_type": "markdown",
   "id": "52da4361",
   "metadata": {
    "hidden": true
   },
   "source": [
    "### Command mode operations\n",
    "To change into command mode, you can click somewhere else, outside of the block of code, or you can press esc\n",
    "\n",
    "There are helpful things you can do in command mode, such as:\n",
    "- press h for help (for more shortcuts)\n",
    "- adding and removing code blocks\n",
    "    - a = add block above\n",
    "    - b = add block below\n",
    "    - d d = delete block\n",
    "    - c = copy block\n",
    "    - x = cut block\n",
    "    - v = paste block\n",
    "\n",
    "#### exercise 1.2 - using command mode\n",
    "Add a code block below.\\\n",
    "hint: make sure you are in command mode first\\\n",
    "Then, copy the \"click here!\" code block that you edited earlier and paste it below the empty block of code you created.\\\n",
    "Next, delete the empty block of code."
   ]
  },
  {
   "cell_type": "code",
   "execution_count": 5,
   "id": "3b03ab16",
   "metadata": {
    "hidden": true
   },
   "outputs": [],
   "source": [
    "#add a code block below this one"
   ]
  },
  {
   "cell_type": "markdown",
   "id": "c7564b7d",
   "metadata": {
    "hidden": true
   },
   "source": [
    "Now, let's learn how to run code (i.e to make your code do the thing you wrote)\n",
    "\n",
    "- shift + enter = run code and move to the next block. if you are at the end of the code, it will add a new block. \n",
    "- OR you can click run (which is located at the top of the notebook, under the word \"cell\")\n",
    "\n",
    "To the left of the code block, you have probably noticed In []: . When you run a code block, you will see a number appear in the square brackets, which will tell you which order you have run your code in. For example, In [1]: means it is the 1st block of code that has been run. \\\n",
    "In some cases, when you run code, there will be an Out []. This means that jupyter has given you an output for your code.\n",
    "\n",
    "#### exercise 1.3 - running a block of code\n",
    "Run the block of code below. "
   ]
  },
  {
   "cell_type": "code",
   "execution_count": 30,
   "id": "cd1530c1",
   "metadata": {
    "hidden": true
   },
   "outputs": [
    {
     "data": {
      "text/plain": [
       "16"
      ]
     },
     "execution_count": 30,
     "metadata": {},
     "output_type": "execute_result"
    }
   ],
   "source": [
    "2*8"
   ]
  },
  {
   "cell_type": "markdown",
   "id": "f706aa5c",
   "metadata": {
    "heading_collapsed": true
   },
   "source": [
    "# Section 2: Basic Commands and Operations"
   ]
  },
  {
   "cell_type": "markdown",
   "id": "a9e10471",
   "metadata": {
    "hidden": true
   },
   "source": [
    "From here on, everything is done in edit mode."
   ]
  },
  {
   "cell_type": "markdown",
   "id": "c1738928",
   "metadata": {
    "hidden": true
   },
   "source": [
    "## 2.1. Basic Commands\n",
    "- **#** = a comment. You put this hash at the start of the line of code, in front of whatever letters or numbers you want, and python will know not to run it as code. Alternatively, when you are typing on a line of code, you can press ctrl + / and it will turn the whole line into a comment.\n",
    "- print(\"  \") = the output will be whatever you have inside the brackets. i.e print(\"I love coding 10x more than you) will have an output --> I love coding 10x more than you. \n",
    "- \"=\" = will become equal to. i.e a=b means that a will be defined as b "
   ]
  },
  {
   "cell_type": "markdown",
   "id": "d1ed7865",
   "metadata": {
    "hidden": true
   },
   "source": [
    "#### Exercise 2.1 - basic commands\n",
    "Create an empty block of code. \n",
    "In this block of code, make the letter x become equal to 2.\\\n",
    "Then, print x. Make sure to type this on the next line by pressing enter. You will see that the output is 2.\\\n",
    "Comment \"success!\" once you have done this."
   ]
  },
  {
   "cell_type": "code",
   "execution_count": null,
   "id": "80a3717a",
   "metadata": {
    "hidden": true
   },
   "outputs": [],
   "source": []
  },
  {
   "cell_type": "code",
   "execution_count": null,
   "id": "2fc789b9",
   "metadata": {},
   "outputs": [],
   "source": []
  },
  {
   "cell_type": "markdown",
   "id": "059f0e08",
   "metadata": {},
   "source": [
    "## 2.2. Comparison Operators\n",
    "Comparison operators in Python are used to compare values and determine the relationship between them. These operators return a Boolean value (True or False) based on the comparison result.\n",
    "\n",
    "\n",
    "Equality (==)\n",
    "Inequality (!=)\n",
    "Greater Than (>), Less Than (<)\n",
    "Greater Than or Equal To (>=), Less Than or Equal To (<=)"
   ]
  },
  {
   "cell_type": "code",
   "execution_count": 14,
   "id": "19562e16",
   "metadata": {},
   "outputs": [
    {
     "data": {
      "text/plain": [
       "True"
      ]
     },
     "execution_count": 14,
     "metadata": {},
     "output_type": "execute_result"
    }
   ],
   "source": [
    "a = 5\n",
    "b = 9\n",
    "b>a"
   ]
  },
  {
   "attachments": {
    "image.png": {
     "image/png": "[encoded data removed]"
    }
   },
   "cell_type": "markdown",
   "id": "71e1bd14",
   "metadata": {
    "hidden": true
   },
   "source": [
    "## 2.3. Basic Operations and Symbols\n",
    "\n",
    "![image.png](attachment:image.png)\n",
    "Some definitions about the name of the operators\n",
    "- modulus will give you the remainder when x is divided by y e.g 5%3 = 2\n",
    "- floor division divides x by y but will only give you a whole number, and will round down e.g 11//3 = 3"
   ]
  },
  {
   "cell_type": "markdown",
   "id": "1dba87ea",
   "metadata": {
    "hidden": true
   },
   "source": [
    "#### Exercise 2.3 - basic operations\n",
    "Set x equal to 6 and y equal to 4, do all operations in the table. Make sure you create a new block of code for each operation. See if you can predict the answers to each of them before you run the code."
   ]
  },
  {
   "cell_type": "code",
   "execution_count": 29,
   "id": "8dc6e551",
   "metadata": {
    "hidden": true
   },
   "outputs": [],
   "source": [
    "# complete all operations in blocks below this"
   ]
  },
  {
   "cell_type": "markdown",
   "id": "4bb47f06",
   "metadata": {
    "heading_collapsed": true
   },
   "source": [
    "# Section 3: Types of Variables"
   ]
  },
  {
   "attachments": {
    "image.png": {
     "image/png": "[encoded data removed]"
    }
   },
   "cell_type": "markdown",
   "id": "2ef6a753",
   "metadata": {
    "hidden": true
   },
   "source": [
    "The figure below shows the required variable types \n",
    "![image.png](attachment:image.png)"
   ]
  },
  {
   "cell_type": "markdown",
   "id": "e6c06ab9",
   "metadata": {
    "hidden": true
   },
   "source": [
    "#### Exercise 3.1 - creating types of variables\n",
    "Firstly, make **a** equal your age.<br>\n",
    "Secondly, make **b** equal your height in m.<br> Thirdly, make **c** equal your name.<br> Fourthly, make **d** equal True if you like python so far and False if you do not :(.<br>\n",
    "Finally, print a, b, c, and d. Make sure each new thing is on a new line of code, but it can all be in the same block. "
   ]
  },
  {
   "cell_type": "code",
   "execution_count": 2,
   "id": "4f6cdde5",
   "metadata": {
    "hidden": true
   },
   "outputs": [],
   "source": [
    "# complete exercise 3.1 below this block"
   ]
  },
  {
   "cell_type": "code",
   "execution_count": null,
   "id": "21bae2e8",
   "metadata": {},
   "outputs": [],
   "source": []
  },
  {
   "cell_type": "markdown",
   "id": "7a7d1beb",
   "metadata": {},
   "source": [
    "#### Exercise 3.2 - creating types of variables\n",
    "Set a to an integer   \n",
    "set b to a float  \n",
    "show that a and b are integers and floats using the type(var) function"
   ]
  },
  {
   "cell_type": "code",
   "execution_count": null,
   "id": "d9e666d0",
   "metadata": {},
   "outputs": [],
   "source": []
  },
  {
   "cell_type": "markdown",
   "id": "645d8141",
   "metadata": {},
   "source": [
    "#### Exercise 3.2 - string concatenation\n",
    "\n",
    "\n",
    "set variable n to \"first part of sentence\"\n",
    "set variable m to \"second part of sentence\"\n",
    "set variable y to 'random string'\n",
    "\n",
    "print the sentence \"This is the first part of the sentence, here is a random string, this is the second part of the sentence\"\n"
   ]
  },
  {
   "cell_type": "code",
   "execution_count": 9,
   "id": "0dc67a43",
   "metadata": {},
   "outputs": [
    {
     "name": "stdout",
     "output_type": "stream",
     "text": [
      "I went to the park today\n"
     ]
    }
   ],
   "source": [
    "#example \n",
    "a = 'park'\n",
    "sentence = \"I went to the {} today\".format(a)\n",
    "\n",
    "print(sentence)\n"
   ]
  },
  {
   "cell_type": "code",
   "execution_count": null,
   "id": "61311017",
   "metadata": {},
   "outputs": [],
   "source": []
  },
  {
   "cell_type": "markdown",
   "id": "2a009e49",
   "metadata": {},
   "source": [
    "# Section 4: Data Structures and Accessing Variables"
   ]
  },
  {
   "cell_type": "markdown",
   "id": "d94a2c19",
   "metadata": {},
   "source": [
    "## 4.1. Lists"
   ]
  },
  {
   "cell_type": "markdown",
   "id": "0e462528",
   "metadata": {},
   "source": [
    "**Description**<br>\n",
    "A mutable, ordered collection of items that allows duplicate elements. Items can be of different types and are accessed by indices.\n",
    "\n",
    "Key Characteristics:\n",
    "- General purpose\n",
    "- Most widely used data structure \n",
    "- Grow and shrink size as needed\n",
    "- Sequence type\n",
    "- Sortable  \n",
    "\n",
    "Use a List when:\n",
    " - You need an ordered collection of items.\n",
    " - You want to store a collection of items that may contain duplicates.\n",
    " - You need to frequently add, remove, or modify elements in the collection.\n",
    " - You might want to perform operations like sorting or iterating in that order.\n",
    "\n"
   ]
  },
  {
   "cell_type": "code",
   "execution_count": 1,
   "id": "38064435",
   "metadata": {},
   "outputs": [
    {
     "name": "stdout",
     "output_type": "stream",
     "text": [
      "[0, 1, 2, 3, 4, 5, 6, 7]\n",
      "[25, 36, 49, 64, 81]\n"
     ]
    }
   ],
   "source": [
    "# Types\n",
    "x = list()\n",
    "y = ['a', 25, 'dog', 8.43]\n",
    "tuple1 = (10, 20)\n",
    "z = list(tuple1)\n",
    "\n",
    "# list comprehension\n",
    "a = [m for m in range(8)]\n",
    "print(a)\n",
    "b = [i**2 for i in range(10) if i>4]\n",
    "print(b)"
   ]
  },
  {
   "cell_type": "code",
   "execution_count": 2,
   "id": "5b731a07",
   "metadata": {},
   "outputs": [
    {
     "name": "stdout",
     "output_type": "stream",
     "text": [
      "[5, 8, 6]\n"
     ]
    }
   ],
   "source": [
    "# delete\n",
    "x = [5, 3, 8, 6]\n",
    "del(x[1])\n",
    "print(x)"
   ]
  },
  {
   "cell_type": "code",
   "execution_count": 3,
   "id": "b6f97b58",
   "metadata": {},
   "outputs": [
    {
     "name": "stdout",
     "output_type": "stream",
     "text": [
      "[5, 3, 8, 6, 7]\n"
     ]
    }
   ],
   "source": [
    "# append\n",
    "x = [5, 3, 8, 6]\n",
    "x.append(7)\n",
    "print(x)"
   ]
  },
  {
   "cell_type": "code",
   "execution_count": 4,
   "id": "183c9874",
   "metadata": {},
   "outputs": [
    {
     "name": "stdout",
     "output_type": "stream",
     "text": [
      "[5, 3, 8, 6, 12, 13]\n"
     ]
    }
   ],
   "source": [
    "# Extend a sequence\n",
    "x = [5, 3, 8, 6]\n",
    "y = [12, 13]\n",
    "x.extend(y)\n",
    "print(x)"
   ]
  },
  {
   "cell_type": "code",
   "execution_count": 5,
   "id": "7efd1e5e",
   "metadata": {},
   "outputs": [
    {
     "name": "stdout",
     "output_type": "stream",
     "text": [
      "[5, 7, 3, 8, 6]\n"
     ]
    }
   ],
   "source": [
    "# insert\n",
    "x = [5, 3, 8, 6]\n",
    "x.insert(1, 7)\n",
    "print(x)"
   ]
  },
  {
   "cell_type": "code",
   "execution_count": 7,
   "id": "b74d32bc",
   "metadata": {},
   "outputs": [
    {
     "name": "stdout",
     "output_type": "stream",
     "text": [
      "[3, 8, 6]\n",
      "5\n"
     ]
    }
   ],
   "source": [
    "# pop items\n",
    "x = [5, 3, 8, 6]\n",
    "a = x.pop(0)    # pop off the 6\n",
    "print(x)\n",
    "print(a)"
   ]
  },
  {
   "cell_type": "code",
   "execution_count": 9,
   "id": "72c6a1f6",
   "metadata": {},
   "outputs": [
    {
     "name": "stdout",
     "output_type": "stream",
     "text": [
      "[5, 1, 8, 3]\n"
     ]
    }
   ],
   "source": [
    "# x = [5, 3, 8, 6, 3]\n",
    "x = [5, 1, 8, 3, 3]\n",
    "x.remove(3)\n",
    "print(x)"
   ]
  },
  {
   "cell_type": "code",
   "execution_count": 10,
   "id": "fa80ac7d",
   "metadata": {},
   "outputs": [
    {
     "name": "stdout",
     "output_type": "stream",
     "text": [
      "[6, 8, 3, 5]\n"
     ]
    }
   ],
   "source": [
    "# reverse\n",
    "x = [5, 3, 8, 6]\n",
    "x.reverse()\n",
    "print(x)"
   ]
  },
  {
   "cell_type": "code",
   "execution_count": 11,
   "id": "2a2e93e8",
   "metadata": {},
   "outputs": [
    {
     "name": "stdout",
     "output_type": "stream",
     "text": [
      "g\n"
     ]
    },
    {
     "data": {
      "text/plain": [
       "['pig', 2, 2.0]"
      ]
     },
     "execution_count": 11,
     "metadata": {},
     "output_type": "execute_result"
    }
   ],
   "source": [
    "# string\n",
    "x = 'frog'\n",
    "print (x[3])\n",
    "\n",
    "# list\n",
    "x = ['pig', 2, 2.0]\n",
    "x"
   ]
  },
  {
   "cell_type": "code",
   "execution_count": 17,
   "id": "0a89db4b",
   "metadata": {},
   "outputs": [
    {
     "name": "stdout",
     "output_type": "stream",
     "text": [
      "[3, 5, 6, 8]\n"
     ]
    }
   ],
   "source": [
    "# sort\n",
    "x = [5, 3, 8, 6]\n",
    "x.sort(reverse=False)\n",
    "print(x)"
   ]
  },
  {
   "cell_type": "code",
   "execution_count": 15,
   "id": "e8eb858b",
   "metadata": {},
   "outputs": [
    {
     "data": {
      "text/plain": [
       "['pig', 'cow', 'horse']"
      ]
     },
     "execution_count": 15,
     "metadata": {},
     "output_type": "execute_result"
    }
   ],
   "source": [
    "# concat\n",
    "y = ['pig', 'cow'] + ['horse']\n",
    "y"
   ]
  },
  {
   "cell_type": "code",
   "execution_count": 18,
   "id": "3028a436",
   "metadata": {},
   "outputs": [
    {
     "data": {
      "text/plain": [
       "[8, 5, 8, 5, 8, 5]"
      ]
     },
     "execution_count": 18,
     "metadata": {},
     "output_type": "execute_result"
    }
   ],
   "source": [
    "# multiply\n",
    "x = [8, 5] * 3\n",
    "x"
   ]
  },
  {
   "cell_type": "code",
   "execution_count": 21,
   "id": "fe9d7fa0",
   "metadata": {},
   "outputs": [
    {
     "name": "stdout",
     "output_type": "stream",
     "text": [
      "False\n"
     ]
    }
   ],
   "source": [
    "# Membership\n",
    "y = ['pig', 'cow', 'horse']\n",
    "print('dog' in y)"
   ]
  },
  {
   "cell_type": "code",
   "execution_count": 22,
   "id": "2dc7781a",
   "metadata": {},
   "outputs": [
    {
     "name": "stdout",
     "output_type": "stream",
     "text": [
      "7\n",
      "8\n",
      "3\n"
     ]
    }
   ],
   "source": [
    "# Iterating\n",
    "x = [7, 8, 3]\n",
    "for item in x:\n",
    "    print(item)"
   ]
  },
  {
   "cell_type": "code",
   "execution_count": 23,
   "id": "4caf2e97",
   "metadata": {},
   "outputs": [
    {
     "name": "stdout",
     "output_type": "stream",
     "text": [
      "3\n"
     ]
    }
   ],
   "source": [
    "# number of items\n",
    "y = ['pig', 'cow', 'horse']\n",
    "print(len(y))"
   ]
  },
  {
   "cell_type": "code",
   "execution_count": 26,
   "id": "6e9efb63",
   "metadata": {},
   "outputs": [
    {
     "name": "stdout",
     "output_type": "stream",
     "text": [
      "cow\n",
      "pig\n"
     ]
    }
   ],
   "source": [
    "# min\n",
    "y = ['pig', 'cow', 'horse']\n",
    "print(min(y))\n",
    "print(max(y))"
   ]
  },
  {
   "cell_type": "code",
   "execution_count": 27,
   "id": "ea34c92d",
   "metadata": {},
   "outputs": [
    {
     "name": "stdout",
     "output_type": "stream",
     "text": [
      "27\n"
     ]
    }
   ],
   "source": [
    "# sum\n",
    "y = [2, 5, 8, 12]\n",
    "print(sum(y))"
   ]
  },
  {
   "cell_type": "code",
   "execution_count": 28,
   "id": "043eefcb",
   "metadata": {},
   "outputs": [
    {
     "name": "stdout",
     "output_type": "stream",
     "text": [
      "['cow', 'horse', 'pig']\n"
     ]
    }
   ],
   "source": [
    "# sort\n",
    "y = ['pig', 'cow', 'horse']\n",
    "print(sorted(y))"
   ]
  },
  {
   "cell_type": "code",
   "execution_count": 29,
   "id": "3178de74",
   "metadata": {},
   "outputs": [
    {
     "name": "stdout",
     "output_type": "stream",
     "text": [
      "2\n"
     ]
    }
   ],
   "source": [
    "# count\n",
    "y = ['pig', 'cow', 'horse', 'cow']\n",
    "print(y.count('cow'))"
   ]
  },
  {
   "cell_type": "code",
   "execution_count": 30,
   "id": "5ed1ff12",
   "metadata": {},
   "outputs": [
    {
     "name": "stdout",
     "output_type": "stream",
     "text": [
      "2\n",
      "1\n"
     ]
    }
   ],
   "source": [
    "# index\n",
    "x = 'hippo'\n",
    "print(x.index('p'))\n",
    "\n",
    "y = ['pig', 'cow', 'horse', 'cow']\n",
    "print(y.index('cow'))"
   ]
  },
  {
   "cell_type": "markdown",
   "id": "f4a52478",
   "metadata": {},
   "source": [
    "## 4.2. Tuples"
   ]
  },
  {
   "cell_type": "markdown",
   "id": "4e17763b",
   "metadata": {},
   "source": [
    "**Description**\n",
    "\n",
    "An immutable, ordered collection of items that allows duplicates. Like lists, tuples can contain elements of different types, but they cannot be changed after creation.\n",
    "\n",
    "Key Characteristics:\n",
    "- Immutable (can’t add/change)\n",
    "- Useful for fixed data\n",
    "- Faster than Lists\n",
    "- Sequence type  \n",
    "\n",
    "Use a Tuple when:\n",
    " - You require an ordered collection like a list, but you do not need to modify it after creation (immutability).\n",
    " - You want to ensure the data cannot be changed accidentally, which is useful for fixed data like coordinates, RGB color values, etc.\n",
    " - You are using data structures that require immutable objects, like keys in dictionaries or elements in sets."
   ]
  },
  {
   "cell_type": "code",
   "execution_count": 31,
   "id": "9794fc25",
   "metadata": {},
   "outputs": [
    {
     "name": "stdout",
     "output_type": "stream",
     "text": [
      "(2,) <class 'tuple'>\n",
      "(2, 4, 6) <class 'tuple'>\n"
     ]
    }
   ],
   "source": [
    "# creating data structure \n",
    "x = ()\n",
    "x = (1, 2, 3)\n",
    "x = 1, 2, 3\n",
    "x = 2,    # the comma tells Python it's a tuple\n",
    "print(x, type(x))\n",
    "\n",
    "list1 = [2, 4, 6]\n",
    "x = tuple(list1)\n",
    "print(x, type(x))"
   ]
  },
  {
   "cell_type": "code",
   "execution_count": 33,
   "id": "44d410c6",
   "metadata": {},
   "outputs": [
    {
     "name": "stdout",
     "output_type": "stream",
     "text": [
      "(1, 2, 3)\n",
      "([1], 3)\n"
     ]
    }
   ],
   "source": [
    "x = (1, 2, 3)\n",
    "# del(x[1])       # fails\n",
    "# x[1] = 8        # fails\n",
    "print(x)\n",
    "\n",
    "y = ([1, 2], 3)   # a tuple where the first item is a list\n",
    "del(y[0][1])      # delete the 2\n",
    "print(y)          # the list within the tuple is mutable"
   ]
  },
  {
   "cell_type": "markdown",
   "id": "d34cf02f",
   "metadata": {},
   "source": [
    "## 4.4. Sets\n",
    "\n",
    "An unordered collection of unique items. Sets are mutable, but they do not allow duplicate elements and do not support indexing.\n",
    "\n",
    "Key Characteristics:\n",
    "- Store non-duplicate items  \n",
    "- Very fast access vs Lists  \n",
    "- Math Set ops (union, intersect)  \n",
    "- Sets are Unordered  \n",
    "\n",
    "You need to ensure all elements are unique and you want to prevent duplicates.\n",
    " - The order of elements is not important.\n",
    " - You need to perform set operations like union, intersection, difference, etc.\n",
    " - You want to efficiently check for membership (i.e., whether an item is present in the collection) as sets are optimized for fast membership tests."
   ]
  },
  {
   "cell_type": "code",
   "execution_count": 35,
   "id": "ac0a51a0",
   "metadata": {},
   "outputs": [
    {
     "name": "stdout",
     "output_type": "stream",
     "text": [
      "{3, 5, 6}\n",
      "set()\n",
      "{2, 3, 4}\n"
     ]
    }
   ],
   "source": [
    "# Creating the data strucutre\n",
    "x = {3, 5, 6, 5}\n",
    "print(x)\n",
    "\n",
    "y = set()\n",
    "print(y)\n",
    "\n",
    "list1 = [2, 3, 4]\n",
    "z = set(list1)\n",
    "print(z)"
   ]
  },
  {
   "cell_type": "code",
   "execution_count": 36,
   "id": "dc787802",
   "metadata": {},
   "outputs": [
    {
     "name": "stdout",
     "output_type": "stream",
     "text": [
      "{8, 3, 5}\n",
      "{8, 3, 5, 7}\n",
      "{8, 5, 7}\n",
      "3\n",
      "True\n",
      "8 {5, 7}\n",
      "set()\n"
     ]
    }
   ],
   "source": [
    "# set operations\n",
    "\n",
    "x = {3, 8, 5}\n",
    "print(x)\n",
    "x.add(7)\n",
    "print(x)\n",
    "\n",
    "x.remove(3)\n",
    "print(x)\n",
    "\n",
    "# get length of set x\n",
    "print(len(x))\n",
    "\n",
    "# check membership in x\n",
    "print(5 in x)\n",
    "\n",
    "# pop random item from set x\n",
    "print(x.pop(), x)\n",
    "\n",
    "# delete all items from set x\n",
    "x.clear()\n",
    "print(x)"
   ]
  },
  {
   "cell_type": "code",
   "execution_count": 38,
   "id": "e293bb71",
   "metadata": {},
   "outputs": [
    {
     "name": "stdout",
     "output_type": "stream",
     "text": [
      "{1, 2}\n",
      "{1, 2, 3}\n",
      "{3}\n",
      "{3}\n",
      "False\n",
      "True\n"
     ]
    }
   ],
   "source": [
    "# Math set operations\n",
    "\n",
    "s1 = {1, 2, 3}\n",
    "s2 = {3, 4, 5}\n",
    "# s2 = {1, 2}\n",
    "print(s1 & s2)  # intersection (AND): set1 & set2  \n",
    "print(s1 | s2)  # union (OR): set1 | set1  \n",
    "print(s1 ^ s2)  # symmetric difference (XOR): set1 ^ set2\n",
    "print(s1 - s2)  # difference (in set1 but not set2): set1 - set2  \n",
    "print(s1 <= s2) # subset (set2 contains set1): set1 <= set2  \n",
    "print(s1 >= s2) # superset (set1 contains set2): set1 >= set2"
   ]
  },
  {
   "cell_type": "markdown",
   "id": "d22f08ac",
   "metadata": {},
   "source": [
    "## 4.3. Dictionaries\n",
    "\n",
    " A mutable, unordered collection of key-value pairs. Each key is unique and is used to access its corresponding value. Dictionaries are flexible as they allow keys and values of different types.\n",
    "\n",
    "Key Characteristics:\n",
    "- Key/Value pairs\n",
    "- Associative array, like Java HashMap\n",
    "- Dicts are Unordered\n",
    "\n",
    "Use a List when:\n",
    "- You need to associate values with keys to create a pair (key-value pair) for easy look-up.\n",
    "- You want to retrieve data using unique identifiers, such as names in a phone book, or product IDs in an inventory system.\n",
    "- The order of insertion is not important (although in Python 3.7 and later, dictionaries do maintain insertion order).\n",
    "- You need a structure that can be easily modified by adding, removing, or changing data associated with a specific key."
   ]
  },
  {
   "cell_type": "code",
   "execution_count": 39,
   "id": "77e77752",
   "metadata": {},
   "outputs": [
    {
     "name": "stdout",
     "output_type": "stream",
     "text": [
      "{'pork': 25.3, 'beef': 33.8, 'chicken': 22.7}\n",
      "{'pork': 25.3, 'beef': 33.8, 'chicken': 22.7}\n",
      "{'pork': 25.3, 'beef': 33.8, 'chicken': 22.7}\n"
     ]
    }
   ],
   "source": [
    "# creating a dictionary\n",
    "\n",
    "x = {'pork':25.3, 'beef':33.8, 'chicken':22.7}\n",
    "print(x)\n",
    "x = dict([('pork', 25.3),('beef', 33.8),('chicken', 22.7)])\n",
    "print(x)\n",
    "x = dict(pork=25.3, beef=33.8, chicken=22.7)\n",
    "print(x)"
   ]
  },
  {
   "cell_type": "code",
   "execution_count": 40,
   "id": "008a3094",
   "metadata": {},
   "outputs": [
    {
     "name": "stdout",
     "output_type": "stream",
     "text": [
      "{'pork': 25.3, 'beef': 33.8, 'chicken': 22.7, 'shrimp': 38.2}\n",
      "{'pork': 25.3, 'beef': 33.8, 'chicken': 22.7}\n",
      "3\n",
      "{}\n"
     ]
    }
   ],
   "source": [
    "# Operations\n",
    "\n",
    "x['shrimp'] = 38.2    # add or update\n",
    "print(x)\n",
    "\n",
    "# delete an item\n",
    "del(x['shrimp'])\n",
    "print(x)\n",
    "\n",
    "# get length of dict x\n",
    "print(len(x))\n",
    "\n",
    "# delete all items from dict x\n",
    "x.clear()\n",
    "print(x)\n",
    "\n",
    "# delete dict x\n",
    "del(x)"
   ]
  },
  {
   "cell_type": "code",
   "execution_count": 41,
   "id": "0600a8ac",
   "metadata": {},
   "outputs": [
    {
     "name": "stdout",
     "output_type": "stream",
     "text": [
      "dict_keys(['pork', 'beef', 'chicken'])\n",
      "dict_values([25.3, 33.8, 22.7])\n",
      "dict_items([('pork', 25.3), ('beef', 33.8), ('chicken', 22.7)])\n",
      "True\n",
      "False\n"
     ]
    }
   ],
   "source": [
    "# Accessing keys and vlalues\n",
    "y = {'pork':25.3, 'beef':33.8, 'chicken':22.7}\n",
    "print(y.keys())\n",
    "print(y.values())\n",
    "print(y.items())      # key-value pairs\n",
    "\n",
    "# check membership in y_keys (only looks in keys, not values)\n",
    "print('beef' in y)\n",
    "\n",
    "# check membership in y_values\n",
    "print('clams' in y.values())"
   ]
  },
  {
   "cell_type": "code",
   "execution_count": 42,
   "id": "d39bc004",
   "metadata": {},
   "outputs": [
    {
     "name": "stdout",
     "output_type": "stream",
     "text": [
      "pork 25.3\n",
      "beef 33.8\n",
      "chicken 22.7\n",
      "pork 25.3\n",
      "beef 33.8\n",
      "chicken 22.7\n"
     ]
    }
   ],
   "source": [
    "# iterate dictionaries \n",
    "for key in y:\n",
    "    print(key, y[key])\n",
    "    \n",
    "for k, v in y.items():\n",
    "    print(k, v)"
   ]
  },
  {
   "cell_type": "markdown",
   "id": "a650bb6b",
   "metadata": {},
   "source": [
    "# Section 5: Control Flow\n",
    "\n",
    "Python supports the usual logical conditions from mathematics:\n",
    "\n",
    "Conditions: \n",
    " - Equals: `a == b`\n",
    " - Not Equals: `a != b`\n",
    " - Less than: `a < b`\n",
    " - Less than or equal to: `a <= b`\n",
    " - Greater than: `a > b`\n",
    " - Greater than or equal to: `a >= b`\n",
    "\n",
    "Boolean Operations\n",
    " - Checks if two conditions are true: `and`\n",
    " - Checks if either conditions is true: `or`\n",
    " - Inverts the truth value of a condition: `not`\n",
    "\n",
    "Membership:\n",
    "- Checks if a value is a member of a sequence (like a list, string, or tuple): in\n",
    "\n",
    "Identity:\n",
    "- Checks if two variables refer to the same object in memory: is\n"
   ]
  },
  {
   "cell_type": "markdown",
   "id": "2246e1b0",
   "metadata": {},
   "source": [
    "## 5.1. Conditional Statements (if, elif, else)\n",
    "\n",
    "Used to execute blocks of codes under certain \"conditions\""
   ]
  },
  {
   "cell_type": "code",
   "execution_count": 43,
   "id": "871140cb",
   "metadata": {},
   "outputs": [
    {
     "name": "stdout",
     "output_type": "stream",
     "text": [
      "-15 is negative\n"
     ]
    }
   ],
   "source": [
    "# if, elif, else\n",
    "x = -15\n",
    "\n",
    "if x == 0:\n",
    "    print(x, \"is zero\")\n",
    "elif x > 0:\n",
    "    print(x, \"is positive\")\n",
    "elif x < 0:\n",
    "    print(x, \"is negative\")\n",
    "else:\n",
    "    print(x, \"is unlike anything I've ever seen...\")"
   ]
  },
  {
   "cell_type": "code",
   "execution_count": 44,
   "id": "0e85ce7b",
   "metadata": {},
   "outputs": [
    {
     "name": "stdout",
     "output_type": "stream",
     "text": [
      "x<y\n",
      "x=10\n"
     ]
    }
   ],
   "source": [
    "# Nested statements\n",
    "\n",
    "x = 10\n",
    "y = 12\n",
    "if x > y:\n",
    "    print( \"x>y\")\n",
    "elif x < y:\n",
    "    print( \"x<y\")\n",
    "    if x==10:\n",
    "        print (\"x=10\")\n",
    "    else:\n",
    "        print (\"invalid\")\n",
    "else:\n",
    "    print (\"x=y\")"
   ]
  },
  {
   "cell_type": "code",
   "execution_count": 45,
   "id": "efd2226c",
   "metadata": {},
   "outputs": [
    {
     "name": "stdout",
     "output_type": "stream",
     "text": [
      "num1 is neither positive nor negative\n"
     ]
    }
   ],
   "source": [
    "num1 = 0\n",
    "if num1 != 0:  # For zero condition is FALSE\n",
    "    if num1 > 0:  \n",
    "        print(\"num1 is a positive number\")\n",
    "    else:  \n",
    "        print(\"num1 is a negative number\")\n",
    "else:  # For zero condition is TRUE\n",
    "    print(\"num1 is neither positive nor negative\")"
   ]
  },
  {
   "cell_type": "markdown",
   "id": "99d7178b",
   "metadata": {},
   "source": [
    "## 5.2. Loops (For, while)\n",
    "\n",
    "For loop:\n",
    "- A `for` loop is used for iterating over a sequence (such as a list, tuple, dictionary, set, or string). It's used when you want to perform a block of code a specific number of times, or for each item in a collection. The for loop goes through the collection until it is exhausted.\n",
    "\n",
    "While loop:\n",
    "- A `while` loop repeatedly executes a target statement as long as a given condition is true. The condition is evaluated before executing the body of the loop. This kind of loop is used when you want to continue looping as long as a certain condition remains true, but you may not know in advance how many times you'll need to iterate.\n"
   ]
  },
  {
   "cell_type": "code",
   "execution_count": 46,
   "id": "22b74d2f",
   "metadata": {},
   "outputs": [
    {
     "name": "stdout",
     "output_type": "stream",
     "text": [
      "one\n",
      "two\n",
      "three\n",
      "four\n",
      "five\n"
     ]
    }
   ],
   "source": [
    "# For loops\n",
    "words = ['one', 'two', 'three', 'four', 'five']\n",
    "\n",
    "for i in words:\n",
    "    print(i)"
   ]
  },
  {
   "cell_type": "code",
   "execution_count": 47,
   "id": "77a07863",
   "metadata": {},
   "outputs": [
    {
     "name": "stdout",
     "output_type": "stream",
     "text": [
      "[0, 1, 2, 3, 4, 5, 6, 7, 8, 9]\n",
      "[2, 3, 4, 5, 6, 7, 8, 9]\n",
      "2\n",
      "4\n",
      "6\n",
      "8\n"
     ]
    }
   ],
   "source": [
    "# For loop with range\n",
    "\n",
    "# using range(stop)\n",
    "print(list(range(10)))\n",
    "\n",
    "# using range(start, stop)\n",
    "print(list(range(2, 10)))\n",
    "\n",
    "for i in range(2, 10, 2):\n",
    "    print(i)"
   ]
  },
  {
   "cell_type": "code",
   "execution_count": 48,
   "id": "e9a8be0d",
   "metadata": {},
   "outputs": [
    {
     "name": "stdout",
     "output_type": "stream",
     "text": [
      "Odd Number: 1\n",
      "Even Number: 2\n",
      "Odd Number: 3\n",
      "Even Number: 4\n",
      "Odd Number: 5\n",
      "Even Number: 6\n",
      "Odd Number: 7\n",
      "Even Number: 8\n",
      "Odd Number: 9\n",
      "Even Number: 10\n"
     ]
    }
   ],
   "source": [
    "# Loops and Conditions\n",
    "for i in range(1, 11):\n",
    "    if i % 2 == 0:\n",
    "        print('Even Number:', i)\n",
    "    else:\n",
    "        print('Odd Number:', i)"
   ]
  },
  {
   "cell_type": "code",
   "execution_count": 49,
   "id": "e04519d6",
   "metadata": {},
   "outputs": [
    {
     "name": "stdout",
     "output_type": "stream",
     "text": [
      "No entry with that name found.\n"
     ]
    }
   ],
   "source": [
    "# Loops and Conditions\n",
    "student_name = 'Arthur'\n",
    "\n",
    "marks = {'Alan': 99, 'Bill': 55, 'Cory': 77}\n",
    "\n",
    "for student in marks:\n",
    "    if student == student_name:\n",
    "        print(marks[student])\n",
    "        break\n",
    "else:\n",
    "    print('No entry with that name found.')"
   ]
  },
  {
   "cell_type": "code",
   "execution_count": 50,
   "id": "15159b03",
   "metadata": {},
   "outputs": [
    {
     "name": "stdout",
     "output_type": "stream",
     "text": [
      "1\n",
      "4\n",
      "7\n",
      "8\n",
      "15\n"
     ]
    }
   ],
   "source": [
    "# breaks\n",
    "numbers = [1, 4, 7, 8, 15, 20, 35, 45, 55]\n",
    "for i in numbers:\n",
    "    if i > 15:\n",
    "        # break the loop\n",
    "        break\n",
    "    else:\n",
    "        print(i)"
   ]
  },
  {
   "cell_type": "code",
   "execution_count": 51,
   "id": "49be63d2",
   "metadata": {},
   "outputs": [
    {
     "name": "stdout",
     "output_type": "stream",
     "text": [
      "Green\n",
      "Blue\n"
     ]
    }
   ],
   "source": [
    "# continue\n",
    "color = ['Green', 'Pink', 'Blue']\n",
    "for i in color:\n",
    "    if i == 'Pink':\n",
    "        continue\n",
    "    print()\n",
    "    "
   ]
  },
  {
   "cell_type": "code",
   "execution_count": 56,
   "id": "4401ed30",
   "metadata": {},
   "outputs": [],
   "source": [
    "# pass - null statement\n",
    "\n",
    "for number in range(6):\n",
    "    pass\n",
    "\n",
    "def myfunction():\n",
    "    return\n",
    "\n",
    "a = myfunction()\n",
    "a"
   ]
  },
  {
   "cell_type": "code",
   "execution_count": 57,
   "id": "012456fc",
   "metadata": {},
   "outputs": [
    {
     "name": "stdout",
     "output_type": "stream",
     "text": [
      "Red flower\n",
      "Red watch\n",
      "Pink flower\n",
      "Pink watch\n"
     ]
    }
   ],
   "source": [
    "# Nested for loops\n",
    "color = ['Red', 'Pink']\n",
    "element = ['flower', 'watch']\n",
    "for i in color:\n",
    "    for j in element:\n",
    "        print(i, j)"
   ]
  },
  {
   "cell_type": "code",
   "execution_count": 58,
   "id": "18278e0a",
   "metadata": {},
   "outputs": [
    {
     "name": "stdout",
     "output_type": "stream",
     "text": [
      "first_name\n",
      "last_name\n",
      "age\n",
      "country\n",
      "is_marred\n",
      "skills\n",
      "address\n",
      "first_name Milaan\n",
      "last_name Parmar\n",
      "age 96\n",
      "country Finland\n",
      "is_marred True\n",
      "skills ['Python', 'Matlab', 'R', 'C', 'C++']\n",
      "address {'street': 'Space street', 'zipcode': '02210'}\n"
     ]
    }
   ],
   "source": [
    "# Loops and dicts\n",
    "\n",
    "person = {\n",
    "    'first_name':'Milaan',\n",
    "    'last_name':'Parmar',\n",
    "    'age':96,\n",
    "    'country':'Finland',\n",
    "    'is_marred':True,\n",
    "    'skills':['Python', 'Matlab', 'R', 'C', 'C++'],\n",
    "    'address':{\n",
    "        'street':'Space street',\n",
    "        'zipcode':'02210'\n",
    "    }\n",
    "}\n",
    "for key in person:\n",
    "    print(key)\n",
    "\n",
    "for key, value in person.items():\n",
    "    print(key, value) # this way we get both keys and values printed out"
   ]
  },
  {
   "cell_type": "code",
   "execution_count": 59,
   "id": "aba84b72",
   "metadata": {},
   "outputs": [
    {
     "name": "stdout",
     "output_type": "stream",
     "text": [
      "1\n",
      "2\n",
      "3\n",
      "4\n"
     ]
    }
   ],
   "source": [
    "# While loops\n",
    "\n",
    "\n",
    "count = 1\n",
    "# run loop till count is less than 5\n",
    "while count < 5:\n",
    "    print(count)\n",
    "    count = count + 1"
   ]
  },
  {
   "cell_type": "code",
   "execution_count": 60,
   "id": "175aa667",
   "metadata": {},
   "outputs": [
    {
     "name": "stdout",
     "output_type": "stream",
     "text": [
      "5 is a odd number\n",
      "4 is a even number\n",
      "3 is a odd number\n",
      "2 is a even number\n",
      "1 is a odd number\n"
     ]
    }
   ],
   "source": [
    "# Example Print even and odd numbers between 1 to the entered number.\n",
    "\n",
    "n = 5\n",
    "while n > 0:\n",
    "    # check even and odd\n",
    "    if n % 2 == 0:\n",
    "        print(n, 'is a even number')\n",
    "    else:\n",
    "        print(n, 'is a odd number')\n",
    "    # decrease number by 1 in each iteration\n",
    "    n = n - 1"
   ]
  },
  {
   "cell_type": "code",
   "execution_count": 61,
   "id": "2ae6f7ca",
   "metadata": {},
   "outputs": [
    {
     "name": "stdout",
     "output_type": "stream",
     "text": [
      "0\n",
      "1\n",
      "2\n",
      "3\n",
      "4\n",
      "5\n"
     ]
    }
   ],
   "source": [
    "# While else:\n",
    "\n",
    "count = 0\n",
    "while count < 5:\n",
    "    print(count)\n",
    "    count = count + 1\n",
    "else:\n",
    "    print(count)"
   ]
  },
  {
   "cell_type": "code",
   "execution_count": 62,
   "id": "9d7bfa89",
   "metadata": {},
   "outputs": [
    {
     "name": "stdout",
     "output_type": "stream",
     "text": [
      "0\n",
      "1\n",
      "2\n"
     ]
    }
   ],
   "source": [
    "# While break\n",
    "count = 0\n",
    "while count < 5:\n",
    "    print(count)\n",
    "    count = count + 1\n",
    "    if count == 3:\n",
    "        break "
   ]
  },
  {
   "cell_type": "code",
   "execution_count": 63,
   "id": "26120bc1",
   "metadata": {},
   "outputs": [
    {
     "name": "stdout",
     "output_type": "stream",
     "text": [
      "12345678910\n",
      "12345678910\n",
      "12345678910\n"
     ]
    }
   ],
   "source": [
    "# Nested While\n",
    "i = 1\n",
    "while i <= 3:\n",
    "    j = 1\n",
    "    while j <= 10:\n",
    "        print(j, end='')\n",
    "        j = j + 1\n",
    "    i = i + 1\n",
    "    print()"
   ]
  },
  {
   "cell_type": "markdown",
   "id": "18c58130",
   "metadata": {},
   "source": [
    "# Section 6: Functions"
   ]
  },
  {
   "cell_type": "markdown",
   "id": "4fd57827",
   "metadata": {},
   "source": [
    "# Section 7: Importing Packages"
   ]
  },
  {
   "cell_type": "markdown",
   "id": "2b81ac83",
   "metadata": {},
   "source": [
    "# Section 8: Numpy and Vectorisation "
   ]
  },
  {
   "cell_type": "markdown",
   "id": "5b96a2a6",
   "metadata": {},
   "source": [
    "# Section 9: Importing data (CSV, JSON, XLSX)"
   ]
  },
  {
   "cell_type": "markdown",
   "id": "fcb7bffa",
   "metadata": {},
   "source": [
    "# Section 10: DataFrames (Pandas) "
   ]
  },
  {
   "cell_type": "markdown",
   "id": "3274e5bb",
   "metadata": {},
   "source": [
    "# Section 11: Visualisations  (Matplotlib)"
   ]
  },
  {
   "cell_type": "markdown",
   "id": "7e85624a",
   "metadata": {},
   "source": [
    "# Section 12: Data Base  (SQLAlchemy)"
   ]
  },
  {
   "cell_type": "markdown",
   "id": "f35e949c",
   "metadata": {},
   "source": [
    "# Section 13: Classes "
   ]
  },
  {
   "cell_type": "markdown",
   "id": "37fb9fe3",
   "metadata": {},
   "source": [
    "# Section 14: SEA - Specific Training"
   ]
  }
 ],
 "metadata": {
  "kernelspec": {
   "display_name": "Python 3 (ipykernel)",
   "language": "python",
   "name": "python3"
  },
  "language_info": {
   "codemirror_mode": {
    "name": "ipython",
    "version": 3
   },
   "file_extension": ".py",
   "mimetype": "text/x-python",
   "name": "python",
   "nbconvert_exporter": "python",
   "pygments_lexer": "ipython3",
   "version": "3.11.4"
  }
 },
 "nbformat": 4,
 "nbformat_minor": 5
}
