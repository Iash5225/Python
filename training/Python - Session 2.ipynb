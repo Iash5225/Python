{
 "cells": [
  {
   "cell_type": "code",
   "execution_count": 1,
   "id": "eee96097",
   "metadata": {},
   "outputs": [],
   "source": [
    "import numpy as np"
   ]
  },
  {
   "cell_type": "markdown",
   "id": "a8910094",
   "metadata": {},
   "source": [
    "Numpy main purpose is homogeneous multidimensional array\n",
    "\n",
    "There's also python arrays (array.array), but they're only 1 dimensional and not nearly as good"
   ]
  },
  {
   "cell_type": "markdown",
   "id": "8cb760bb",
   "metadata": {},
   "source": [
    "Making arrays - from list"
   ]
  },
  {
   "cell_type": "code",
   "execution_count": 7,
   "id": "d80ba79d",
   "metadata": {},
   "outputs": [],
   "source": [
    "A1D = np.array([1,2,3,4])\n",
    "A2D = np.array([[1,2], [3,4]])\n",
    "A3D = np.array([[[1,2], [3,4]], [[5,6], [7,8]]])"
   ]
  },
  {
   "cell_type": "code",
   "execution_count": 6,
   "id": "1e222df6",
   "metadata": {},
   "outputs": [
    {
     "data": {
      "text/plain": [
       "dtype('float64')"
      ]
     },
     "execution_count": 6,
     "metadata": {},
     "output_type": "execute_result"
    }
   ],
   "source": [
    "A1D.dtype"
   ]
  },
  {
   "cell_type": "code",
   "execution_count": 8,
   "id": "6c2be69b",
   "metadata": {},
   "outputs": [
    {
     "data": {
      "text/plain": [
       "array([[1, 2],\n",
       "       [3, 4]])"
      ]
     },
     "execution_count": 8,
     "metadata": {},
     "output_type": "execute_result"
    }
   ],
   "source": [
    "A2D"
   ]
  },
  {
   "cell_type": "code",
   "execution_count": 9,
   "id": "89612807",
   "metadata": {},
   "outputs": [
    {
     "data": {
      "text/plain": [
       "array([[[1, 2],\n",
       "        [3, 4]],\n",
       "\n",
       "       [[5, 6],\n",
       "        [7, 8]]])"
      ]
     },
     "execution_count": 9,
     "metadata": {},
     "output_type": "execute_result"
    }
   ],
   "source": [
    "A3D"
   ]
  },
  {
   "cell_type": "code",
   "execution_count": 10,
   "id": "f7a169f9",
   "metadata": {},
   "outputs": [
    {
     "data": {
      "text/plain": [
       "2"
      ]
     },
     "execution_count": 10,
     "metadata": {},
     "output_type": "execute_result"
    }
   ],
   "source": [
    "A2D.ndim # number of axis"
   ]
  },
  {
   "cell_type": "code",
   "execution_count": 11,
   "id": "e0b92b0e",
   "metadata": {},
   "outputs": [
    {
     "data": {
      "text/plain": [
       "4"
      ]
     },
     "execution_count": 11,
     "metadata": {},
     "output_type": "execute_result"
    }
   ],
   "source": [
    "A2D.size # total number of elements"
   ]
  },
  {
   "cell_type": "code",
   "execution_count": 12,
   "id": "ddadf928",
   "metadata": {},
   "outputs": [
    {
     "data": {
      "text/plain": [
       "(2, 2)"
      ]
     },
     "execution_count": 12,
     "metadata": {},
     "output_type": "execute_result"
    }
   ],
   "source": [
    "A2D.shape # dimensions of array (as a tuple - n rows x m columns)"
   ]
  },
  {
   "cell_type": "code",
   "execution_count": 13,
   "id": "a9fc95f3",
   "metadata": {},
   "outputs": [
    {
     "data": {
      "text/plain": [
       "dtype('int32')"
      ]
     },
     "execution_count": 13,
     "metadata": {},
     "output_type": "execute_result"
    }
   ],
   "source": [
    "A2D.dtype"
   ]
  },
  {
   "cell_type": "code",
   "execution_count": 14,
   "id": "07850d70",
   "metadata": {},
   "outputs": [
    {
     "data": {
      "text/plain": [
       "8"
      ]
     },
     "execution_count": 14,
     "metadata": {},
     "output_type": "execute_result"
    }
   ],
   "source": [
    "A3D.size"
   ]
  },
  {
   "cell_type": "markdown",
   "id": "f878a9e1",
   "metadata": {},
   "source": [
    "### Generate array"
   ]
  },
  {
   "cell_type": "code",
   "execution_count": 16,
   "id": "1d3974eb",
   "metadata": {},
   "outputs": [
    {
     "data": {
      "text/plain": [
       "array([1, 3, 5, 7, 9])"
      ]
     },
     "execution_count": 16,
     "metadata": {},
     "output_type": "execute_result"
    }
   ],
   "source": [
    "np.arange(1, 10, 2)"
   ]
  },
  {
   "cell_type": "code",
   "execution_count": 19,
   "id": "28086c4c",
   "metadata": {},
   "outputs": [
    {
     "data": {
      "text/plain": [
       "array([10,  9,  8,  7,  6,  5,  4,  3,  2])"
      ]
     },
     "execution_count": 19,
     "metadata": {},
     "output_type": "execute_result"
    }
   ],
   "source": [
    "np.arange(10, 1, -1)"
   ]
  },
  {
   "cell_type": "code",
   "execution_count": 16,
   "id": "5e3153d8",
   "metadata": {},
   "outputs": [
    {
     "data": {
      "text/plain": [
       "array([  1.,  12.,  23.,  34.,  45.,  56.,  67.,  78.,  89., 100.])"
      ]
     },
     "execution_count": 16,
     "metadata": {},
     "output_type": "execute_result"
    }
   ],
   "source": [
    "np.linspace(1,100,10)"
   ]
  },
  {
   "cell_type": "code",
   "execution_count": 17,
   "id": "81338152",
   "metadata": {},
   "outputs": [
    {
     "data": {
      "text/plain": [
       "array([[1, 0, 0],\n",
       "       [0, 2, 0],\n",
       "       [0, 0, 3]])"
      ]
     },
     "execution_count": 17,
     "metadata": {},
     "output_type": "execute_result"
    }
   ],
   "source": [
    "np.diag([1,2,3])"
   ]
  },
  {
   "cell_type": "code",
   "execution_count": 18,
   "id": "fb15ead5",
   "metadata": {},
   "outputs": [
    {
     "data": {
      "text/plain": [
       "array([0., 0., 0., 0., 0., 0., 0., 0., 0., 0.])"
      ]
     },
     "execution_count": 18,
     "metadata": {},
     "output_type": "execute_result"
    }
   ],
   "source": [
    "np.zeros(10)"
   ]
  },
  {
   "cell_type": "code",
   "execution_count": 19,
   "id": "7ec76a29",
   "metadata": {},
   "outputs": [
    {
     "data": {
      "text/plain": [
       "array([[0., 0., 0.],\n",
       "       [0., 0., 0.]])"
      ]
     },
     "execution_count": 19,
     "metadata": {},
     "output_type": "execute_result"
    }
   ],
   "source": [
    "np.zeros((2,3))"
   ]
  },
  {
   "cell_type": "code",
   "execution_count": 20,
   "id": "aa2db64f",
   "metadata": {},
   "outputs": [
    {
     "data": {
      "text/plain": [
       "array([[[1., 1.],\n",
       "        [1., 1.]],\n",
       "\n",
       "       [[1., 1.],\n",
       "        [1., 1.]]])"
      ]
     },
     "execution_count": 20,
     "metadata": {},
     "output_type": "execute_result"
    }
   ],
   "source": [
    "np.ones((2,2,2))"
   ]
  },
  {
   "cell_type": "code",
   "execution_count": 26,
   "id": "ca0a0bd2",
   "metadata": {},
   "outputs": [],
   "source": [
    "ofloat=np.ones(10, dtype = int)"
   ]
  },
  {
   "cell_type": "code",
   "execution_count": 27,
   "id": "fce41482",
   "metadata": {},
   "outputs": [
    {
     "data": {
      "text/plain": [
       "array([1, 1, 1, 1, 1, 1, 1, 1, 1, 1])"
      ]
     },
     "execution_count": 27,
     "metadata": {},
     "output_type": "execute_result"
    }
   ],
   "source": [
    "ofloat"
   ]
  },
  {
   "cell_type": "code",
   "execution_count": 28,
   "id": "3489e3ec",
   "metadata": {},
   "outputs": [
    {
     "data": {
      "text/plain": [
       "dtype('int32')"
      ]
     },
     "execution_count": 28,
     "metadata": {},
     "output_type": "execute_result"
    }
   ],
   "source": [
    "ofloat.dtype"
   ]
  },
  {
   "cell_type": "code",
   "execution_count": 29,
   "id": "abaca0e0",
   "metadata": {},
   "outputs": [
    {
     "name": "stdout",
     "output_type": "stream",
     "text": [
      "[1 2 3 4]\n"
     ]
    }
   ],
   "source": [
    "print(A1D)"
   ]
  },
  {
   "cell_type": "code",
   "execution_count": 30,
   "id": "8573858a",
   "metadata": {},
   "outputs": [],
   "source": [
    "b2D = np.arange(12).reshape(4, 3) "
   ]
  },
  {
   "cell_type": "code",
   "execution_count": 31,
   "id": "9725af65",
   "metadata": {},
   "outputs": [
    {
     "name": "stdout",
     "output_type": "stream",
     "text": [
      "[[ 0  1  2]\n",
      " [ 3  4  5]\n",
      " [ 6  7  8]\n",
      " [ 9 10 11]]\n"
     ]
    }
   ],
   "source": [
    "print(b2D)"
   ]
  },
  {
   "cell_type": "markdown",
   "id": "c43c2aa2",
   "metadata": {},
   "source": [
    "# Basic Operations"
   ]
  },
  {
   "cell_type": "code",
   "execution_count": 20,
   "id": "59104eb0",
   "metadata": {},
   "outputs": [],
   "source": [
    "# Standard arithmetic"
   ]
  },
  {
   "cell_type": "code",
   "execution_count": 21,
   "id": "5d04e068",
   "metadata": {},
   "outputs": [],
   "source": [
    "a= np.array([20, 30, 40, 50])\n",
    "b= np.arange(4)"
   ]
  },
  {
   "cell_type": "code",
   "execution_count": 23,
   "id": "32ffa5f2",
   "metadata": {},
   "outputs": [
    {
     "data": {
      "text/plain": [
       "array([20, 29, 38, 47])"
      ]
     },
     "execution_count": 23,
     "metadata": {},
     "output_type": "execute_result"
    }
   ],
   "source": [
    "a-b"
   ]
  },
  {
   "cell_type": "code",
   "execution_count": 24,
   "id": "adbcacbb",
   "metadata": {},
   "outputs": [
    {
     "data": {
      "text/plain": [
       "array([0, 1, 4, 9], dtype=int32)"
      ]
     },
     "execution_count": 24,
     "metadata": {},
     "output_type": "execute_result"
    }
   ],
   "source": [
    "b**2"
   ]
  },
  {
   "cell_type": "code",
   "execution_count": 25,
   "id": "8d02c7a1",
   "metadata": {},
   "outputs": [
    {
     "data": {
      "text/plain": [
       "array([ 9.12945251, -9.88031624,  7.4511316 , -2.62374854])"
      ]
     },
     "execution_count": 25,
     "metadata": {},
     "output_type": "execute_result"
    }
   ],
   "source": [
    "10 * np.sin(a)"
   ]
  },
  {
   "cell_type": "code",
   "execution_count": 26,
   "id": "ca9b5e6b",
   "metadata": {},
   "outputs": [
    {
     "data": {
      "text/plain": [
       "array([ True,  True, False, False])"
      ]
     },
     "execution_count": 26,
     "metadata": {},
     "output_type": "execute_result"
    }
   ],
   "source": [
    "a < 35"
   ]
  },
  {
   "cell_type": "code",
   "execution_count": 27,
   "id": "dc07ede7",
   "metadata": {},
   "outputs": [],
   "source": [
    "A = np.array([[1, 1],\n",
    "              [0, 1]])"
   ]
  },
  {
   "cell_type": "code",
   "execution_count": 28,
   "id": "49bb06a8",
   "metadata": {},
   "outputs": [],
   "source": [
    "B = np.array([[2, 0],\n",
    "              [3, 4]])"
   ]
  },
  {
   "cell_type": "code",
   "execution_count": 29,
   "id": "07edfb23",
   "metadata": {},
   "outputs": [
    {
     "data": {
      "text/plain": [
       "array([[2, 0],\n",
       "       [0, 4]])"
      ]
     },
     "execution_count": 29,
     "metadata": {},
     "output_type": "execute_result"
    }
   ],
   "source": [
    "A * B #elementwise product"
   ]
  },
  {
   "cell_type": "code",
   "execution_count": 42,
   "id": "bf4eb059",
   "metadata": {},
   "outputs": [
    {
     "data": {
      "text/plain": [
       "array([[5, 4],\n",
       "       [3, 4]])"
      ]
     },
     "execution_count": 42,
     "metadata": {},
     "output_type": "execute_result"
    }
   ],
   "source": [
    "A @ B #matrix product"
   ]
  },
  {
   "cell_type": "code",
   "execution_count": 45,
   "id": "8c3583e7",
   "metadata": {},
   "outputs": [],
   "source": [
    "#other functions"
   ]
  },
  {
   "cell_type": "code",
   "execution_count": 40,
   "id": "46bb569f",
   "metadata": {},
   "outputs": [],
   "source": [
    "rg = np.random.default_rng(1)"
   ]
  },
  {
   "cell_type": "code",
   "execution_count": 41,
   "id": "2f6d3e0f",
   "metadata": {},
   "outputs": [],
   "source": [
    "a = rg.random((2, 3))"
   ]
  },
  {
   "cell_type": "code",
   "execution_count": 48,
   "id": "e189b10f",
   "metadata": {},
   "outputs": [
    {
     "data": {
      "text/plain": [
       "array([[0.51182162, 0.9504637 , 0.14415961],\n",
       "       [0.94864945, 0.31183145, 0.42332645]])"
      ]
     },
     "execution_count": 48,
     "metadata": {},
     "output_type": "execute_result"
    }
   ],
   "source": [
    "a"
   ]
  },
  {
   "cell_type": "code",
   "execution_count": 49,
   "id": "527a4be1",
   "metadata": {},
   "outputs": [
    {
     "data": {
      "text/plain": [
       "3.290252281866131"
      ]
     },
     "execution_count": 49,
     "metadata": {},
     "output_type": "execute_result"
    }
   ],
   "source": [
    "a.sum() #sum of all elements"
   ]
  },
  {
   "cell_type": "code",
   "execution_count": 51,
   "id": "d0ec6da1",
   "metadata": {},
   "outputs": [
    {
     "data": {
      "text/plain": [
       "0.14415961271963373"
      ]
     },
     "execution_count": 51,
     "metadata": {},
     "output_type": "execute_result"
    }
   ],
   "source": [
    "a.min() #min of all elements"
   ]
  },
  {
   "cell_type": "code",
   "execution_count": 52,
   "id": "dab8bf2b",
   "metadata": {},
   "outputs": [
    {
     "data": {
      "text/plain": [
       "array([1.46047107, 1.26229515, 0.56748606])"
      ]
     },
     "execution_count": 52,
     "metadata": {},
     "output_type": "execute_result"
    }
   ],
   "source": [
    "a.sum(axis=0) "
   ]
  },
  {
   "cell_type": "code",
   "execution_count": 53,
   "id": "7b8ee416",
   "metadata": {},
   "outputs": [
    {
     "data": {
      "text/plain": [
       "array([1.60644493, 1.68380735])"
      ]
     },
     "execution_count": 53,
     "metadata": {},
     "output_type": "execute_result"
    }
   ],
   "source": [
    "a.sum(axis=1)"
   ]
  },
  {
   "cell_type": "markdown",
   "id": "4f6c0cc4",
   "metadata": {},
   "source": [
    "### indexing, slicing, iterating"
   ]
  },
  {
   "cell_type": "markdown",
   "id": "f7fbb2ea",
   "metadata": {},
   "source": [
    "One-dimensional arrays can be indexed, sliced and iterated over just like lists"
   ]
  },
  {
   "cell_type": "code",
   "execution_count": 30,
   "id": "e6c1c0a8",
   "metadata": {},
   "outputs": [],
   "source": [
    "a = np.arange(10)**3"
   ]
  },
  {
   "cell_type": "code",
   "execution_count": 32,
   "id": "0b463b6c",
   "metadata": {},
   "outputs": [
    {
     "data": {
      "text/plain": [
       "array([  0,   1,   8,  27,  64, 125, 216, 343, 512, 729], dtype=int32)"
      ]
     },
     "execution_count": 32,
     "metadata": {},
     "output_type": "execute_result"
    }
   ],
   "source": [
    "a"
   ]
  },
  {
   "cell_type": "code",
   "execution_count": 33,
   "id": "6225fb98",
   "metadata": {},
   "outputs": [
    {
     "data": {
      "text/plain": [
       "8"
      ]
     },
     "execution_count": 33,
     "metadata": {},
     "output_type": "execute_result"
    }
   ],
   "source": [
    "a[2]"
   ]
  },
  {
   "cell_type": "code",
   "execution_count": 34,
   "id": "85663e86",
   "metadata": {},
   "outputs": [
    {
     "data": {
      "text/plain": [
       "array([ 8, 27, 64], dtype=int32)"
      ]
     },
     "execution_count": 34,
     "metadata": {},
     "output_type": "execute_result"
    }
   ],
   "source": [
    "a[2:5]"
   ]
  },
  {
   "cell_type": "code",
   "execution_count": 35,
   "id": "ad838781",
   "metadata": {},
   "outputs": [],
   "source": [
    "a[:6:2] = 1000"
   ]
  },
  {
   "cell_type": "code",
   "execution_count": 36,
   "id": "0a6b9cda",
   "metadata": {},
   "outputs": [
    {
     "data": {
      "text/plain": [
       "array([1000,    1, 1000,   27, 1000,  125,  216,  343,  512,  729],\n",
       "      dtype=int32)"
      ]
     },
     "execution_count": 36,
     "metadata": {},
     "output_type": "execute_result"
    }
   ],
   "source": [
    "a"
   ]
  },
  {
   "cell_type": "code",
   "execution_count": 37,
   "id": "cd910d28",
   "metadata": {},
   "outputs": [
    {
     "data": {
      "text/plain": [
       "array([ 729,  512,  343,  216,  125, 1000,   27, 1000,    1, 1000],\n",
       "      dtype=int32)"
      ]
     },
     "execution_count": 37,
     "metadata": {},
     "output_type": "execute_result"
    }
   ],
   "source": [
    "a[::-1]"
   ]
  },
  {
   "cell_type": "code",
   "execution_count": 38,
   "id": "3eeac076",
   "metadata": {},
   "outputs": [
    {
     "name": "stdout",
     "output_type": "stream",
     "text": [
      "9.999999999999998\n",
      "1.0\n",
      "9.999999999999998\n",
      "3.0\n",
      "9.999999999999998\n",
      "5.0\n",
      "5.999999999999999\n",
      "6.999999999999999\n",
      "7.999999999999999\n",
      "8.999999999999998\n"
     ]
    }
   ],
   "source": [
    "for i in a:\n",
    "    print(i**(1 / 3.))"
   ]
  },
  {
   "cell_type": "markdown",
   "id": "0ccd612e",
   "metadata": {},
   "source": [
    "### changing the shape of an array"
   ]
  },
  {
   "cell_type": "code",
   "execution_count": 46,
   "id": "d67aa8bb",
   "metadata": {},
   "outputs": [
    {
     "data": {
      "text/plain": [
       "array([[0.20345524, 0.26231334, 0.75036467, 0.28040876],\n",
       "       [0.48519097, 0.9807372 , 0.96165719, 0.72478994],\n",
       "       [0.54122686, 0.2768912 , 0.16065201, 0.96992541]])"
      ]
     },
     "execution_count": 46,
     "metadata": {},
     "output_type": "execute_result"
    }
   ],
   "source": [
    "rg.random((3, 4))"
   ]
  },
  {
   "cell_type": "code",
   "execution_count": 42,
   "id": "2305a0d6",
   "metadata": {},
   "outputs": [],
   "source": [
    "a=np.floor(10 * rg.random((3, 4)))"
   ]
  },
  {
   "cell_type": "code",
   "execution_count": 43,
   "id": "5faf4e24",
   "metadata": {},
   "outputs": [
    {
     "data": {
      "text/plain": [
       "array([[8., 4., 5., 0.],\n",
       "       [7., 5., 3., 7.],\n",
       "       [3., 4., 1., 4.]])"
      ]
     },
     "execution_count": 43,
     "metadata": {},
     "output_type": "execute_result"
    }
   ],
   "source": [
    "a"
   ]
  },
  {
   "cell_type": "code",
   "execution_count": 47,
   "id": "0174e940",
   "metadata": {},
   "outputs": [
    {
     "data": {
      "text/plain": [
       "(3, 4)"
      ]
     },
     "execution_count": 47,
     "metadata": {},
     "output_type": "execute_result"
    }
   ],
   "source": [
    "a.shape"
   ]
  },
  {
   "cell_type": "code",
   "execution_count": 48,
   "id": "bd5eafad",
   "metadata": {},
   "outputs": [
    {
     "data": {
      "text/plain": [
       "array([8., 4., 5., 0., 7., 5., 3., 7., 3., 4., 1., 4.])"
      ]
     },
     "execution_count": 48,
     "metadata": {},
     "output_type": "execute_result"
    }
   ],
   "source": [
    "a.ravel() #flatten array"
   ]
  },
  {
   "cell_type": "code",
   "execution_count": 49,
   "id": "a9aa77a5",
   "metadata": {},
   "outputs": [
    {
     "data": {
      "text/plain": [
       "array([[8., 4.],\n",
       "       [5., 0.],\n",
       "       [7., 5.],\n",
       "       [3., 7.],\n",
       "       [3., 4.],\n",
       "       [1., 4.]])"
      ]
     },
     "execution_count": 49,
     "metadata": {},
     "output_type": "execute_result"
    }
   ],
   "source": [
    "a.reshape(6, 2)"
   ]
  },
  {
   "cell_type": "code",
   "execution_count": 50,
   "id": "9dee7ca1",
   "metadata": {},
   "outputs": [
    {
     "data": {
      "text/plain": [
       "array([[8., 7., 3.],\n",
       "       [4., 5., 4.],\n",
       "       [5., 3., 1.],\n",
       "       [0., 7., 4.]])"
      ]
     },
     "execution_count": 50,
     "metadata": {},
     "output_type": "execute_result"
    }
   ],
   "source": [
    "a.T #transpose"
   ]
  },
  {
   "cell_type": "markdown",
   "id": "a3a04634",
   "metadata": {},
   "source": [
    "### stacking arrays"
   ]
  },
  {
   "cell_type": "markdown",
   "id": "482d6417",
   "metadata": {},
   "source": [
    "arrays can be stacked together along different axes"
   ]
  },
  {
   "cell_type": "code",
   "execution_count": 54,
   "id": "d3194004",
   "metadata": {},
   "outputs": [],
   "source": [
    "a = np.floor(10 * rg.random((2, 2)))"
   ]
  },
  {
   "cell_type": "code",
   "execution_count": 55,
   "id": "83be3250",
   "metadata": {},
   "outputs": [],
   "source": [
    "b = np.floor(10 * rg.random((2, 2)))"
   ]
  },
  {
   "cell_type": "code",
   "execution_count": 56,
   "id": "b54470f9",
   "metadata": {},
   "outputs": [
    {
     "data": {
      "text/plain": [
       "array([[4., 0.],\n",
       "       [6., 8.]])"
      ]
     },
     "execution_count": 56,
     "metadata": {},
     "output_type": "execute_result"
    }
   ],
   "source": [
    "a"
   ]
  },
  {
   "cell_type": "code",
   "execution_count": 57,
   "id": "afea1baa",
   "metadata": {},
   "outputs": [
    {
     "data": {
      "text/plain": [
       "array([[5., 2.],\n",
       "       [8., 5.]])"
      ]
     },
     "execution_count": 57,
     "metadata": {},
     "output_type": "execute_result"
    }
   ],
   "source": [
    "b"
   ]
  },
  {
   "cell_type": "code",
   "execution_count": 58,
   "id": "9965df74",
   "metadata": {},
   "outputs": [
    {
     "data": {
      "text/plain": [
       "array([[4., 0.],\n",
       "       [6., 8.],\n",
       "       [5., 2.],\n",
       "       [8., 5.]])"
      ]
     },
     "execution_count": 58,
     "metadata": {},
     "output_type": "execute_result"
    }
   ],
   "source": [
    "np.vstack((a, b))"
   ]
  },
  {
   "cell_type": "code",
   "execution_count": 59,
   "id": "39c579df",
   "metadata": {},
   "outputs": [
    {
     "data": {
      "text/plain": [
       "array([[4., 0., 5., 2.],\n",
       "       [6., 8., 8., 5.]])"
      ]
     },
     "execution_count": 59,
     "metadata": {},
     "output_type": "execute_result"
    }
   ],
   "source": [
    "np.hstack((a, b))"
   ]
  },
  {
   "cell_type": "markdown",
   "id": "2d63dd64",
   "metadata": {},
   "source": [
    "### indexing with boolean arrays"
   ]
  },
  {
   "cell_type": "code",
   "execution_count": 60,
   "id": "6b41a042",
   "metadata": {},
   "outputs": [],
   "source": [
    "a = np.arange(12).reshape(3, 4)"
   ]
  },
  {
   "cell_type": "code",
   "execution_count": 61,
   "id": "4f603d73",
   "metadata": {},
   "outputs": [
    {
     "data": {
      "text/plain": [
       "array([[ 0,  1,  2,  3],\n",
       "       [ 4,  5,  6,  7],\n",
       "       [ 8,  9, 10, 11]])"
      ]
     },
     "execution_count": 61,
     "metadata": {},
     "output_type": "execute_result"
    }
   ],
   "source": [
    "a"
   ]
  },
  {
   "cell_type": "code",
   "execution_count": 62,
   "id": "bc3d7def",
   "metadata": {},
   "outputs": [
    {
     "data": {
      "text/plain": [
       "array([[False, False, False, False],\n",
       "       [False,  True,  True,  True],\n",
       "       [ True,  True,  True,  True]])"
      ]
     },
     "execution_count": 62,
     "metadata": {},
     "output_type": "execute_result"
    }
   ],
   "source": [
    "a>4"
   ]
  },
  {
   "cell_type": "code",
   "execution_count": 63,
   "id": "57b0bb94",
   "metadata": {},
   "outputs": [],
   "source": [
    "b = a > 4"
   ]
  },
  {
   "cell_type": "code",
   "execution_count": 64,
   "id": "e7ae04bd",
   "metadata": {},
   "outputs": [
    {
     "data": {
      "text/plain": [
       "array([[False, False, False, False],\n",
       "       [False,  True,  True,  True],\n",
       "       [ True,  True,  True,  True]])"
      ]
     },
     "execution_count": 64,
     "metadata": {},
     "output_type": "execute_result"
    }
   ],
   "source": [
    "b"
   ]
  },
  {
   "cell_type": "code",
   "execution_count": 65,
   "id": "de08f551",
   "metadata": {},
   "outputs": [
    {
     "data": {
      "text/plain": [
       "array([ 5,  6,  7,  8,  9, 10, 11])"
      ]
     },
     "execution_count": 65,
     "metadata": {},
     "output_type": "execute_result"
    }
   ],
   "source": [
    "a[b]"
   ]
  },
  {
   "cell_type": "code",
   "execution_count": 67,
   "id": "851c8bfd",
   "metadata": {},
   "outputs": [],
   "source": [
    "b1 = np.array([False, True, True])  \n",
    "b2 = np.array([True, False, True, False]) "
   ]
  },
  {
   "cell_type": "code",
   "execution_count": 68,
   "id": "c138c414",
   "metadata": {},
   "outputs": [
    {
     "data": {
      "text/plain": [
       "array([[ 0,  1,  2,  3],\n",
       "       [ 4,  5,  6,  7],\n",
       "       [ 8,  9, 10, 11]])"
      ]
     },
     "execution_count": 68,
     "metadata": {},
     "output_type": "execute_result"
    }
   ],
   "source": [
    "a"
   ]
  },
  {
   "cell_type": "code",
   "execution_count": 69,
   "id": "8a9e6f6d",
   "metadata": {},
   "outputs": [
    {
     "data": {
      "text/plain": [
       "array([ 4, 10])"
      ]
     },
     "execution_count": 69,
     "metadata": {},
     "output_type": "execute_result"
    }
   ],
   "source": [
    "a[b1,b2] #filter on rows"
   ]
  },
  {
   "cell_type": "code",
   "execution_count": 90,
   "id": "ab8c6335",
   "metadata": {},
   "outputs": [
    {
     "data": {
      "text/plain": [
       "array([[ 0,  2],\n",
       "       [ 4,  6],\n",
       "       [ 8, 10]])"
      ]
     },
     "execution_count": 90,
     "metadata": {},
     "output_type": "execute_result"
    }
   ],
   "source": [
    "a[:, b2]  #filter on columns"
   ]
  },
  {
   "cell_type": "markdown",
   "id": "2038c277",
   "metadata": {},
   "source": [
    "### vectorization"
   ]
  },
  {
   "cell_type": "markdown",
   "id": "5b81b121",
   "metadata": {},
   "source": [
    "Numpy arrays are homogenous, unlike lists. Vectorization takes advantage of this - doesnt have to 'loop' through elements"
   ]
  },
  {
   "cell_type": "code",
   "execution_count": 70,
   "id": "b5cdec55",
   "metadata": {},
   "outputs": [
    {
     "name": "stdout",
     "output_type": "stream",
     "text": [
      "CPU times: total: 0 ns\n",
      "Wall time: 755 µs\n"
     ]
    },
    {
     "data": {
      "text/plain": [
       "704982704"
      ]
     },
     "execution_count": 70,
     "metadata": {},
     "output_type": "execute_result"
    }
   ],
   "source": [
    "%%time\n",
    "np.sum(np.arange(100000))"
   ]
  },
  {
   "cell_type": "code",
   "execution_count": 72,
   "id": "3a837db7",
   "metadata": {},
   "outputs": [],
   "source": [
    "import time"
   ]
  },
  {
   "cell_type": "code",
   "execution_count": 76,
   "id": "63ac498d",
   "metadata": {},
   "outputs": [
    {
     "data": {
      "text/plain": [
       "1674024368.4027307"
      ]
     },
     "execution_count": 76,
     "metadata": {},
     "output_type": "execute_result"
    }
   ],
   "source": [
    "time.time()"
   ]
  },
  {
   "cell_type": "code",
   "execution_count": 77,
   "id": "5e947fe4",
   "metadata": {},
   "outputs": [
    {
     "name": "stdout",
     "output_type": "stream",
     "text": [
      "CPU times: total: 15.6 ms\n",
      "Wall time: 23.8 ms\n"
     ]
    },
    {
     "name": "stderr",
     "output_type": "stream",
     "text": [
      "<timed eval>:1: RuntimeWarning: overflow encountered in long_scalars\n"
     ]
    },
    {
     "data": {
      "text/plain": [
       "704982704"
      ]
     },
     "execution_count": 77,
     "metadata": {},
     "output_type": "execute_result"
    }
   ],
   "source": [
    "%%time\n",
    "sum(list(np.arange(100000)))"
   ]
  },
  {
   "cell_type": "code",
   "execution_count": 78,
   "id": "7c2c4c55",
   "metadata": {},
   "outputs": [
    {
     "name": "stdout",
     "output_type": "stream",
     "text": [
      "CPU times: total: 62.5 ms\n",
      "Wall time: 50 ms\n"
     ]
    },
    {
     "name": "stderr",
     "output_type": "stream",
     "text": [
      "<timed exec>:3: RuntimeWarning: overflow encountered in long_scalars\n"
     ]
    },
    {
     "data": {
      "text/plain": [
       "704982704"
      ]
     },
     "execution_count": 78,
     "metadata": {},
     "output_type": "execute_result"
    }
   ],
   "source": [
    "%%time\n",
    "total = 0\n",
    "for i in np.arange(100000):\n",
    "    total = i + total\n",
    "total"
   ]
  },
  {
   "cell_type": "markdown",
   "id": "886022f8",
   "metadata": {},
   "source": [
    "Can also use broadcasting (essentially extrapolating an array to match as required)"
   ]
  },
  {
   "cell_type": "markdown",
   "id": "9c43612e",
   "metadata": {},
   "source": [
    "real example from seacalcs wt calc:"
   ]
  },
  {
   "cell_type": "code",
   "execution_count": null,
   "id": "0060ac0d",
   "metadata": {},
   "outputs": [],
   "source": []
  },
  {
   "cell_type": "code",
   "execution_count": 79,
   "id": "373db91d",
   "metadata": {},
   "outputs": [],
   "source": [
    "def gamma_p(beta, p_i, p_e, p_b):\n",
    "    \"\"\"\n",
    "    Parameter accouting for effect of D/t2 ratio as per DNVGL-ST-F101 December 2017 Eq.5.23\n",
    "    :param beta:[-] Factor used in combined loading criteria\n",
    "    :param p_i:[Pa] Internal pressure\n",
    "    :param p_e:[Pa] External pressure\n",
    "    :param p_b:[Pa] Burst pressure\n",
    "    :return:[-] gamma_p\n",
    "    \"\"\"\n",
    "    if (p_i - p_e) / p_b <= 2 / 3:\n",
    "        return 1 - beta\n",
    "\n",
    "    elif (p_i - p_e) / p_b > 2 / 3:\n",
    "        return 1 - 3 * beta * (1 - (p_i - p_e) / p_b)"
   ]
  },
  {
   "cell_type": "code",
   "execution_count": 81,
   "id": "30695662",
   "metadata": {},
   "outputs": [
    {
     "ename": "ValueError",
     "evalue": "The truth value of an array with more than one element is ambiguous. Use a.any() or a.all()",
     "output_type": "error",
     "traceback": [
      "\u001b[1;31m---------------------------------------------------------------------------\u001b[0m",
      "\u001b[1;31mValueError\u001b[0m                                Traceback (most recent call last)",
      "Input \u001b[1;32mIn [81]\u001b[0m, in \u001b[0;36m<cell line: 1>\u001b[1;34m()\u001b[0m\n\u001b[1;32m----> 1\u001b[0m \u001b[43mgamma_p\u001b[49m\u001b[43m(\u001b[49m\u001b[38;5;241;43m0.2\u001b[39;49m\u001b[43m,\u001b[49m\u001b[43m \u001b[49m\u001b[43mnp\u001b[49m\u001b[38;5;241;43m.\u001b[39;49m\u001b[43marange\u001b[49m\u001b[43m(\u001b[49m\u001b[38;5;241;43m10000\u001b[39;49m\u001b[43m,\u001b[49m\u001b[43m \u001b[49m\u001b[38;5;241;43m1000000\u001b[39;49m\u001b[43m,\u001b[49m\u001b[43m \u001b[49m\u001b[38;5;241;43m100\u001b[39;49m\u001b[43m)\u001b[49m\u001b[43m,\u001b[49m\u001b[43m \u001b[49m\u001b[38;5;241;43m100000\u001b[39;49m\u001b[43m,\u001b[49m\u001b[43m \u001b[49m\u001b[38;5;241;43m100000\u001b[39;49m\u001b[43m)\u001b[49m\n",
      "Input \u001b[1;32mIn [79]\u001b[0m, in \u001b[0;36mgamma_p\u001b[1;34m(beta, p_i, p_e, p_b)\u001b[0m\n\u001b[0;32m      1\u001b[0m \u001b[38;5;28;01mdef\u001b[39;00m \u001b[38;5;21mgamma_p\u001b[39m(beta, p_i, p_e, p_b):\n\u001b[0;32m      2\u001b[0m     \u001b[38;5;124;03m\"\"\"\u001b[39;00m\n\u001b[0;32m      3\u001b[0m \u001b[38;5;124;03m    Parameter accouting for effect of D/t2 ratio as per DNVGL-ST-F101 December 2017 Eq.5.23\u001b[39;00m\n\u001b[0;32m      4\u001b[0m \u001b[38;5;124;03m    :param beta:[-] Factor used in combined loading criteria\u001b[39;00m\n\u001b[1;32m   (...)\u001b[0m\n\u001b[0;32m      8\u001b[0m \u001b[38;5;124;03m    :return:[-] gamma_p\u001b[39;00m\n\u001b[0;32m      9\u001b[0m \u001b[38;5;124;03m    \"\"\"\u001b[39;00m\n\u001b[1;32m---> 10\u001b[0m     \u001b[38;5;28;01mif\u001b[39;00m \u001b[43m(\u001b[49m\u001b[43mp_i\u001b[49m\u001b[43m \u001b[49m\u001b[38;5;241;43m-\u001b[39;49m\u001b[43m \u001b[49m\u001b[43mp_e\u001b[49m\u001b[43m)\u001b[49m\u001b[43m \u001b[49m\u001b[38;5;241;43m/\u001b[39;49m\u001b[43m \u001b[49m\u001b[43mp_b\u001b[49m\u001b[43m \u001b[49m\u001b[38;5;241;43m<\u001b[39;49m\u001b[38;5;241;43m=\u001b[39;49m\u001b[43m \u001b[49m\u001b[38;5;241;43m2\u001b[39;49m\u001b[43m \u001b[49m\u001b[38;5;241;43m/\u001b[39;49m\u001b[43m \u001b[49m\u001b[38;5;241;43m3\u001b[39;49m:\n\u001b[0;32m     11\u001b[0m         \u001b[38;5;28;01mreturn\u001b[39;00m \u001b[38;5;241m1\u001b[39m \u001b[38;5;241m-\u001b[39m beta\n\u001b[0;32m     13\u001b[0m     \u001b[38;5;28;01melif\u001b[39;00m (p_i \u001b[38;5;241m-\u001b[39m p_e) \u001b[38;5;241m/\u001b[39m p_b \u001b[38;5;241m>\u001b[39m \u001b[38;5;241m2\u001b[39m \u001b[38;5;241m/\u001b[39m \u001b[38;5;241m3\u001b[39m:\n",
      "\u001b[1;31mValueError\u001b[0m: The truth value of an array with more than one element is ambiguous. Use a.any() or a.all()"
     ]
    }
   ],
   "source": [
    "gamma_p(0.2, np.arange(10000, 1000000, 100), 100000, 100000)"
   ]
  },
  {
   "cell_type": "code",
   "execution_count": null,
   "id": "d2b114ba",
   "metadata": {},
   "outputs": [],
   "source": [
    "for x in np.arange(10000, 1000000, 100)"
   ]
  },
  {
   "cell_type": "code",
   "execution_count": 82,
   "id": "7ac4825a",
   "metadata": {},
   "outputs": [],
   "source": [
    "@np.vectorize\n",
    "def gamma_p(beta, p_i, p_e, p_b):\n",
    "    \"\"\"\n",
    "    Parameter accouting for effect of D/t2 ratio as per DNVGL-ST-F101 December 2017 Eq.5.23\n",
    "    :param beta:[-] Factor used in combined loading criteria\n",
    "    :param p_i:[Pa] Internal pressure\n",
    "    :param p_e:[Pa] External pressure\n",
    "    :param p_b:[Pa] Burst pressure\n",
    "    :return:[-] gamma_p\n",
    "    \"\"\"\n",
    "    if (p_i - p_e) / p_b <= 2 / 3:\n",
    "        return 1 - beta\n",
    "\n",
    "    elif (p_i - p_e) / p_b > 2 / 3:\n",
    "        return 1 - 3 * beta * (1 - (p_i - p_e) / p_b)"
   ]
  },
  {
   "cell_type": "code",
   "execution_count": 83,
   "id": "4bbfa68b",
   "metadata": {},
   "outputs": [
    {
     "data": {
      "text/plain": [
       "array([0.8   , 0.8   , 0.8   , ..., 5.7982, 5.7988, 5.7994])"
      ]
     },
     "execution_count": 83,
     "metadata": {},
     "output_type": "execute_result"
    }
   ],
   "source": [
    "gamma_p(0.2, np.arange(10000, 1000000, 100), 100000, 100000)"
   ]
  },
  {
   "cell_type": "code",
   "execution_count": null,
   "id": "de1aa4cc",
   "metadata": {},
   "outputs": [],
   "source": []
  }
 ],
 "metadata": {
  "kernelspec": {
   "display_name": "Python 3 (ipykernel)",
   "language": "python",
   "name": "python3"
  },
  "language_info": {
   "codemirror_mode": {
    "name": "ipython",
    "version": 3
   },
   "file_extension": ".py",
   "mimetype": "text/x-python",
   "name": "python",
   "nbconvert_exporter": "python",
   "pygments_lexer": "ipython3",
   "version": "3.11.5"
  }
 },
 "nbformat": 4,
 "nbformat_minor": 5
}
