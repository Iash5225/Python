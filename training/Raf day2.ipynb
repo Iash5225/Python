{
 "cells": [
  {
   "cell_type": "markdown",
   "id": "6601bffe",
   "metadata": {},
   "source": [
    "# Python Functions and Importing Packages"
   ]
  },
  {
   "cell_type": "markdown",
   "id": "312e5b3d",
   "metadata": {},
   "source": [
    "Today, we'll delve into two fundamental aspects of Python programming—Functions and Importing Packages. Understanding these concepts will not only make your code more modular and organized but also enable you to leverage external libraries for enhanced functionality."
   ]
  },
  {
   "cell_type": "markdown",
   "id": "c2a613dc",
   "metadata": {},
   "source": [
    "\n",
    "## 1. Functions in Python:\n",
    "\n",
    "Definition:\n",
    "A function is a block of organized, reusable code that performs a specific task. It helps in breaking down complex programs into smaller, manageable chunks."
   ]
  },
  {
   "cell_type": "code",
   "execution_count": null,
   "id": "0e0e057f",
   "metadata": {},
   "outputs": [],
   "source": [
    "def function_name(parameters):\n",
    "    # Function body\n",
    "    # ...\n",
    "    return result"
   ]
  },
  {
   "cell_type": "markdown",
   "id": "acd2241b",
   "metadata": {},
   "source": [
    "### Example 1"
   ]
  },
  {
   "cell_type": "code",
   "execution_count": null,
   "id": "129cdd8b",
   "metadata": {},
   "outputs": [],
   "source": [
    "def add_numbers(a, b):\n",
    "    result = a + b\n",
    "    return result\n",
    "\n",
    "sum_result = add_numbers(5, 3)\n",
    "print(\"Sum:\", sum_result)"
   ]
  },
  {
   "cell_type": "markdown",
   "id": "de82ae49",
   "metadata": {},
   "source": [
    "Explanation:\n",
    "\n",
    "* 'def' keyword is used to define a function.\n",
    "* 'function_name' is the identifier for your function.\n",
    "* 'parameters' are input values the function accepts.\n",
    "* The function body contains the code to perform the desired task.\n",
    "* 'return' statement sends back the result."
   ]
  },
  {
   "cell_type": "markdown",
   "id": "91a0afe6",
   "metadata": {},
   "source": [
    "### Example 2"
   ]
  },
  {
   "cell_type": "code",
   "execution_count": null,
   "id": "c1a29949",
   "metadata": {},
   "outputs": [],
   "source": [
    "def greet(name):\n",
    "    return \"Hello, \" + name + \"!\"\n",
    "\n",
    "print(greet(\"Alice\"))"
   ]
  },
  {
   "cell_type": "markdown",
   "id": "2d6acbe7",
   "metadata": {},
   "source": [
    "Explanation:\n",
    "\n",
    "* The function greet takes a name parameter and returns a greeting.\n",
    "* The function is then called with the argument \"Alice,\" and the result is printed."
   ]
  },
  {
   "cell_type": "markdown",
   "id": "1e4b2cb6",
   "metadata": {},
   "source": [
    "### Example 3:"
   ]
  },
  {
   "cell_type": "code",
   "execution_count": null,
   "id": "2c54e7ba",
   "metadata": {},
   "outputs": [],
   "source": [
    "def is_even(number):\n",
    "    return number % 2 == 0\n",
    "\n",
    "print(is_even(10))"
   ]
  },
  {
   "cell_type": "markdown",
   "id": "71876da4",
   "metadata": {},
   "source": [
    "Explanation:\n",
    "\n",
    "* The function is_even checks if a given number is even.\n",
    "* It returns True if the number is even, False otherwise"
   ]
  },
  {
   "cell_type": "markdown",
   "id": "e021a789",
   "metadata": {},
   "source": [
    "#### Task 1"
   ]
  },
  {
   "cell_type": "markdown",
   "id": "58beb874",
   "metadata": {},
   "source": [
    "Write a function called multiply that takes two numbers as parameters and returns their product. Call the function with 3 and 4, then print the result."
   ]
  },
  {
   "cell_type": "code",
   "execution_count": null,
   "id": "55c6868e",
   "metadata": {},
   "outputs": [],
   "source": []
  },
  {
   "cell_type": "markdown",
   "id": "20cc0bad",
   "metadata": {},
   "source": [
    "#### Task 2"
   ]
  },
  {
   "cell_type": "markdown",
   "id": "01c107a6",
   "metadata": {},
   "source": [
    "Define a function named greet_person that takes a person's name as a parameter and prints a personalized greeting. Call the function with the name \"Alice.\""
   ]
  },
  {
   "cell_type": "code",
   "execution_count": null,
   "id": "39ac98bf",
   "metadata": {},
   "outputs": [],
   "source": []
  },
  {
   "cell_type": "markdown",
   "id": "1b0cda32",
   "metadata": {},
   "source": [
    "#### Task 3"
   ]
  },
  {
   "cell_type": "markdown",
   "id": "fa771388",
   "metadata": {},
   "source": [
    "Create a function called calculate_square that receives a number as a parameter and returns its square. Call the function with 6 and print the result.\n",
    "\n"
   ]
  },
  {
   "cell_type": "code",
   "execution_count": null,
   "id": "3f4ec3b5",
   "metadata": {},
   "outputs": [],
   "source": []
  },
  {
   "cell_type": "markdown",
   "id": "404b51df",
   "metadata": {},
   "source": [
    "#### Task 4"
   ]
  },
  {
   "cell_type": "markdown",
   "id": "4a760568",
   "metadata": {},
   "source": [
    "Write a function named is_adult that takes an age as a parameter and returns True if the person is 18 or older, and False otherwise. Call the function with the age 22 and print the result."
   ]
  },
  {
   "cell_type": "code",
   "execution_count": null,
   "id": "f21d15eb",
   "metadata": {},
   "outputs": [],
   "source": []
  },
  {
   "cell_type": "markdown",
   "id": "c440ea93",
   "metadata": {},
   "source": [
    "\n",
    "## 2. Importing Packages:\n",
    "\n",
    "Definition:\n",
    "Packages (or modules) are a way of organizing related pieces of code into a single directory hierarchy. Importing allows you to use the functions and variables defined in those packages."
   ]
  },
  {
   "cell_type": "code",
   "execution_count": null,
   "id": "90bc9e6d",
   "metadata": {},
   "outputs": [],
   "source": [
    "# import package_name"
   ]
  },
  {
   "cell_type": "markdown",
   "id": "243a92da",
   "metadata": {},
   "source": [
    "### Example 1"
   ]
  },
  {
   "cell_type": "code",
   "execution_count": null,
   "id": "c15b9d86",
   "metadata": {},
   "outputs": [],
   "source": [
    "import math\n",
    "\n",
    "result = math.sqrt(25)\n",
    "print(\"Square root:\", result)"
   ]
  },
  {
   "cell_type": "markdown",
   "id": "db37f1bb",
   "metadata": {},
   "source": [
    "Explanation:\n",
    "\n",
    "* 'import' keyword is used to bring in a package.\n",
    "* 'package_name' is the name of the package to be imported."
   ]
  },
  {
   "cell_type": "markdown",
   "id": "6b8a470a",
   "metadata": {},
   "source": [
    "### Example 2"
   ]
  },
  {
   "cell_type": "code",
   "execution_count": null,
   "id": "02f80a2f",
   "metadata": {},
   "outputs": [],
   "source": [
    "import datetime\n",
    "\n",
    "current_date = datetime.date.today()\n",
    "print(\"Today's date:\", current_date)"
   ]
  },
  {
   "cell_type": "markdown",
   "id": "705c3e52",
   "metadata": {},
   "source": [
    "Explanation:\n",
    "\n",
    "* The datetime package is imported.\n",
    "* The date class within the package is used to get the current date."
   ]
  },
  {
   "cell_type": "markdown",
   "id": "ab2cd5df",
   "metadata": {},
   "source": [
    "### Example 3:"
   ]
  },
  {
   "cell_type": "code",
   "execution_count": null,
   "id": "bb1a5ab3",
   "metadata": {},
   "outputs": [],
   "source": [
    "from math import factorial\n",
    "\n",
    "result = factorial(5)\n",
    "print(\"Factorial of 5:\", result)"
   ]
  },
  {
   "cell_type": "markdown",
   "id": "93c43c6e",
   "metadata": {},
   "source": [
    "Explanation:\n",
    "\n",
    "* Only the factorial function from the math package is imported, not the entire package."
   ]
  },
  {
   "cell_type": "markdown",
   "id": "7ec4b5e5",
   "metadata": {},
   "source": [
    "#### Task 1"
   ]
  },
  {
   "cell_type": "markdown",
   "id": "86663988",
   "metadata": {},
   "source": [
    "Import the math package and use its sqrt function to find the square root of 16. Print the result."
   ]
  },
  {
   "cell_type": "code",
   "execution_count": null,
   "id": "575d2b2f",
   "metadata": {},
   "outputs": [],
   "source": []
  },
  {
   "cell_type": "markdown",
   "id": "6017af2b",
   "metadata": {},
   "source": [
    "#### Task 2"
   ]
  },
  {
   "cell_type": "markdown",
   "id": "f489d399",
   "metadata": {},
   "source": [
    "Import the random package and use its randrange function to generate a random number between 1 and 10. Print the result."
   ]
  },
  {
   "cell_type": "code",
   "execution_count": null,
   "id": "51870d4d",
   "metadata": {},
   "outputs": [],
   "source": []
  },
  {
   "cell_type": "markdown",
   "id": "66edae8f",
   "metadata": {},
   "source": [
    "#### Task 3"
   ]
  },
  {
   "cell_type": "markdown",
   "id": "83361a07",
   "metadata": {},
   "source": [
    "Import the datetime package and print the current date using its date.today() function."
   ]
  },
  {
   "cell_type": "code",
   "execution_count": null,
   "id": "527ecd06",
   "metadata": {},
   "outputs": [],
   "source": []
  },
  {
   "cell_type": "markdown",
   "id": "4a41363a",
   "metadata": {},
   "source": [
    "#### Task 4"
   ]
  },
  {
   "cell_type": "markdown",
   "id": "ea5977b8",
   "metadata": {},
   "source": [
    "Import the statistics package and find the average of a list of numbers [2, 4, 6, 8, 10] using its mean function. Print the result."
   ]
  },
  {
   "cell_type": "code",
   "execution_count": null,
   "id": "673c01e9",
   "metadata": {},
   "outputs": [],
   "source": []
  }
 ],
 "metadata": {
  "kernelspec": {
   "display_name": "Python 3 (ipykernel)",
   "language": "python",
   "name": "python3"
  },
  "language_info": {
   "codemirror_mode": {
    "name": "ipython",
    "version": 3
   },
   "file_extension": ".py",
   "mimetype": "text/x-python",
   "name": "python",
   "nbconvert_exporter": "python",
   "pygments_lexer": "ipython3",
   "version": "3.11.5"
  }
 },
 "nbformat": 4,
 "nbformat_minor": 5
}
