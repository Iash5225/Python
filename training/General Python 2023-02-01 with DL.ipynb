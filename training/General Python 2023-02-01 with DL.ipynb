{
 "cells": [
  {
   "cell_type": "code",
   "execution_count": 25,
   "id": "70c561b1",
   "metadata": {},
   "outputs": [],
   "source": [
    "import pandas as pd\n",
    "import numpy as np\n",
    "import scipy as sp\n",
    "import sqlalchemy as sa\n",
    "from sea_calcs import InputProperty as IP\n",
    "from sea_calcs.general.misc_supporting_funcs import make_json_compatible"
   ]
  },
  {
   "cell_type": "code",
   "execution_count": 2,
   "id": "f16271cb",
   "metadata": {},
   "outputs": [
    {
     "data": {
      "text/html": [
       "<div>\n",
       "<style scoped>\n",
       "    .dataframe tbody tr th:only-of-type {\n",
       "        vertical-align: middle;\n",
       "    }\n",
       "\n",
       "    .dataframe tbody tr th {\n",
       "        vertical-align: top;\n",
       "    }\n",
       "\n",
       "    .dataframe thead th {\n",
       "        text-align: right;\n",
       "    }\n",
       "</style>\n",
       "<table border=\"1\" class=\"dataframe\">\n",
       "  <thead>\n",
       "    <tr style=\"text-align: right;\">\n",
       "      <th></th>\n",
       "      <th>Foo</th>\n",
       "      <th>Bar</th>\n",
       "    </tr>\n",
       "  </thead>\n",
       "  <tbody>\n",
       "    <tr>\n",
       "      <th>0</th>\n",
       "      <td>5</td>\n",
       "      <td>6</td>\n",
       "    </tr>\n",
       "    <tr>\n",
       "      <th>1</th>\n",
       "      <td>4</td>\n",
       "      <td>7</td>\n",
       "    </tr>\n",
       "    <tr>\n",
       "      <th>2</th>\n",
       "      <td>3</td>\n",
       "      <td>8</td>\n",
       "    </tr>\n",
       "  </tbody>\n",
       "</table>\n",
       "</div>"
      ],
      "text/plain": [
       "   Foo  Bar\n",
       "0    5    6\n",
       "1    4    7\n",
       "2    3    8"
      ]
     },
     "execution_count": 2,
     "metadata": {},
     "output_type": "execute_result"
    }
   ],
   "source": [
    "df = pd.DataFrame([{'Foo':5,'Bar':6},{'Foo':4,'Bar':7},{'Foo':3,'Bar':8}])\n",
    "df"
   ]
  },
  {
   "cell_type": "code",
   "execution_count": null,
   "id": "60d165bc",
   "metadata": {},
   "outputs": [],
   "source": [
    "df['FooBar'] = df.Foo+df.Bar\n",
    "df['BarFoo'] = 5\n",
    "df"
   ]
  },
  {
   "cell_type": "code",
   "execution_count": 22,
   "id": "4e34db33",
   "metadata": {},
   "outputs": [
    {
     "data": {
      "text/html": [
       "<div>\n",
       "<style scoped>\n",
       "    .dataframe tbody tr th:only-of-type {\n",
       "        vertical-align: middle;\n",
       "    }\n",
       "\n",
       "    .dataframe tbody tr th {\n",
       "        vertical-align: top;\n",
       "    }\n",
       "\n",
       "    .dataframe thead th {\n",
       "        text-align: right;\n",
       "    }\n",
       "</style>\n",
       "<table border=\"1\" class=\"dataframe\">\n",
       "  <thead>\n",
       "    <tr style=\"text-align: right;\">\n",
       "      <th></th>\n",
       "      <th>Foo</th>\n",
       "      <th>Bar</th>\n",
       "      <th>FooBar</th>\n",
       "      <th>BarFoo</th>\n",
       "    </tr>\n",
       "  </thead>\n",
       "  <tbody>\n",
       "    <tr>\n",
       "      <th>0</th>\n",
       "      <td>5</td>\n",
       "      <td>6</td>\n",
       "      <td>11</td>\n",
       "      <td>5</td>\n",
       "    </tr>\n",
       "    <tr>\n",
       "      <th>2</th>\n",
       "      <td>3</td>\n",
       "      <td>8</td>\n",
       "      <td>11</td>\n",
       "      <td>5</td>\n",
       "    </tr>\n",
       "  </tbody>\n",
       "</table>\n",
       "</div>"
      ],
      "text/plain": [
       "   Foo  Bar  FooBar  BarFoo\n",
       "0    5    6      11       5\n",
       "2    3    8      11       5"
      ]
     },
     "execution_count": 22,
     "metadata": {},
     "output_type": "execute_result"
    }
   ],
   "source": []
  },
  {
   "cell_type": "code",
   "execution_count": 4,
   "id": "84eb7b9b",
   "metadata": {},
   "outputs": [],
   "source": [
    "interp = sp.interpolate.interp1d(df.Foo,df.Bar)"
   ]
  },
  {
   "cell_type": "code",
   "execution_count": 5,
   "id": "a8090445",
   "metadata": {},
   "outputs": [
    {
     "data": {
      "text/plain": [
       "array([7.5       , 7.9       , 7.85840735])"
      ]
     },
     "execution_count": 5,
     "metadata": {},
     "output_type": "execute_result"
    }
   ],
   "source": [
    "interp([3.5,3.1,np.pi])"
   ]
  },
  {
   "cell_type": "code",
   "execution_count": 24,
   "id": "60a2118f",
   "metadata": {},
   "outputs": [
    {
     "name": "stdout",
     "output_type": "stream",
     "text": [
      "Connecting to vault: SEA Vault\n",
      "Connection to SEA Vault Successful\n"
     ]
    }
   ],
   "source": [
    "from sea_calcs import MFiles\n",
    "mf = MFiles()"
   ]
  },
  {
   "cell_type": "code",
   "execution_count": 49,
   "id": "f39ca0c3",
   "metadata": {},
   "outputs": [
    {
     "data": {
      "text/html": [
       "<table style=\"width:100%\">\n",
       "    <tr>\n",
       "        <th>Object Title</th>\n",
       "        <td><a href=\"m-files://show/70242064-9A5B-41DB-89C6-20D3931E7974/0-428175?object=F7F87969-4ACE-414F-907B-57FCEFCED4F6\" target=\"_blank\">Techteam Presentation Schedule</a></td>\n",
       "        <th>Project</th>\n",
       "        <td>SEA-CORP - Corporate Documents</td>\n",
       "    </tr>\n",
       "    <tr>\n",
       "        <th>Object ID</th>\n",
       "        <td><a href=\"https://m-files.seassociates.com.au/Default.aspx?#70242064-9A5B-41DB-89C6-20D3931E7974/object/F7F87969-4ACE-414F-907B-57FCEFCED4F6/latest\" target=\"_blank\">428175</a></td>\n",
       "        <th>Version (Size)</th>\n",
       "        <td>80 (26.9 kB)</td>\n",
       "    </tr>\n",
       "    <tr>\n",
       "        <th>Time Modified (UTC)</th>\n",
       "        <td>2023-01-31T01:20:54Z</td>\n",
       "        <th>Modified by</th>\n",
       "        <td>Damiano Lombardo 7 days ago</td>\n",
       "    </tr>\n",
       "    \n",
       "</table>"
      ],
      "text/plain": [
       "<IPython.core.display.HTML object>"
      ]
     },
     "metadata": {},
     "output_type": "display_data"
    }
   ],
   "source": [
    "df=pd.read_excel(mf.stream_from_object_id(428175),skiprows=range(92),usecols='A:C')"
   ]
  },
  {
   "cell_type": "code",
   "execution_count": null,
   "id": "3a856a92",
   "metadata": {},
   "outputs": [],
   "source": [
    "df.columns=['date','presenter','topic']"
   ]
  },
  {
   "cell_type": "code",
   "execution_count": null,
   "id": "7ca4d3b7",
   "metadata": {},
   "outputs": [],
   "source": [
    "\"\"\"\n",
    "\n",
    "If we list all the natural numbers below 10 that are multiples of 3 or 5, we get 3, 5, 6 and 9. The sum of these multiples is 23.\n",
    "\n",
    "Find the sum of all the multiples of 3 or 5 below 1000.\n",
    "\"\"\""
   ]
  },
  {
   "cell_type": "code",
   "execution_count": 64,
   "id": "f545b47e",
   "metadata": {},
   "outputs": [],
   "source": [
    "for i in range(0,11):\n",
    "    i % 3"
   ]
  },
  {
   "cell_type": "code",
   "execution_count": 67,
   "id": "2d41e47d",
   "metadata": {},
   "outputs": [
    {
     "data": {
      "text/plain": [
       "1"
      ]
     },
     "execution_count": 67,
     "metadata": {},
     "output_type": "execute_result"
    }
   ],
   "source": [
    "i % 3"
   ]
  },
  {
   "cell_type": "code",
   "execution_count": 68,
   "id": "a8ae84db",
   "metadata": {},
   "outputs": [
    {
     "data": {
      "text/plain": [
       "10"
      ]
     },
     "execution_count": 68,
     "metadata": {},
     "output_type": "execute_result"
    }
   ],
   "source": [
    "i"
   ]
  },
  {
   "cell_type": "code",
   "execution_count": null,
   "id": "69c61ec6",
   "metadata": {},
   "outputs": [],
   "source": []
  }
 ],
 "metadata": {
  "kernelspec": {
   "display_name": "Python 3 (ipykernel)",
   "language": "python",
   "name": "python3"
  },
  "language_info": {
   "codemirror_mode": {
    "name": "ipython",
    "version": 3
   },
   "file_extension": ".py",
   "mimetype": "text/x-python",
   "name": "python",
   "nbconvert_exporter": "python",
   "pygments_lexer": "ipython3",
   "version": "3.10.8"
  }
 },
 "nbformat": 4,
 "nbformat_minor": 5
}
