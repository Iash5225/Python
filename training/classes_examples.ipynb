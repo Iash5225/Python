{
 "cells": [
  {
   "cell_type": "markdown",
   "source": [
    "# More Python Class Examples\n",
    "\n"
   ],
   "metadata": {
    "collapsed": false
   }
  },
  {
   "cell_type": "markdown",
   "source": [
    "1) Create a class called MyClass with an attribute called name. Use the initializer __init__"
   ],
   "metadata": {
    "collapsed": false
   }
  },
  {
   "cell_type": "code",
   "execution_count": 1,
   "outputs": [
    {
     "data": {
      "text/plain": "'Rosie'"
     },
     "execution_count": 1,
     "metadata": {},
     "output_type": "execute_result"
    }
   ],
   "source": [
    "class MyClass:\n",
    "    def __init__(self, name):\n",
    "        self.name = name\n",
    "cls = MyClass(name='Rosie')\n",
    "cls.name"
   ],
   "metadata": {
    "collapsed": false
   }
  },
  {
   "cell_type": "code",
   "execution_count": 2,
   "outputs": [
    {
     "data": {
      "text/plain": "'\\nclass MyClass:\\n    def __init__(self):\\n        self.name = \"Connor\"\\na = MyClass()\\na.name\\n'"
     },
     "execution_count": 2,
     "metadata": {},
     "output_type": "execute_result"
    }
   ],
   "source": [
    "# Solution\n",
    "\"\"\"\n",
    "class MyClass:\n",
    "    def __init__(self):\n",
    "        self.name = \"Connor\"\n",
    "a = MyClass()\n",
    "a.name\n",
    "\"\"\""
   ],
   "metadata": {
    "collapsed": false
   }
  },
  {
   "cell_type": "markdown",
   "source": [
    "2) Write a Python class named Rectangle constructed from length and width and a property that will compute the area of a rectangle."
   ],
   "metadata": {
    "collapsed": false
   }
  },
  {
   "cell_type": "code",
   "execution_count": 3,
   "outputs": [
    {
     "data": {
      "text/plain": "20"
     },
     "execution_count": 3,
     "metadata": {},
     "output_type": "execute_result"
    }
   ],
   "source": [
    "class Rectangle:\n",
    "    def __init__(self, length, width):\n",
    "        self.length = length\n",
    "        self.width = width\n",
    "\n",
    "    @property\n",
    "    def area(self):\n",
    "        return self.width*self.length\n",
    "\n",
    "cls = Rectangle(5, 4)\n",
    "cls.area"
   ],
   "metadata": {
    "collapsed": false
   }
  },
  {
   "cell_type": "code",
   "execution_count": 4,
   "outputs": [
    {
     "data": {
      "text/plain": "'\\nclass Rectangle:\\n    def __init__(self, length, width):\\n        self.length = length\\n        self.width = width\\n\\n    @property\\n    def area(self):\\n        return self.length*self.width\\n\\nmodel = Rectangle(20, 10)\\nmodel.area\\n'"
     },
     "execution_count": 4,
     "metadata": {},
     "output_type": "execute_result"
    }
   ],
   "source": [
    "# Solution\n",
    "\"\"\"\n",
    "class Rectangle:\n",
    "    def __init__(self, length, width):\n",
    "        self.length = length\n",
    "        self.width = width\n",
    "\n",
    "    @property\n",
    "    def area(self):\n",
    "        return self.length*self.width\n",
    "\n",
    "model = Rectangle(20, 10)\n",
    "model.area\n",
    "\"\"\""
   ],
   "metadata": {
    "collapsed": false
   }
  },
  {
   "cell_type": "markdown",
   "source": [
    "3. Create a class called MyClass with an attribute called name. Using sea_calcs IP2. Print all inputs"
   ],
   "metadata": {
    "collapsed": false
   }
  },
  {
   "cell_type": "code",
   "execution_count": 5,
   "outputs": [
    {
     "data": {
      "text/plain": "[name [-]: name of person (default=Iash)]"
     },
     "execution_count": 5,
     "metadata": {},
     "output_type": "execute_result"
    }
   ],
   "source": [
    "from sea_calcs import InputTracker, InputProperty2 as IP2\n",
    "\n",
    "class MyClass(InputTracker):\n",
    "    name = IP2('-',\"name of person\", default=\"Iash\")\n",
    "\n",
    "cls= MyClass()\n",
    "cls.inputs"
   ],
   "metadata": {
    "collapsed": false
   }
  },
  {
   "cell_type": "code",
   "execution_count": 6,
   "outputs": [
    {
     "data": {
      "text/plain": "\"\\nfrom sea_calcs import InputTracker, InputProperty2 as IP2\\n\\nclass MyClass(InputTracker):\\n    name = IP2('-', 'Name of class', default = 'Connor')\\na = MyClass()\\na.inputs\\n\""
     },
     "execution_count": 6,
     "metadata": {},
     "output_type": "execute_result"
    }
   ],
   "source": [
    "# Solution\n",
    "\"\"\"\n",
    "from sea_calcs import InputTracker, InputProperty2 as IP2\n",
    "\n",
    "class MyClass(InputTracker):\n",
    "    name = IP2('-', 'Name of class', default = 'Connor')\n",
    "a = MyClass()\n",
    "a.inputs\n",
    "\"\"\""
   ],
   "metadata": {
    "collapsed": false
   }
  },
  {
   "cell_type": "markdown",
   "source": [
    "4. Create a child class Bus that will inherit all of the variables and methods of the Vehicle class. Give the capacity argument of Bus.seating_capacity() a default value of 50."
   ],
   "metadata": {
    "collapsed": false
   }
  },
  {
   "cell_type": "code",
   "execution_count": 7,
   "outputs": [],
   "source": [
    "# Subclass the Vehicle Class\n",
    "from sea_calcs import InputTracker\n",
    "\n",
    "class Vehicle(InputTracker):\n",
    "    name = IP2('-', 'Name of Vehicle', default='School Bus')\n",
    "    max_speed = IP2('m/s', 'Max speed of vehicle', default=10)\n",
    "    mileage = IP2('L/km', 'Max speed of vehicle', default=10)\n",
    "\n",
    "    def seating_capacity(self, capacity):\n",
    "        return f\"The seating capacity of a {self.name} is {capacity} passengers\""
   ],
   "metadata": {
    "collapsed": false
   }
  },
  {
   "cell_type": "code",
   "execution_count": 8,
   "outputs": [
    {
     "data": {
      "text/plain": "'The seating capacity of a School Bus is 50 passengers'"
     },
     "execution_count": 8,
     "metadata": {},
     "output_type": "execute_result"
    }
   ],
   "source": [
    "class Bus(Vehicle):\n",
    "    def seating_capacity(self, capacity=50):\n",
    "        return super().seating_capacity(capacity)\n",
    "\n",
    "school_bus = Bus()\n",
    "school_bus.seating_capacity()"
   ],
   "metadata": {
    "collapsed": false
   }
  },
  {
   "cell_type": "code",
   "execution_count": 9,
   "outputs": [
    {
     "data": {
      "text/plain": "'\\nclass Bus(Vehicle):\\n    # assign default value to capacity\\n    def seating_capacity(self, capacity=50):\\n        return super().seating_capacity(capacity=50)\\n\\nschool_bus = Bus()\\nschool_bus.seating_capacity()\\n'"
     },
     "execution_count": 9,
     "metadata": {},
     "output_type": "execute_result"
    }
   ],
   "source": [
    "# Solution\n",
    "\"\"\"\n",
    "class Bus(Vehicle):\n",
    "    # assign default value to capacity\n",
    "    def seating_capacity(self, capacity=50):\n",
    "        return super().seating_capacity(capacity=50)\n",
    "\n",
    "school_bus = Bus()\n",
    "school_bus.seating_capacity()\n",
    "\"\"\""
   ],
   "metadata": {
    "collapsed": false
   }
  },
  {
   "cell_type": "markdown",
   "source": [
    "5. Sub-Classing Example - Explain why we have to take an instance of the Seats Class? Call the Class and determine the total mass. List all the inputs."
   ],
   "metadata": {
    "collapsed": false
   }
  },
  {
   "cell_type": "code",
   "execution_count": 10,
   "outputs": [],
   "source": [
    "from sea_calcs import InputTracker, InputProperty2 as IP2\n",
    "\n",
    "class Wheels(InputTracker):\n",
    "    n_wheels = IP2('-', 'Number of wheels', default=2)\n",
    "    mass = IP2('kg/m', 'Mass of wheels as function of diameter', default=45)\n",
    "    diameter = IP2('m', 'Diameter of wheels', required=True)\n",
    "\n",
    "class Seats(InputTracker):\n",
    "    n_seats = IP2('-', 'Number of seats')\n",
    "    material = IP2('-', 'material', default=\"leather\")\n",
    "    mass = IP2('kg', 'mass of seats', default=15)\n",
    "\n",
    "class Chassis(InputTracker):\n",
    "    chassis_mass = IP2('kg', 'chassis mass', default=1000)\n",
    "    # mass = IP2('kg', 'mass of seats', default=35)\n",
    "\n",
    "class Vehicle(Chassis, Wheels, Seats):\n",
    "    # Define Vehicle Properties\n",
    "    @property\n",
    "    def total_mass(self):\n",
    "        seat_mass = Seats().mass\n",
    "        return self.mass*self.diameter + self.chassis_mass + seat_mass"
   ],
   "metadata": {
    "collapsed": false
   }
  },
  {
   "cell_type": "code",
   "execution_count": 11,
   "outputs": [
    {
     "data": {
      "text/plain": "45"
     },
     "execution_count": 11,
     "metadata": {},
     "output_type": "execute_result"
    }
   ],
   "source": [
    "cls = Vehicle()\n",
    "cls.mass"
   ],
   "metadata": {
    "collapsed": false
   }
  },
  {
   "cell_type": "code",
   "execution_count": 12,
   "outputs": [
    {
     "data": {
      "text/plain": "[chassis_mass [kg]: chassis mass (default=1000),\n diameter [m]: Diameter of wheels,\n mass [kg/m]: Mass of wheels as function of diameter (default=45),\n material [-]: material (default=leather),\n n_seats [-]: Number of seats,\n n_wheels [-]: Number of wheels (default=2)]"
     },
     "execution_count": 12,
     "metadata": {},
     "output_type": "execute_result"
    }
   ],
   "source": [
    "cls.inputs"
   ],
   "metadata": {
    "collapsed": false
   }
  },
  {
   "cell_type": "code",
   "execution_count": 13,
   "outputs": [
    {
     "data": {
      "text/plain": "'\\ncls = Vehicle(diameter=0.5)\\ncls.total_mass\\ncls.inputs\\n'"
     },
     "execution_count": 13,
     "metadata": {},
     "output_type": "execute_result"
    }
   ],
   "source": [
    "\"\"\"\n",
    "cls = Vehicle(diameter=0.5)\n",
    "cls.total_mass\n",
    "cls.inputs\n",
    "\"\"\""
   ],
   "metadata": {
    "collapsed": false
   }
  },
  {
   "cell_type": "markdown",
   "source": [],
   "metadata": {
    "collapsed": false
   }
  },
  {
   "cell_type": "markdown",
   "source": [
    "6. Create a class called Car that subclasses vehicle and adds two wheels to the default number of wheels. Call the function\n"
   ],
   "metadata": {
    "collapsed": false
   }
  },
  {
   "cell_type": "code",
   "execution_count": 14,
   "outputs": [
    {
     "data": {
      "text/plain": "4"
     },
     "execution_count": 14,
     "metadata": {},
     "output_type": "execute_result"
    }
   ],
   "source": [
    "class Car(Vehicle):\n",
    "    @property\n",
    "    def n_wheels(self):\n",
    "        return super().n_wheels+2\n",
    "\n",
    "cls = Car()\n",
    "cls.n_wheels"
   ],
   "metadata": {
    "collapsed": false
   }
  },
  {
   "cell_type": "code",
   "execution_count": 15,
   "outputs": [
    {
     "data": {
      "text/plain": "'\\nclass Car(Vehicle):\\n    @property\\n    def n_wheels(self):\\n        return super().n_wheels + 2\\n\\ncls = Car()\\ncls.n_wheels\\n'"
     },
     "execution_count": 15,
     "metadata": {},
     "output_type": "execute_result"
    }
   ],
   "source": [
    "\"\"\"\n",
    "class Car(Vehicle):\n",
    "    @property\n",
    "    def n_wheels(self):\n",
    "        return super().n_wheels + 2\n",
    "\n",
    "cls = Car()\n",
    "cls.n_wheels\n",
    "\"\"\""
   ],
   "metadata": {
    "collapsed": false
   }
  },
  {
   "cell_type": "markdown",
   "source": [
    "7. Create a class call PushBike that subclasses Vehicle. Add an IP2 property call my_weight. Overwrite the property total_mass to be the mass of the pushbike plus that mass of my_weight."
   ],
   "metadata": {
    "collapsed": false
   }
  },
  {
   "cell_type": "code",
   "execution_count": 16,
   "outputs": [
    {
     "data": {
      "text/plain": "50"
     },
     "execution_count": 16,
     "metadata": {},
     "output_type": "execute_result"
    }
   ],
   "source": [
    "class PushBike(Vehicle):\n",
    "    my_weight = IP2('kg', 'mass of person on bike', default=40)\n",
    "    bike_weight = IP2('kg', 'mass of bike', default = 10)\n",
    "    @property\n",
    "    def total_mass(self):\n",
    "        return self.my_weight + self.bike_weight\n",
    "\n",
    "cls = PushBike()\n",
    "cls.total_mass"
   ],
   "metadata": {
    "collapsed": false
   }
  },
  {
   "cell_type": "markdown",
   "source": [
    "# SEA Calcs Examples - On Bottom Stability Check"
   ],
   "metadata": {
    "collapsed": false
   }
  },
  {
   "cell_type": "code",
   "execution_count": 17,
   "outputs": [],
   "source": [
    "# import pre-check class from sea_calcs\n",
    "from sea_calcs.onbottom_stability.dnvgl_rp_f109_class import BaseF109Calcs"
   ],
   "metadata": {
    "collapsed": false
   }
  },
  {
   "cell_type": "code",
   "execution_count": 18,
   "outputs": [
    {
     "data": {
      "text/plain": "[D_hyd [m]: Hydrodynamic diameter of pipe (outermost layer outer diameter), INCLUDING marine growth layer.Typically only required to be input if dealing with say an umbilical which isnt inherently described by the cross_section_df and derivative properties,\n internal_diameter [m]: Diameter to use for contents volume Typically only required to be input if dealing with say an umbilical which isnt inherently described by the cross_section_df and derivative properties,\n w_sub_empty [N/m]: Submerged weight of corroded pipe with no contents. INCLUDES the marine growth layer.Typically only required to be input if dealing with say an umbilical which isnt inherently described by the cross_section_df and derivative properties,\n w_sub_cont [N/m]: Submerged weight of corroded pipe with specified contents. INCLUDES the marine growth layer.Typically only required to be input if dealing with say an umbilical which isnt inherently described by the cross_section_df and derivative properties,\n rho_pen [kg/m3]: Density of contents for calculation of initial penetration. Should be heaviest pipe contents up until its current condition.,\n H_s [m]: Significant wave height,\n T_p [s]: Peak wave period,\n V_c_z_r [m/s]: Current speed at reference height,\n z_r [m]: Reference height for steady current,\n theta_c_deg [deg]: Heading of steady current,\n theta_w_deg [deg]: Heading of wave,\n theta_pipe_deg [deg]: Heading of pipe,\n elevation [m]: Seabed elevation, accounting for storm surge and tide,\n z_0 [m]: Seabed roughness, as per DNVGL-RP-F109 Table 3-1,\n density_seawater [kg/m3]: Density of seawater local to pipe (default=1025),\n rho_mg [kg/m3]: Density of marine growth on pipe. If not provided, default is to use same as density_seawater,\n soil_type_index [enum]: Index of soil type, as per SoilTypes,\n soil_weight_sub [N/m3]: Submerged unit soil weight,\n soil_weight_dry [N/m3]: Dry unit soil weight,\n s_u [Pa]: Un-drained clay shear strength (default=None),\n mu_pipe_soil [-]: Coefficient of static friction of pipe on seabed, not including the effects of trench (if present),\n trench_angle_deg [deg]: Angle of trench wall (default=0),\n trench_depth [m]: Depth of trench (default=0),\n soil_permeable [bool]: If soil is permeable or not (default=False),\n z_pi [m]: Initial penetration of pipe into soil (calculated otherwise),\n z_pm [m]: Penetration of pipe into soil due to movement (default=0),\n safety_class [enum]: Safety class enum as per SafetyClassType,\n location [enum]: Location of pipe enum as per LocationClass,\n gamma_W [-]: Safety factor for avoidance of flotation (default=1.1),\n wave_spreading_constant [-]: Spreading constant for waves (default=None),\n R_D [[-]]: Wave spreading reduction factor (custom),\n V_c [m/s]: Custom Specification of reduced steady current speed,\n V_star [m/s]: Custom Specification of reduced steady current speed for single design oscillation,\n U_s [m/s]: Custom Specification of reduced wave-induced current speed,\n U_star [m/s]: Custom Specification of reduced wave-induced current speed for single design oscillation,\n T_u [s]: Custom Specification of zero up-crossing period,\n T_star [s]: Custom Specification of single design oscillation period]"
     },
     "execution_count": 18,
     "metadata": {},
     "output_type": "execute_result"
    }
   ],
   "source": [
    "# Check required inputs\n",
    "BaseF109Calcs.input_properties"
   ],
   "metadata": {
    "collapsed": false
   }
  },
  {
   "cell_type": "code",
   "execution_count": 19,
   "outputs": [],
   "source": [
    "# Create a dictionary of the inputs to be imported into class\n",
    "\n",
    "inp = dict(\n",
    "\n",
    "        # PIPE PROPERTIES\n",
    "        internal_diameter = 0.60, # [m] Internal diameter of pipe (inner most layer od)\n",
    "        D_hyd = 0.65, # [m] Hydrodynamic diameter of pipe (outermost layer od)\n",
    "        rho_mg = 1200, # [kg/m^3]: Density of Marine Growth, Source: MFiles 450358\n",
    "        rho_pen = 1000, # [kg/m3] Density of contents fpr calculating initial pipe penetration, Source: Fill with fresh water when installed\n",
    "        w_sub_empty = 1200,  # [N/m] Submerged weight of corroded pipe with no contents\n",
    "        w_sub_cont = 1800,   # [N/m] Submerged weight of corroded pipe with contents\n",
    "\n",
    "        # SEABED - Clay\n",
    "        z_0 = 5e-6, # [m]: Seabed roughness as per DNVGL-RP-F109, Source: clay seabed roughness, F105 Table 3-1 (2021)\n",
    "        soil_type_index = 2, # [enum]: Clay\n",
    "        soil_weight_sub = 6200, # [N/m3]: F109 on the loose end, Source: MFILES ID 464254 Table 2-7\n",
    "        soil_weight_dry = 3633,  # [N/m3]: dense sand assumed F109-2017 Page 19, Source: calculated\n",
    "        s_u = 2600,  # [Pa]: un-drained clay shear strength, Source: MFILES ID 464254 Table 2-7, (1+2z to 2.6z kPa)\n",
    "        soil_permeable = False, # [True/False]: Soil permeable or not, Source: assumed\n",
    "        mu_pipe_soil = 0.2, # [-]: Coefficient of static friction, Source: MFILES ID 464254 Table 2-7, lower 0.3\n",
    "\n",
    "        # SEASTATE - Omni directional\n",
    "        H_s = 4.4, # [m]: Significant wave height, Source: 1000yr ARI MFILES 459542 Table A-118\n",
    "        T_p = 12, # [s]: Peak wave period, Source: 1000yr ARI MFILES 459542 Table A-118\n",
    "        V_c_z_r = 0.73, # [m/s]: Peak current speed at reference height, Source: T1000yr ARI MFILES 459542 Table A-118\n",
    "        location = 2, # [enum]: Location class, Source: southern ocean non-cyclonic\n",
    "        z_r = 3,  # [m]: Reference height for steady current, Source: ASB as per M-Files 473351 PDF page 50\n",
    "\n",
    "        # POSITION\n",
    "        theta_c_deg = 90,  # [deg]: Heading of steady current, Source: most conservative\n",
    "        theta_w_deg = 90, # [deg]: Heading of wave, Source: most conservative\n",
    "        theta_pipe_deg = 0, # [deg]: Heading of pipe, Source: most conservative\n",
    "        trench_depth = 0, # [m]: depth of pipe trench, Source: no trenching\n",
    "        trench_angle_deg = 45, # [deg]: angle of cut of trench, Source: no trenching\n",
    "        safety_class = 1, # [deg]: pipeline class safety, Source: non-operating pipe filled with seawater\n",
    "        elevation = -65, # [m]: Seabed elevation, Source: KPS project\n",
    "\n",
    ")"
   ],
   "metadata": {
    "collapsed": false
   }
  },
  {
   "cell_type": "code",
   "execution_count": 20,
   "outputs": [],
   "source": [
    "# Take an instance of the class with loaded inputs\n",
    "cls = BaseF109Calcs(**inp)"
   ],
   "metadata": {
    "collapsed": false
   }
  },
  {
   "cell_type": "code",
   "execution_count": 21,
   "outputs": [
    {
     "data": {
      "text/plain": "0.2306467880704178"
     },
     "execution_count": 21,
     "metadata": {},
     "output_type": "execute_result"
    }
   ],
   "source": [
    "# Run Absolute Stability Results - If greater than one pipe is unstable\n",
    "cls.utilisation_abs"
   ],
   "metadata": {
    "collapsed": false
   }
  },
  {
   "cell_type": "code",
   "execution_count": 22,
   "outputs": [
    {
     "data": {
      "text/plain": "3.1464214587758095"
     },
     "execution_count": 22,
     "metadata": {},
     "output_type": "execute_result"
    }
   ],
   "source": [
    "# Run General 0.5D Stability Results - If greater than one pipe is unstable\n",
    "cls.utilisation_gsm_half_d"
   ],
   "metadata": {
    "collapsed": false
   }
  },
  {
   "cell_type": "code",
   "execution_count": null,
   "outputs": [],
   "source": [
    "# NOTE ON STABILITY - If the pipeline is absolute stability then the general results can be disregarded"
   ],
   "metadata": {
    "collapsed": false
   }
  }
 ],
 "metadata": {
  "kernelspec": {
   "display_name": "Python 3",
   "language": "python",
   "name": "python3"
  },
  "language_info": {
   "codemirror_mode": {
    "name": "ipython",
    "version": 2
   },
   "file_extension": ".py",
   "mimetype": "text/x-python",
   "name": "python",
   "nbconvert_exporter": "python",
   "pygments_lexer": "ipython2",
   "version": "2.7.6"
  }
 },
 "nbformat": 4,
 "nbformat_minor": 0
}
