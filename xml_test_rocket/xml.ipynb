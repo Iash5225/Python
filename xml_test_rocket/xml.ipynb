{
 "cells": [
  {
   "cell_type": "code",
   "execution_count": 2,
   "metadata": {},
   "outputs": [],
   "source": [
    "import pandas as pd\n",
    "from OR_xml import *\n"
   ]
  },
  {
   "cell_type": "code",
   "execution_count": 15,
   "metadata": {},
   "outputs": [
    {
     "name": "stdout",
     "output_type": "stream",
     "text": [
      "{'stage': {'id': 'cf7feaf5-4465-43be-8223-27100028a56a',\n",
      "           'name': 'Sustainer',\n",
      "           'subcomponents': {'bodytube': {'finish': 'normal',\n",
      "                                          'id': '1dd306d3-0eca-4a84-a742-6e0e3c19c8be',\n",
      "                                          'length': '1.36',\n",
      "                                          'material': 'Fiberglass',\n",
      "                                          'name': 'Lower Body Tube',\n",
      "                                          'radius': 'auto 0.0766',\n",
      "                                          'subcomponents': {'centeringring': {'axialoffset': '-0.066',\n",
      "                                                                              'id': '9bc9f5f7-f3b9-4bc0-9f03-0f50d576feb5',\n",
      "                                                                              'innerradius': 'auto',\n",
      "                                                                              'instancecount': '1',\n",
      "                                                                              'instanceseparation': '0.0',\n",
      "                                                                              'length': '0.009000000000000001',\n",
      "                                                                              'material': 'Plywood '\n",
      "                                                                                          '(birch)',\n",
      "                                                                              'name': 'Centering '\n",
      "                                                                                      'Ring '\n",
      "                                                                                      'Bottom',\n",
      "                                                                              'outerradius': 'auto',\n",
      "                                                                              'position': '-0.066',\n",
      "                                                                              'radialdirection': '0.0',\n",
      "                                                                              'radialposition': '0.0'},\n",
      "                                                            'engineblock': {'axialoffset': '-0.665',\n",
      "                                                                            'id': '46fabb4e-85a2-4e84-bbd7-6184f82ef524',\n",
      "                                                                            'length': '0.009000000000000001',\n",
      "                                                                            'material': 'Plywood '\n",
      "                                                                                        '(birch)',\n",
      "                                                                            'name': 'Engine '\n",
      "                                                                                    'Block',\n",
      "                                                                            'outerradius': 'auto',\n",
      "                                                                            'position': '-0.665',\n",
      "                                                                            'radialdirection': '0.0',\n",
      "                                                                            'radialposition': '0.0',\n",
      "                                                                            'thickness': '0.051000000000000004'},\n",
      "                                                            'innertube': {'axialoffset': '0.0',\n",
      "                                                                          'clusterconfiguration': 'single',\n",
      "                                                                          'clusterrotation': '0.0',\n",
      "                                                                          'clusterscale': '1.0',\n",
      "                                                                          'id': '42b802c3-8bf5-4b03-a5a1-76f1882eb83c',\n",
      "                                                                          'length': '0.665',\n",
      "                                                                          'material': 'Fiberglass',\n",
      "                                                                          'motormount': {'ignitionconfiguration': {'ignitiondelay': '0.0',\n",
      "                                                                                                                   'ignitionevent': 'automatic'},\n",
      "                                                                                         'ignitiondelay': '0.0',\n",
      "                                                                                         'ignitionevent': 'automatic',\n",
      "                                                                                         'motor': {'delay': '0.0',\n",
      "                                                                                                   'designation': 'M1315W',\n",
      "                                                                                                   'diameter': '0.075',\n",
      "                                                                                                   'digest': '8bbfeacedb076502c91e28de32b42175',\n",
      "                                                                                                   'length': '0.801',\n",
      "                                                                                                   'manufacturer': 'AeroTech',\n",
      "                                                                                                   'type': 'reload'},\n",
      "                                                                                         'overhang': '0.0'},\n",
      "                                                                          'name': 'Motor '\n",
      "                                                                                  'Tube',\n",
      "                                                                          'outerradius': '0.04070000000000001',\n",
      "                                                                          'position': '0.0',\n",
      "                                                                          'radialdirection': '0.0',\n",
      "                                                                          'radialposition': '0.0',\n",
      "                                                                          'thickness': '0.0016'},\n",
      "                                                            'trapezoidfinset': {'angleoffset': '0.0',\n",
      "                                                                                'axialoffset': '-0.015',\n",
      "                                                                                'cant': '0.0',\n",
      "                                                                                'crosssection': 'airfoil',\n",
      "                                                                                'filletmaterial': 'Cardboard',\n",
      "                                                                                'filletradius': '0.0',\n",
      "                                                                                'fincount': '4',\n",
      "                                                                                'finish': 'normal',\n",
      "                                                                                'height': '0.14',\n",
      "                                                                                'id': '87099620-cfed-4dd3-b97a-e157821669f2',\n",
      "                                                                                'instancecount': '4',\n",
      "                                                                                'material': 'Fiberglass',\n",
      "                                                                                'name': 'Fins',\n",
      "                                                                                'position': '-0.015',\n",
      "                                                                                'radiusoffset': '0.0',\n",
      "                                                                                'rootchord': '0.3',\n",
      "                                                                                'rotation': '0.0',\n",
      "                                                                                'sweeplength': '0.09',\n",
      "                                                                                'tabheight': '0.035899999999999994',\n",
      "                                                                                'tablength': '0.20000000000000018',\n",
      "                                                                                'tabposition': '-0.010000000000000092',\n",
      "                                                                                'thickness': '0.004',\n",
      "                                                                                'tipchord': '0.1'}},\n",
      "                                          'thickness': '0.0016'},\n",
      "                             'nosecone': {'aftradius': '0.0766',\n",
      "                                          'aftshouldercapped': 'false',\n",
      "                                          'aftshoulderlength': '0.15',\n",
      "                                          'aftshoulderradius': '0.075',\n",
      "                                          'aftshoulderthickness': '0.0016',\n",
      "                                          'finish': 'normal',\n",
      "                                          'id': '38b2332c-cb33-447b-a2b6-4208423a6c3c',\n",
      "                                          'isflipped': 'false',\n",
      "                                          'length': '0.25',\n",
      "                                          'material': 'Fiberglass',\n",
      "                                          'name': 'Nose Cone',\n",
      "                                          'shape': 'haack',\n",
      "                                          'shapeclipped': 'false',\n",
      "                                          'shapeparameter': '0.333',\n",
      "                                          'thickness': '0.0016'}}}}\n"
     ]
    }
   ],
   "source": [
    "# Replace 'your_file_path.ork' with the path to your XML file\n",
    "file_path = r\"C:\\Users\\iash.bashir\\src\\personal\\Python\\xml_test_rocket\\rocket.xml\"\n",
    "subcomponents_data = parse_xml(file_path)\n",
    "# Start the process with the root component, assuming no parent initially\n",
    "flatten_structure(None, subcomponents_data, 'stage')\n",
    "\n",
    "# # Print or process the extracted data\n",
    "# print(subcomponents_data)\n",
    "\n",
    "# Pretty print the extracted data\n",
    "pprint(subcomponents_data)\n",
    "\n"
   ]
  },
  {
   "cell_type": "code",
   "execution_count": null,
   "metadata": {},
   "outputs": [],
   "source": [
    "df = pd.DataFrame.from_dict(data=subcomponents_data, orient='index')\n",
    "\n",
    "display(df)"
   ]
  },
  {
   "cell_type": "code",
   "execution_count": 13,
   "metadata": {},
   "outputs": [],
   "source": [
    "def analyze_component(component, path=[]):\n",
    "    # Base information about the current component\n",
    "    component_info = {\n",
    "        \"path\": \" -> \".join(path),\n",
    "        \"name\": component.get(\"name\"),\n",
    "        \"id\": component.get(\"id\"),\n",
    "        # Add other properties as needed\n",
    "    }\n",
    "    print(component_info)  # Or process the information as needed\n",
    "\n",
    "    # If there are subcomponents, recursively process each one\n",
    "    if \"subcomponents\" in component:\n",
    "        for sub_name, sub_component in component[\"subcomponents\"].items():\n",
    "            # Append the current subcomponent's name to the path for hierarchical context\n",
    "            new_path = path + [sub_name]\n",
    "            analyze_component(sub_component, new_path)"
   ]
  },
  {
   "cell_type": "code",
   "execution_count": 14,
   "metadata": {},
   "outputs": [
    {
     "name": "stdout",
     "output_type": "stream",
     "text": [
      "{'path': 'stage', 'name': 'Sustainer', 'id': 'cf7feaf5-4465-43be-8223-27100028a56a'}\n",
      "{'path': 'stage -> nosecone', 'name': 'Nose Cone', 'id': '38b2332c-cb33-447b-a2b6-4208423a6c3c'}\n",
      "{'path': 'stage -> bodytube', 'name': 'Lower Body Tube', 'id': '1dd306d3-0eca-4a84-a742-6e0e3c19c8be'}\n",
      "{'path': 'stage -> bodytube -> trapezoidfinset', 'name': 'Fins', 'id': '87099620-cfed-4dd3-b97a-e157821669f2'}\n",
      "{'path': 'stage -> bodytube -> innertube', 'name': 'Motor Tube', 'id': '42b802c3-8bf5-4b03-a5a1-76f1882eb83c'}\n",
      "{'path': 'stage -> bodytube -> centeringring', 'name': 'Centering Ring Bottom', 'id': '9bc9f5f7-f3b9-4bc0-9f03-0f50d576feb5'}\n",
      "{'path': 'stage -> bodytube -> engineblock', 'name': 'Engine Block', 'id': '46fabb4e-85a2-4e84-bbd7-6184f82ef524'}\n"
     ]
    }
   ],
   "source": [
    "root_component = subcomponents_data[\"stage\"]\n",
    "analyze_component(root_component, [\"stage\"])"
   ]
  },
  {
   "cell_type": "code",
   "execution_count": null,
   "metadata": {},
   "outputs": [],
   "source": []
  }
 ],
 "metadata": {
  "kernelspec": {
   "display_name": "base",
   "language": "python",
   "name": "python3"
  },
  "language_info": {
   "codemirror_mode": {
    "name": "ipython",
    "version": 3
   },
   "file_extension": ".py",
   "mimetype": "text/x-python",
   "name": "python",
   "nbconvert_exporter": "python",
   "pygments_lexer": "ipython3",
   "version": "3.11.5"
  }
 },
 "nbformat": 4,
 "nbformat_minor": 2
}
