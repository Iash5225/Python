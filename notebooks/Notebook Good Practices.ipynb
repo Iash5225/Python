{
 "cells": [
  {
   "cell_type": "markdown",
   "id": "3c303d2b",
   "metadata": {},
   "source": [
    "# Notebook Good Practices"
   ]
  },
  {
   "cell_type": "markdown",
   "id": "f901f6c0",
   "metadata": {},
   "source": [
    "This notebook is a guide for beginners on some basic habits that will make your notebooks easier to check, and easier for you or others to re-use in future.\n",
    "\n",
    "Include at the top a title cell: go to \"Cell\" -> \"Cell Type\" -> \"Markdown\" to create a text cell. Include a notebook name, quick description of what the notebook does, what it requires (e.g. database tables populated for spans, or a particular version of a python package). Include the author and date, and when modified, so you can see what is going on.\n",
    "\n",
    "Description: This notebook does the following : {insert tasks it does} . It requires a the following data inputs ... {insert what type of data inputs and what the data represents such as Open Rocket Exported Simulation csv, }\n",
    "\n",
    "Author: {Insert Full Name}\n",
    "Date: {Month,Year}\n",
    "Modified: {Insert Full Name} , {Month,Year}"
   ]
  },
  {
   "cell_type": "markdown",
   "id": "7b7ab961",
   "metadata": {},
   "source": [
    "# General Comments on Notebooks"
   ]
  },
  {
   "cell_type": "markdown",
   "id": "78c077b1",
   "metadata": {},
   "source": [
    "One idea or activity per notebook. E.g. a fin flutter notebook, or a flight profile results plotting NB. A few short notebooks may be easier to create and check, and less apt to break, than a single long one.\n",
    "\n",
    "Include comments, these make it easier to check and easier for you or others to recall and reuse later. Even if you create first, then come back and tidy up and comment later.\n",
    "\n",
    "Make a notebook folder under \"notebooks\" using your name.\n",
    "\n",
    "If you are making permanent (committed) changes, then don't mess with notebooks in other people's personal folders - take a copy and go from there in your own folder."
   ]
  },
  {
   "cell_type": "code",
   "execution_count": null,
   "id": "655f000d",
   "metadata": {},
   "outputs": [],
   "source": []
  }
 ],
 "metadata": {
  "kernelspec": {
   "display_name": "Python 3 (ipykernel)",
   "language": "python",
   "name": "python3"
  },
  "language_info": {
   "codemirror_mode": {
    "name": "ipython",
    "version": 3
   },
   "file_extension": ".py",
   "mimetype": "text/x-python",
   "name": "python",
   "nbconvert_exporter": "python",
   "pygments_lexer": "ipython3",
   "version": "3.11.5"
  }
 },
 "nbformat": 4,
 "nbformat_minor": 5
}
