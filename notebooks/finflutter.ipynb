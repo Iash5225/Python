{
 "cells": [
  {
   "cell_type": "code",
   "execution_count": 10,
   "metadata": {},
   "outputs": [],
   "source": [
    "import sys\n",
    "sys.path.append(\"..\")\n",
    "import matplotlib.pyplot as plt\n",
    "\n",
    "from script.sahr_fin_flutter import calculate_flutter_velocity as sahr_cfv, list_of_flutter_velocities\n",
    "import numpy as np\n",
    "import pandas as pd\n",
    "\n",
    "from script.howard_fin_flutter import calculate_flutter_velocity as howard_cfv\n",
    "import sys\n",
    "\n",
    "sys.path.append(\"..\")  # Adds the parent directory to the system pat"
   ]
  },
  {
   "cell_type": "markdown",
   "metadata": {},
   "source": [
    "# Manual\n"
   ]
  },
  {
   "cell_type": "code",
   "execution_count": 11,
   "metadata": {},
   "outputs": [],
   "source": [
    "ALTITUDE = 3048  # in m\n",
    "SHEAR_MODULUS = 5000000000  # in Pa\n",
    "THICKNESS = 4  # in mm\n",
    "ROOT_CHORD = 300  # in mm\n",
    "TIP_CHORD = 100  # in mm\n",
    "SEMI_SPAN = 140  # in mm\n",
    "SEA_LEVEL_SOUND = 340  # in m/s\n",
    "SEA_LEVEL_PRESSURE = 101325  # in Pa\n",
    "ATMOSPHERIC_SCALE_HEIGHT = 8077  # m\n",
    "THICKNESS_INCREMENTS = 0.01 # in mm\n",
    "MAXIMUM_THICKNESS = 5\n",
    "MINIMUM_THICKNESS = 0\n",
    "\n",
    "UNITS = 'SI' # or 'IMPERIAL'"
   ]
  },
  {
   "cell_type": "markdown",
   "metadata": {},
   "source": [
    "## SI to Imperial Conversion"
   ]
  },
  {
   "cell_type": "code",
   "execution_count": 12,
   "metadata": {},
   "outputs": [],
   "source": [
    "METRES_TO_FEET = 3.28084\n",
    "MILLIMETRES_TO_INCHES = 0.0393701\n",
    "PA_TO_PSI=0.000145038"
   ]
  },
  {
   "cell_type": "code",
   "execution_count": 13,
   "metadata": {},
   "outputs": [],
   "source": [
    "def get_parameters_for_functions(units='SI'):\n",
    "    if units.upper() == 'SI':\n",
    "        # Convert SI units to Imperial for howard_cfv\n",
    "        altitude_howard = ALTITUDE * METRES_TO_FEET\n",
    "        shear_modulus_howard = SHEAR_MODULUS * PA_TO_PSI\n",
    "        thickness_howard = THICKNESS * MILLIMETRES_TO_INCHES\n",
    "        root_chord_howard = ROOT_CHORD * MILLIMETRES_TO_INCHES\n",
    "        tip_chord_howard = TIP_CHORD * MILLIMETRES_TO_INCHES\n",
    "        semispan_howard = SEMI_SPAN * MILLIMETRES_TO_INCHES\n",
    "\n",
    "        # Use SI units for sahr_cfv\n",
    "        altitude_sahr = ALTITUDE\n",
    "        shear_modulus_sahr = SHEAR_MODULUS\n",
    "        thickness_sahr = THICKNESS\n",
    "        root_chord_sahr = ROOT_CHORD\n",
    "        tip_chord_sahr = TIP_CHORD\n",
    "        semispan_sahr = SEMI_SPAN\n",
    "\n",
    "    elif units.upper() == 'IMPERIAL':\n",
    "        # Use Imperial units for howard_cfv\n",
    "        altitude_howard = ALTITUDE\n",
    "        shear_modulus_howard = SHEAR_MODULUS\n",
    "        thickness_howard = THICKNESS\n",
    "        root_chord_howard = ROOT_CHORD\n",
    "        tip_chord_howard = TIP_CHORD\n",
    "        semispan_howard = SEMI_SPAN\n",
    "\n",
    "        # Convert Imperial units to SI for sahr_cfv\n",
    "        altitude_sahr = ALTITUDE\n",
    "        shear_modulus_sahr = SHEAR_MODULUS\n",
    "        thickness_sahr = THICKNESS\n",
    "        root_chord_sahr = ROOT_CHORD\n",
    "        tip_chord_sahr = TIP_CHORD\n",
    "        semispan_sahr = SEMI_SPAN\n",
    "\n",
    "    else:\n",
    "        raise ValueError(\"Invalid unit system. Choose 'SI' or 'Imperial'.\")\n",
    "\n",
    "    return {\n",
    "        'howard_cfv': {\n",
    "            'altitude': altitude_howard,\n",
    "            'shear_modulus': shear_modulus_howard,\n",
    "            'thickness': thickness_howard,\n",
    "            'root_chord': root_chord_howard,\n",
    "            'tip_chord': tip_chord_howard,\n",
    "            'semispan': semispan_howard\n",
    "        },\n",
    "        'sahr_cfv': {\n",
    "            'sea_level_speed_of_sound': SEA_LEVEL_SOUND,\n",
    "            'altitude': altitude_sahr,\n",
    "            'atmospheric_scale_height': ATMOSPHERIC_SCALE_HEIGHT,\n",
    "            'shear_modulus': shear_modulus_sahr,\n",
    "            'sea_level_pressure': SEA_LEVEL_PRESSURE,\n",
    "            'thickness': thickness_sahr,\n",
    "            'root_chord': root_chord_sahr,\n",
    "            'tip_chord': tip_chord_sahr,\n",
    "            'semispan': semispan_sahr\n",
    "        },\n",
    "        'sahr_flutter_velocity_list': {\n",
    "            # Exclude 'thickness' if it's not needed\n",
    "            'sea_level_speed_of_sound': SEA_LEVEL_SOUND,\n",
    "            'altitude': altitude_sahr,\n",
    "            'atmospheric_scale_height': ATMOSPHERIC_SCALE_HEIGHT,\n",
    "            'shear_modulus': shear_modulus_sahr,\n",
    "            'sea_level_pressure': SEA_LEVEL_PRESSURE,\n",
    "            'root_chord': root_chord_sahr,\n",
    "            'tip_chord': tip_chord_sahr,\n",
    "            'semispan': semispan_sahr\n",
    "        }\n",
    "    }\n",
    "\n",
    "\n",
    "params = get_parameters_for_functions(UNITS)"
   ]
  },
  {
   "cell_type": "markdown",
   "metadata": {},
   "source": [
    "# Howard Flutter Velocity\n"
   ]
  },
  {
   "cell_type": "code",
   "execution_count": 14,
   "metadata": {},
   "outputs": [
    {
     "name": "stdout",
     "output_type": "stream",
     "text": [
      "402.31688469701913\n"
     ]
    }
   ],
   "source": [
    "howard_result = howard_cfv(\n",
    "    **params['howard_cfv']) / (METRES_TO_FEET if UNITS == 'SI' else 1)\n",
    "print(howard_result)"
   ]
  },
  {
   "cell_type": "markdown",
   "metadata": {},
   "source": [
    "# Sahr Flutter Velocity\n"
   ]
  },
  {
   "cell_type": "code",
   "execution_count": 15,
   "metadata": {},
   "outputs": [
    {
     "name": "stdout",
     "output_type": "stream",
     "text": [
      "401.84737525224915\n"
     ]
    }
   ],
   "source": [
    "sahr_result = sahr_cfv(**params['sahr_cfv'])\n",
    "print(sahr_result)"
   ]
  },
  {
   "cell_type": "code",
   "execution_count": 16,
   "metadata": {},
   "outputs": [],
   "source": [
    "lofv = list_of_flutter_velocities(\n",
    "    MINIMUM_THICKNESS, MAXIMUM_THICKNESS, THICKNESS_INCREMENTS, **params['sahr_flutter_velocity_list'])"
   ]
  },
  {
   "cell_type": "code",
   "execution_count": 17,
   "metadata": {},
   "outputs": [],
   "source": [
    "# Create array of thickness values\n",
    "thicknesses_array = np.arange(\n",
    "    MINIMUM_THICKNESS, MAXIMUM_THICKNESS + THICKNESS_INCREMENTS, THICKNESS_INCREMENTS)"
   ]
  },
  {
   "cell_type": "code",
   "execution_count": 18,
   "metadata": {},
   "outputs": [
    {
     "ename": "NameError",
     "evalue": "name 'MAX_VELOCITY' is not defined",
     "output_type": "error",
     "traceback": [
      "\u001b[1;31m---------------------------------------------------------------------------\u001b[0m",
      "\u001b[1;31mNameError\u001b[0m                                 Traceback (most recent call last)",
      "Cell \u001b[1;32mIn[18], line 14\u001b[0m\n\u001b[0;32m     10\u001b[0m ax1\u001b[38;5;241m.\u001b[39mplot()\n\u001b[0;32m     12\u001b[0m \u001b[38;5;66;03m# Max Valocity:\u001b[39;00m\n\u001b[0;32m     13\u001b[0m \u001b[38;5;66;03m# Plot a horizontal line at Max Valocity:\u001b[39;00m\n\u001b[1;32m---> 14\u001b[0m ax1\u001b[38;5;241m.\u001b[39maxhline(y\u001b[38;5;241m=\u001b[39mMAX_VELOCITY, color\u001b[38;5;241m=\u001b[39m\u001b[38;5;124m'\u001b[39m\u001b[38;5;124mr\u001b[39m\u001b[38;5;124m'\u001b[39m, linestyle\u001b[38;5;241m=\u001b[39m\u001b[38;5;124m'\u001b[39m\u001b[38;5;124m-\u001b[39m\u001b[38;5;124m'\u001b[39m, label\u001b[38;5;241m=\u001b[39m\u001b[38;5;124m'\u001b[39m\u001b[38;5;124mMax Velocity\u001b[39m\u001b[38;5;124m'\u001b[39m)\n\u001b[0;32m     16\u001b[0m \u001b[38;5;66;03m# Plot a vertical line at a specific x-value, for example x = 10\u001b[39;00m\n\u001b[0;32m     17\u001b[0m ax1\u001b[38;5;241m.\u001b[39maxvline(x\u001b[38;5;241m=\u001b[39mTHICKNESS, color\u001b[38;5;241m=\u001b[39m\u001b[38;5;124m'\u001b[39m\u001b[38;5;124mb\u001b[39m\u001b[38;5;124m'\u001b[39m, linestyle\u001b[38;5;241m=\u001b[39m\u001b[38;5;124m'\u001b[39m\u001b[38;5;124m-\u001b[39m\u001b[38;5;124m'\u001b[39m, label\u001b[38;5;241m=\u001b[39m\u001b[38;5;124m'\u001b[39m\u001b[38;5;124mThickness\u001b[39m\u001b[38;5;124m'\u001b[39m)\n",
      "\u001b[1;31mNameError\u001b[0m: name 'MAX_VELOCITY' is not defined"
     ]
    },
    {
     "data": {
      "image/png": "[encoded data removed]",
      "text/plain": [
       "<Figure size 1200x600 with 1 Axes>"
      ]
     },
     "metadata": {},
     "output_type": "display_data"
    }
   ],
   "source": [
    "fig, ax1 = plt.subplots(figsize=(12, 6))\n",
    "\n",
    "ax1.set_xlabel(r\"Thickness (mm)\")\n",
    "ax1.set_ylabel(r\"Flutter Velocity ($m/s$)\")\n",
    "ax1.grid(True)\n",
    "ax1.plot(thicknesses_array,\n",
    "         lofv, color='k', label=\"Flutter\")\n",
    "# ax1.set_ylim(min_drag_rounded, max_drag_rounded)\n",
    "# ax1.set_xlim(0, max_mach)\n",
    "ax1.plot()\n",
    "\n",
    "# Max Valocity:\n",
    "# Plot a horizontal line at Max Valocity:\n",
    "ax1.axhline(y=MAX_VELOCITY, color='r', linestyle='-', label='Max Velocity')\n",
    "\n",
    "# Plot a vertical line at a specific x-value, for example x = 10\n",
    "ax1.axvline(x=THICKNESS, color='b', linestyle='-', label='Thickness')\n",
    "\n",
    "\n",
    "\n",
    "# Change spine properties to make the border darker and thicker\n",
    "for spine in ax1.spines.values():\n",
    "    spine.set_edgecolor('black')  # Change color to black or any other color\n",
    "    # Change the thickness. Adjust the value as needed.\n",
    "    spine.set_linewidth(2)\n",
    "\n",
    "# ax1.set_yticks(np.arange(0, max_drag+0.1, 0.05))\n",
    "\n",
    "# Plot event markers\n",
    "# self.plot_event_markers_mach(ax1)\n",
    "\n",
    "plt.show()"
   ]
  },
  {
   "cell_type": "code",
   "execution_count": null,
   "metadata": {},
   "outputs": [],
   "source": []
  }
 ],
 "metadata": {
  "kernelspec": {
   "display_name": "Python 3",
   "language": "python",
   "name": "python3"
  },
  "language_info": {
   "codemirror_mode": {
    "name": "ipython",
    "version": 3
   },
   "file_extension": ".py",
   "mimetype": "text/x-python",
   "name": "python",
   "nbconvert_exporter": "python",
   "pygments_lexer": "ipython3",
   "version": "3.11.5"
  }
 },
 "nbformat": 4,
 "nbformat_minor": 2
}
