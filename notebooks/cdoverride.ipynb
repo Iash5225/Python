{
 "cells": [
  {
   "cell_type": "code",
   "execution_count": 1,
   "metadata": {
    "ExecuteTime": {
     "end_time": "2024-02-12T05:21:48.235931600Z",
     "start_time": "2024-02-12T05:21:46.951695900Z"
    }
   },
   "outputs": [],
   "source": [
    "import pandas as pd\n",
    "import matplotlib.pyplot as plt\n",
    "from scripts import DataHandler"
   ]
  },
  {
   "cell_type": "markdown",
   "metadata": {},
   "source": [
    "# Manual"
   ]
  },
  {
   "cell_type": "code",
   "execution_count": 2,
   "metadata": {
    "ExecuteTime": {
     "end_time": "2024-02-12T05:21:48.239787100Z",
     "start_time": "2024-02-12T05:21:48.239787100Z"
    }
   },
   "outputs": [],
   "source": [
    "FILEPATH = r\"C:\\Users\\iash.bashir\\src\\personal\\Python\\data\\CD Test.CSV\"\n",
    "OUTPUT_FILE_PATH = r\"C:\\Users\\iash.bashir\\src\\personal\\Python\\output\\output_file.txt\"\n",
    "MAX_MACH_NUMBER = 2"
   ]
  },
  {
   "cell_type": "markdown",
   "metadata": {},
   "source": [
    "## Reading the input"
   ]
  },
  {
   "cell_type": "code",
   "execution_count": 3,
   "metadata": {
    "ExecuteTime": {
     "end_time": "2024-02-12T05:21:48.285426100Z",
     "start_time": "2024-02-12T05:21:48.239787100Z"
    }
   },
   "outputs": [
    {
     "data": {
      "text/plain": "       Mach  Alpha        CD  CD Power-Off  CD Power-On  CA Power-Off  \\\n0      0.01      0  0.368825      0.368825     0.368825      0.368825   \n1      0.02      0  0.362143      0.362143     0.362143      0.362143   \n2      0.03      0  0.350321      0.350321     0.350321      0.350321   \n3      0.04      0  0.340101      0.340101     0.340101      0.340101   \n4      0.05      0  0.331638      0.331638     0.331638      0.331638   \n...     ...    ...       ...           ...          ...           ...   \n7494  24.95      4  0.203860      0.224390     0.224390      0.204857   \n7495  24.96      4  0.203858      0.224385     0.224385      0.204855   \n7496  24.97      4  0.203855      0.224379     0.224379      0.204852   \n7497  24.98      4  0.203852      0.224374     0.224374      0.204849   \n7498  24.99      4  0.203850      0.224369     0.224369      0.204846   \n\n      CA Power-On        CL        CN  CN Potential  CN Viscous  \\\n0        0.368825  0.000000  0.000000      0.000000    0.000000   \n1        0.362143  0.000000  0.000000      0.000000    0.000000   \n2        0.350321  0.000000  0.000000      0.000000    0.000000   \n3        0.340101  0.000000  0.000000      0.000000    0.000000   \n4        0.331638  0.000000  0.000000      0.000000    0.000000   \n...           ...       ...       ...           ...         ...   \n7494     0.204857  0.272179  0.287169      0.204463    0.082706   \n7495     0.204855  0.272142  0.287131      0.204425    0.082706   \n7496     0.204852  0.272104  0.287093      0.204387    0.082706   \n7497     0.204849  0.272066  0.287055      0.204349    0.082706   \n7498     0.204846  0.272028  0.287017      0.204311    0.082706   \n\n      CNalpha (0 to 4 deg) (per rad)         CP  CP (0 to 4 deg)  \\\n0                          11.490803  82.523078        82.523078   \n1                          11.490803  82.523078        82.523078   \n2                          11.490803  82.523078        82.523078   \n3                          11.490803  82.523078        82.523078   \n4                          11.490803  82.523078        82.523078   \n...                              ...        ...              ...   \n7494                        4.113392  49.602780        49.602778   \n7495                        4.112848  49.598832        49.598830   \n7496                        4.112303  49.594876        49.594874   \n7497                        4.111759  49.590920        49.590918   \n7498                        4.111215  49.586978        49.586976   \n\n      Reynolds Number  \n0        6.290012e+05  \n1        1.258002e+06  \n2        1.887004e+06  \n3        2.516005e+06  \n4        3.145006e+06  \n...               ...  \n7494     1.569358e+09  \n7495     1.569987e+09  \n7496     1.570616e+09  \n7497     1.571245e+09  \n7498     1.571874e+09  \n\n[7499 rows x 15 columns]",
      "text/html": "<div>\n<style scoped>\n    .dataframe tbody tr th:only-of-type {\n        vertical-align: middle;\n    }\n\n    .dataframe tbody tr th {\n        vertical-align: top;\n    }\n\n    .dataframe thead th {\n        text-align: right;\n    }\n</style>\n<table border=\"1\" class=\"dataframe\">\n  <thead>\n    <tr style=\"text-align: right;\">\n      <th></th>\n      <th>Mach</th>\n      <th>Alpha</th>\n      <th>CD</th>\n      <th>CD Power-Off</th>\n      <th>CD Power-On</th>\n      <th>CA Power-Off</th>\n      <th>CA Power-On</th>\n      <th>CL</th>\n      <th>CN</th>\n      <th>CN Potential</th>\n      <th>CN Viscous</th>\n      <th>CNalpha (0 to 4 deg) (per rad)</th>\n      <th>CP</th>\n      <th>CP (0 to 4 deg)</th>\n      <th>Reynolds Number</th>\n    </tr>\n  </thead>\n  <tbody>\n    <tr>\n      <th>0</th>\n      <td>0.01</td>\n      <td>0</td>\n      <td>0.368825</td>\n      <td>0.368825</td>\n      <td>0.368825</td>\n      <td>0.368825</td>\n      <td>0.368825</td>\n      <td>0.000000</td>\n      <td>0.000000</td>\n      <td>0.000000</td>\n      <td>0.000000</td>\n      <td>11.490803</td>\n      <td>82.523078</td>\n      <td>82.523078</td>\n      <td>6.290012e+05</td>\n    </tr>\n    <tr>\n      <th>1</th>\n      <td>0.02</td>\n      <td>0</td>\n      <td>0.362143</td>\n      <td>0.362143</td>\n      <td>0.362143</td>\n      <td>0.362143</td>\n      <td>0.362143</td>\n      <td>0.000000</td>\n      <td>0.000000</td>\n      <td>0.000000</td>\n      <td>0.000000</td>\n      <td>11.490803</td>\n      <td>82.523078</td>\n      <td>82.523078</td>\n      <td>1.258002e+06</td>\n    </tr>\n    <tr>\n      <th>2</th>\n      <td>0.03</td>\n      <td>0</td>\n      <td>0.350321</td>\n      <td>0.350321</td>\n      <td>0.350321</td>\n      <td>0.350321</td>\n      <td>0.350321</td>\n      <td>0.000000</td>\n      <td>0.000000</td>\n      <td>0.000000</td>\n      <td>0.000000</td>\n      <td>11.490803</td>\n      <td>82.523078</td>\n      <td>82.523078</td>\n      <td>1.887004e+06</td>\n    </tr>\n    <tr>\n      <th>3</th>\n      <td>0.04</td>\n      <td>0</td>\n      <td>0.340101</td>\n      <td>0.340101</td>\n      <td>0.340101</td>\n      <td>0.340101</td>\n      <td>0.340101</td>\n      <td>0.000000</td>\n      <td>0.000000</td>\n      <td>0.000000</td>\n      <td>0.000000</td>\n      <td>11.490803</td>\n      <td>82.523078</td>\n      <td>82.523078</td>\n      <td>2.516005e+06</td>\n    </tr>\n    <tr>\n      <th>4</th>\n      <td>0.05</td>\n      <td>0</td>\n      <td>0.331638</td>\n      <td>0.331638</td>\n      <td>0.331638</td>\n      <td>0.331638</td>\n      <td>0.331638</td>\n      <td>0.000000</td>\n      <td>0.000000</td>\n      <td>0.000000</td>\n      <td>0.000000</td>\n      <td>11.490803</td>\n      <td>82.523078</td>\n      <td>82.523078</td>\n      <td>3.145006e+06</td>\n    </tr>\n    <tr>\n      <th>...</th>\n      <td>...</td>\n      <td>...</td>\n      <td>...</td>\n      <td>...</td>\n      <td>...</td>\n      <td>...</td>\n      <td>...</td>\n      <td>...</td>\n      <td>...</td>\n      <td>...</td>\n      <td>...</td>\n      <td>...</td>\n      <td>...</td>\n      <td>...</td>\n      <td>...</td>\n    </tr>\n    <tr>\n      <th>7494</th>\n      <td>24.95</td>\n      <td>4</td>\n      <td>0.203860</td>\n      <td>0.224390</td>\n      <td>0.224390</td>\n      <td>0.204857</td>\n      <td>0.204857</td>\n      <td>0.272179</td>\n      <td>0.287169</td>\n      <td>0.204463</td>\n      <td>0.082706</td>\n      <td>4.113392</td>\n      <td>49.602780</td>\n      <td>49.602778</td>\n      <td>1.569358e+09</td>\n    </tr>\n    <tr>\n      <th>7495</th>\n      <td>24.96</td>\n      <td>4</td>\n      <td>0.203858</td>\n      <td>0.224385</td>\n      <td>0.224385</td>\n      <td>0.204855</td>\n      <td>0.204855</td>\n      <td>0.272142</td>\n      <td>0.287131</td>\n      <td>0.204425</td>\n      <td>0.082706</td>\n      <td>4.112848</td>\n      <td>49.598832</td>\n      <td>49.598830</td>\n      <td>1.569987e+09</td>\n    </tr>\n    <tr>\n      <th>7496</th>\n      <td>24.97</td>\n      <td>4</td>\n      <td>0.203855</td>\n      <td>0.224379</td>\n      <td>0.224379</td>\n      <td>0.204852</td>\n      <td>0.204852</td>\n      <td>0.272104</td>\n      <td>0.287093</td>\n      <td>0.204387</td>\n      <td>0.082706</td>\n      <td>4.112303</td>\n      <td>49.594876</td>\n      <td>49.594874</td>\n      <td>1.570616e+09</td>\n    </tr>\n    <tr>\n      <th>7497</th>\n      <td>24.98</td>\n      <td>4</td>\n      <td>0.203852</td>\n      <td>0.224374</td>\n      <td>0.224374</td>\n      <td>0.204849</td>\n      <td>0.204849</td>\n      <td>0.272066</td>\n      <td>0.287055</td>\n      <td>0.204349</td>\n      <td>0.082706</td>\n      <td>4.111759</td>\n      <td>49.590920</td>\n      <td>49.590918</td>\n      <td>1.571245e+09</td>\n    </tr>\n    <tr>\n      <th>7498</th>\n      <td>24.99</td>\n      <td>4</td>\n      <td>0.203850</td>\n      <td>0.224369</td>\n      <td>0.224369</td>\n      <td>0.204846</td>\n      <td>0.204846</td>\n      <td>0.272028</td>\n      <td>0.287017</td>\n      <td>0.204311</td>\n      <td>0.082706</td>\n      <td>4.111215</td>\n      <td>49.586978</td>\n      <td>49.586976</td>\n      <td>1.571874e+09</td>\n    </tr>\n  </tbody>\n</table>\n<p>7499 rows × 15 columns</p>\n</div>"
     },
     "metadata": {},
     "output_type": "display_data"
    }
   ],
   "source": [
    "dh = DataHandler(ras_cd_filepath=FILEPATH)\n",
    "display(dh.ras_mach_df)\n",
    "dh.set_max_RAS_mach(MAX_MACH_NUMBER)"
   ]
  },
  {
   "cell_type": "code",
   "execution_count": 4,
   "metadata": {
    "ExecuteTime": {
     "end_time": "2024-02-12T05:21:48.301555600Z",
     "start_time": "2024-02-12T05:21:48.285426100Z"
    }
   },
   "outputs": [
    {
     "data": {
      "text/plain": "     mach_number  alpha  drag_coefficient  drag_coefficient_power_off  \\\n0           0.01      0          0.368825                    0.368825   \n1           0.02      0          0.362143                    0.362143   \n2           0.03      0          0.350321                    0.350321   \n3           0.04      0          0.340101                    0.340101   \n4           0.05      0          0.331638                    0.331638   \n..           ...    ...               ...                         ...   \n195         1.96      0          0.631313                    0.631313   \n196         1.97      0          0.628644                    0.628644   \n197         1.98      0          0.626002                    0.626002   \n198         1.99      0          0.623384                    0.623384   \n199         2.00      0          0.620790                    0.620790   \n\n     drag_coefficient_power_on  axial_force_coefficient_power_off  \\\n0                     0.368825                           0.368825   \n1                     0.362143                           0.362143   \n2                     0.350321                           0.350321   \n3                     0.340101                           0.340101   \n4                     0.331638                           0.331638   \n..                         ...                                ...   \n195                   0.631313                           0.631313   \n196                   0.628644                           0.628644   \n197                   0.626002                           0.626002   \n198                   0.623384                           0.623384   \n199                   0.620790                           0.620790   \n\n     axial_force_coefficient_power_on  lift_coefficient  \\\n0                            0.368825               0.0   \n1                            0.362143               0.0   \n2                            0.350321               0.0   \n3                            0.340101               0.0   \n4                            0.331638               0.0   \n..                                ...               ...   \n195                          0.631313               0.0   \n196                          0.628644               0.0   \n197                          0.626002               0.0   \n198                          0.623384               0.0   \n199                          0.620790               0.0   \n\n     normal_force_coefficient  normal_force_coefficient_potential  \\\n0                         0.0                                 0.0   \n1                         0.0                                 0.0   \n2                         0.0                                 0.0   \n3                         0.0                                 0.0   \n4                         0.0                                 0.0   \n..                        ...                                 ...   \n195                       0.0                                 0.0   \n196                       0.0                                 0.0   \n197                       0.0                                 0.0   \n198                       0.0                                 0.0   \n199                       0.0                                 0.0   \n\n     normal_force_coefficient_viscous  normal_force_slope_angle_of_attack  \\\n0                                 0.0                           11.490803   \n1                                 0.0                           11.490803   \n2                                 0.0                           11.490803   \n3                                 0.0                           11.490803   \n4                                 0.0                           11.490803   \n..                                ...                                 ...   \n195                               0.0                           12.969581   \n196                               0.0                           12.925560   \n197                               0.0                           12.881858   \n198                               0.0                           12.838463   \n199                               0.0                           12.795381   \n\n     cp_location  cp_location_4_deg  reynolds_number  \n0      82.523078          82.523078         629001.2  \n1      82.523078          82.523078        1258002.0  \n2      82.523078          82.523078        1887004.0  \n3      82.523078          82.523078        2516005.0  \n4      82.523078          82.523078        3145006.0  \n..           ...                ...              ...  \n195    83.149208          81.262313      123284200.0  \n196    83.087628          81.207483      123913200.0  \n197    83.026168          81.152814      124542200.0  \n198    82.964828          81.098306      125171200.0  \n199    82.903611          81.043961      125800200.0  \n\n[200 rows x 15 columns]",
      "text/html": "<div>\n<style scoped>\n    .dataframe tbody tr th:only-of-type {\n        vertical-align: middle;\n    }\n\n    .dataframe tbody tr th {\n        vertical-align: top;\n    }\n\n    .dataframe thead th {\n        text-align: right;\n    }\n</style>\n<table border=\"1\" class=\"dataframe\">\n  <thead>\n    <tr style=\"text-align: right;\">\n      <th></th>\n      <th>mach_number</th>\n      <th>alpha</th>\n      <th>drag_coefficient</th>\n      <th>drag_coefficient_power_off</th>\n      <th>drag_coefficient_power_on</th>\n      <th>axial_force_coefficient_power_off</th>\n      <th>axial_force_coefficient_power_on</th>\n      <th>lift_coefficient</th>\n      <th>normal_force_coefficient</th>\n      <th>normal_force_coefficient_potential</th>\n      <th>normal_force_coefficient_viscous</th>\n      <th>normal_force_slope_angle_of_attack</th>\n      <th>cp_location</th>\n      <th>cp_location_4_deg</th>\n      <th>reynolds_number</th>\n    </tr>\n  </thead>\n  <tbody>\n    <tr>\n      <th>0</th>\n      <td>0.01</td>\n      <td>0</td>\n      <td>0.368825</td>\n      <td>0.368825</td>\n      <td>0.368825</td>\n      <td>0.368825</td>\n      <td>0.368825</td>\n      <td>0.0</td>\n      <td>0.0</td>\n      <td>0.0</td>\n      <td>0.0</td>\n      <td>11.490803</td>\n      <td>82.523078</td>\n      <td>82.523078</td>\n      <td>629001.2</td>\n    </tr>\n    <tr>\n      <th>1</th>\n      <td>0.02</td>\n      <td>0</td>\n      <td>0.362143</td>\n      <td>0.362143</td>\n      <td>0.362143</td>\n      <td>0.362143</td>\n      <td>0.362143</td>\n      <td>0.0</td>\n      <td>0.0</td>\n      <td>0.0</td>\n      <td>0.0</td>\n      <td>11.490803</td>\n      <td>82.523078</td>\n      <td>82.523078</td>\n      <td>1258002.0</td>\n    </tr>\n    <tr>\n      <th>2</th>\n      <td>0.03</td>\n      <td>0</td>\n      <td>0.350321</td>\n      <td>0.350321</td>\n      <td>0.350321</td>\n      <td>0.350321</td>\n      <td>0.350321</td>\n      <td>0.0</td>\n      <td>0.0</td>\n      <td>0.0</td>\n      <td>0.0</td>\n      <td>11.490803</td>\n      <td>82.523078</td>\n      <td>82.523078</td>\n      <td>1887004.0</td>\n    </tr>\n    <tr>\n      <th>3</th>\n      <td>0.04</td>\n      <td>0</td>\n      <td>0.340101</td>\n      <td>0.340101</td>\n      <td>0.340101</td>\n      <td>0.340101</td>\n      <td>0.340101</td>\n      <td>0.0</td>\n      <td>0.0</td>\n      <td>0.0</td>\n      <td>0.0</td>\n      <td>11.490803</td>\n      <td>82.523078</td>\n      <td>82.523078</td>\n      <td>2516005.0</td>\n    </tr>\n    <tr>\n      <th>4</th>\n      <td>0.05</td>\n      <td>0</td>\n      <td>0.331638</td>\n      <td>0.331638</td>\n      <td>0.331638</td>\n      <td>0.331638</td>\n      <td>0.331638</td>\n      <td>0.0</td>\n      <td>0.0</td>\n      <td>0.0</td>\n      <td>0.0</td>\n      <td>11.490803</td>\n      <td>82.523078</td>\n      <td>82.523078</td>\n      <td>3145006.0</td>\n    </tr>\n    <tr>\n      <th>...</th>\n      <td>...</td>\n      <td>...</td>\n      <td>...</td>\n      <td>...</td>\n      <td>...</td>\n      <td>...</td>\n      <td>...</td>\n      <td>...</td>\n      <td>...</td>\n      <td>...</td>\n      <td>...</td>\n      <td>...</td>\n      <td>...</td>\n      <td>...</td>\n      <td>...</td>\n    </tr>\n    <tr>\n      <th>195</th>\n      <td>1.96</td>\n      <td>0</td>\n      <td>0.631313</td>\n      <td>0.631313</td>\n      <td>0.631313</td>\n      <td>0.631313</td>\n      <td>0.631313</td>\n      <td>0.0</td>\n      <td>0.0</td>\n      <td>0.0</td>\n      <td>0.0</td>\n      <td>12.969581</td>\n      <td>83.149208</td>\n      <td>81.262313</td>\n      <td>123284200.0</td>\n    </tr>\n    <tr>\n      <th>196</th>\n      <td>1.97</td>\n      <td>0</td>\n      <td>0.628644</td>\n      <td>0.628644</td>\n      <td>0.628644</td>\n      <td>0.628644</td>\n      <td>0.628644</td>\n      <td>0.0</td>\n      <td>0.0</td>\n      <td>0.0</td>\n      <td>0.0</td>\n      <td>12.925560</td>\n      <td>83.087628</td>\n      <td>81.207483</td>\n      <td>123913200.0</td>\n    </tr>\n    <tr>\n      <th>197</th>\n      <td>1.98</td>\n      <td>0</td>\n      <td>0.626002</td>\n      <td>0.626002</td>\n      <td>0.626002</td>\n      <td>0.626002</td>\n      <td>0.626002</td>\n      <td>0.0</td>\n      <td>0.0</td>\n      <td>0.0</td>\n      <td>0.0</td>\n      <td>12.881858</td>\n      <td>83.026168</td>\n      <td>81.152814</td>\n      <td>124542200.0</td>\n    </tr>\n    <tr>\n      <th>198</th>\n      <td>1.99</td>\n      <td>0</td>\n      <td>0.623384</td>\n      <td>0.623384</td>\n      <td>0.623384</td>\n      <td>0.623384</td>\n      <td>0.623384</td>\n      <td>0.0</td>\n      <td>0.0</td>\n      <td>0.0</td>\n      <td>0.0</td>\n      <td>12.838463</td>\n      <td>82.964828</td>\n      <td>81.098306</td>\n      <td>125171200.0</td>\n    </tr>\n    <tr>\n      <th>199</th>\n      <td>2.00</td>\n      <td>0</td>\n      <td>0.620790</td>\n      <td>0.620790</td>\n      <td>0.620790</td>\n      <td>0.620790</td>\n      <td>0.620790</td>\n      <td>0.0</td>\n      <td>0.0</td>\n      <td>0.0</td>\n      <td>0.0</td>\n      <td>12.795381</td>\n      <td>82.903611</td>\n      <td>81.043961</td>\n      <td>125800200.0</td>\n    </tr>\n  </tbody>\n</table>\n<p>200 rows × 15 columns</p>\n</div>"
     },
     "metadata": {},
     "output_type": "display_data"
    }
   ],
   "source": [
    "dh.filter_mach_from_ras_csv()\n",
    "dh.rename_ras_mach_cd_df_columns()\n",
    "display(dh.filtered_ras_df)"
   ]
  },
  {
   "cell_type": "code",
   "execution_count": 5,
   "metadata": {
    "ExecuteTime": {
     "end_time": "2024-02-12T05:21:50.179696800Z",
     "start_time": "2024-02-12T05:21:48.301555600Z"
    }
   },
   "outputs": [
    {
     "ename": "KeyError",
     "evalue": "\"None of [Index(['Mach', 'CD'], dtype='object')] are in the [columns]\"",
     "output_type": "error",
     "traceback": [
      "\u001B[1;31m---------------------------------------------------------------------------\u001B[0m",
      "\u001B[1;31mKeyError\u001B[0m                                  Traceback (most recent call last)",
      "Cell \u001B[1;32mIn[5], line 2\u001B[0m\n\u001B[0;32m      1\u001B[0m \u001B[38;5;66;03m# Export the DataFrame as a tab-delimited text file\u001B[39;00m\n\u001B[1;32m----> 2\u001B[0m dh\u001B[38;5;241m.\u001B[39mexport_mach_cd_df_to_txt(OUTPUT_FILE_PATH\u001B[38;5;241m=\u001B[39mOUTPUT_FILE_PATH)\n",
      "File \u001B[1;32m~\\src\\personal\\Python\\scripts\\data_handler.py:73\u001B[0m, in \u001B[0;36mDataHandler.export_mach_cd_df_to_txt\u001B[1;34m(self, OUTPUT_FILE_PATH)\u001B[0m\n\u001B[0;32m     65\u001B[0m \u001B[38;5;28;01mdef\u001B[39;00m \u001B[38;5;21mexport_mach_cd_df_to_txt\u001B[39m(\u001B[38;5;28mself\u001B[39m, OUTPUT_FILE_PATH: \u001B[38;5;28mstr\u001B[39m):\n\u001B[0;32m     66\u001B[0m \u001B[38;5;250m    \u001B[39m\u001B[38;5;124;03m\"\"\"\u001B[39;00m\n\u001B[0;32m     67\u001B[0m \u001B[38;5;124;03m    export_mach_cd_df_to_txt  Exports the Mach and CD DataFrame to a tab-delimited text file.\u001B[39;00m\n\u001B[0;32m     68\u001B[0m \n\u001B[0;32m     69\u001B[0m \u001B[38;5;124;03m    :param OUTPUT_FILE_PATH:  Output file path\u001B[39;00m\n\u001B[0;32m     70\u001B[0m \u001B[38;5;124;03m    :type OUTPUT_FILE_PATH: str\u001B[39;00m\n\u001B[0;32m     71\u001B[0m \u001B[38;5;124;03m    \"\"\"\u001B[39;00m\n\u001B[1;32m---> 73\u001B[0m     df \u001B[38;5;241m=\u001B[39m \u001B[38;5;28mself\u001B[39m\u001B[38;5;241m.\u001B[39mfiltered_ras_df[[\u001B[38;5;124m\"\u001B[39m\u001B[38;5;124mMach\u001B[39m\u001B[38;5;124m\"\u001B[39m, \u001B[38;5;124m\"\u001B[39m\u001B[38;5;124mCD\u001B[39m\u001B[38;5;124m\"\u001B[39m]]\n\u001B[0;32m     75\u001B[0m     \u001B[38;5;66;03m# Export the DataFrame as a tab-delimited text file\u001B[39;00m\n\u001B[0;32m     76\u001B[0m     df\u001B[38;5;241m.\u001B[39mto_csv(OUTPUT_FILE_PATH, sep\u001B[38;5;241m=\u001B[39m\u001B[38;5;124m\"\u001B[39m\u001B[38;5;130;01m\\t\u001B[39;00m\u001B[38;5;124m\"\u001B[39m, index\u001B[38;5;241m=\u001B[39m\u001B[38;5;28;01mFalse\u001B[39;00m)\n",
      "File \u001B[1;32m~\\AppData\\Local\\anaconda3\\Lib\\site-packages\\pandas\\core\\frame.py:3899\u001B[0m, in \u001B[0;36mDataFrame.__getitem__\u001B[1;34m(self, key)\u001B[0m\n\u001B[0;32m   3897\u001B[0m     \u001B[38;5;28;01mif\u001B[39;00m is_iterator(key):\n\u001B[0;32m   3898\u001B[0m         key \u001B[38;5;241m=\u001B[39m \u001B[38;5;28mlist\u001B[39m(key)\n\u001B[1;32m-> 3899\u001B[0m     indexer \u001B[38;5;241m=\u001B[39m \u001B[38;5;28mself\u001B[39m\u001B[38;5;241m.\u001B[39mcolumns\u001B[38;5;241m.\u001B[39m_get_indexer_strict(key, \u001B[38;5;124m\"\u001B[39m\u001B[38;5;124mcolumns\u001B[39m\u001B[38;5;124m\"\u001B[39m)[\u001B[38;5;241m1\u001B[39m]\n\u001B[0;32m   3901\u001B[0m \u001B[38;5;66;03m# take() does not accept boolean indexers\u001B[39;00m\n\u001B[0;32m   3902\u001B[0m \u001B[38;5;28;01mif\u001B[39;00m \u001B[38;5;28mgetattr\u001B[39m(indexer, \u001B[38;5;124m\"\u001B[39m\u001B[38;5;124mdtype\u001B[39m\u001B[38;5;124m\"\u001B[39m, \u001B[38;5;28;01mNone\u001B[39;00m) \u001B[38;5;241m==\u001B[39m \u001B[38;5;28mbool\u001B[39m:\n",
      "File \u001B[1;32m~\\AppData\\Local\\anaconda3\\Lib\\site-packages\\pandas\\core\\indexes\\base.py:6115\u001B[0m, in \u001B[0;36mIndex._get_indexer_strict\u001B[1;34m(self, key, axis_name)\u001B[0m\n\u001B[0;32m   6112\u001B[0m \u001B[38;5;28;01melse\u001B[39;00m:\n\u001B[0;32m   6113\u001B[0m     keyarr, indexer, new_indexer \u001B[38;5;241m=\u001B[39m \u001B[38;5;28mself\u001B[39m\u001B[38;5;241m.\u001B[39m_reindex_non_unique(keyarr)\n\u001B[1;32m-> 6115\u001B[0m \u001B[38;5;28mself\u001B[39m\u001B[38;5;241m.\u001B[39m_raise_if_missing(keyarr, indexer, axis_name)\n\u001B[0;32m   6117\u001B[0m keyarr \u001B[38;5;241m=\u001B[39m \u001B[38;5;28mself\u001B[39m\u001B[38;5;241m.\u001B[39mtake(indexer)\n\u001B[0;32m   6118\u001B[0m \u001B[38;5;28;01mif\u001B[39;00m \u001B[38;5;28misinstance\u001B[39m(key, Index):\n\u001B[0;32m   6119\u001B[0m     \u001B[38;5;66;03m# GH 42790 - Preserve name from an Index\u001B[39;00m\n",
      "File \u001B[1;32m~\\AppData\\Local\\anaconda3\\Lib\\site-packages\\pandas\\core\\indexes\\base.py:6176\u001B[0m, in \u001B[0;36mIndex._raise_if_missing\u001B[1;34m(self, key, indexer, axis_name)\u001B[0m\n\u001B[0;32m   6174\u001B[0m     \u001B[38;5;28;01mif\u001B[39;00m use_interval_msg:\n\u001B[0;32m   6175\u001B[0m         key \u001B[38;5;241m=\u001B[39m \u001B[38;5;28mlist\u001B[39m(key)\n\u001B[1;32m-> 6176\u001B[0m     \u001B[38;5;28;01mraise\u001B[39;00m \u001B[38;5;167;01mKeyError\u001B[39;00m(\u001B[38;5;124mf\u001B[39m\u001B[38;5;124m\"\u001B[39m\u001B[38;5;124mNone of [\u001B[39m\u001B[38;5;132;01m{\u001B[39;00mkey\u001B[38;5;132;01m}\u001B[39;00m\u001B[38;5;124m] are in the [\u001B[39m\u001B[38;5;132;01m{\u001B[39;00maxis_name\u001B[38;5;132;01m}\u001B[39;00m\u001B[38;5;124m]\u001B[39m\u001B[38;5;124m\"\u001B[39m)\n\u001B[0;32m   6178\u001B[0m not_found \u001B[38;5;241m=\u001B[39m \u001B[38;5;28mlist\u001B[39m(ensure_index(key)[missing_mask\u001B[38;5;241m.\u001B[39mnonzero()[\u001B[38;5;241m0\u001B[39m]]\u001B[38;5;241m.\u001B[39munique())\n\u001B[0;32m   6179\u001B[0m \u001B[38;5;28;01mraise\u001B[39;00m \u001B[38;5;167;01mKeyError\u001B[39;00m(\u001B[38;5;124mf\u001B[39m\u001B[38;5;124m\"\u001B[39m\u001B[38;5;132;01m{\u001B[39;00mnot_found\u001B[38;5;132;01m}\u001B[39;00m\u001B[38;5;124m not in index\u001B[39m\u001B[38;5;124m\"\u001B[39m)\n",
      "\u001B[1;31mKeyError\u001B[0m: \"None of [Index(['Mach', 'CD'], dtype='object')] are in the [columns]\""
     ]
    }
   ],
   "source": [
    "# Export the DataFrame as a tab-delimited text file\n",
    "dh.export_mach_cd_df_to_txt(OUTPUT_FILE_PATH=OUTPUT_FILE_PATH)"
   ]
  },
  {
   "cell_type": "code",
   "execution_count": null,
   "metadata": {
    "ExecuteTime": {
     "start_time": "2024-02-12T05:21:50.179696800Z"
    }
   },
   "outputs": [],
   "source": [
    "print(f\"Data exported to {OUTPUT_FILE_PATH}\")"
   ]
  },
  {
   "cell_type": "markdown",
   "metadata": {},
   "source": [
    "## Double checking the text file"
   ]
  },
  {
   "cell_type": "code",
   "execution_count": null,
   "metadata": {},
   "outputs": [],
   "source": [
    "# Read the tab-delimited text file into a DataFrame\n",
    "txt_df = pd.read_csv(OUTPUT_FILE_PATH, sep=\"\\t\")\n",
    "display(txt_df)"
   ]
  },
  {
   "cell_type": "code",
   "execution_count": null,
   "metadata": {},
   "outputs": [],
   "source": [
    "fig, ax1 = plt.subplots(figsize=(12, 6))\n",
    "ax1.plot(txt_df[\"mach_number\"], txt_df[\"drag_coefficient\"], \"k:\", label=\"CD Override\")\n",
    "ax1.set_xlabel(\"Mach\")\n",
    "ax1.set_ylabel(\"CD\")\n",
    "ax1.set_xlim(0, txt_df[\"Mach\"].max())\n",
    "ax1.grid(True)\n",
    "plt.title(f\"CD Override Curve\")\n",
    "plt.show()"
   ]
  },
  {
   "cell_type": "code",
   "execution_count": null,
   "metadata": {},
   "outputs": [],
   "source": []
  }
 ],
 "metadata": {
  "kernelspec": {
   "display_name": "base",
   "language": "python",
   "name": "python3"
  },
  "language_info": {
   "codemirror_mode": {
    "name": "ipython",
    "version": 3
   },
   "file_extension": ".py",
   "mimetype": "text/x-python",
   "name": "python",
   "nbconvert_exporter": "python",
   "pygments_lexer": "ipython3",
   "version": "3.11.5"
  }
 },
 "nbformat": 4,
 "nbformat_minor": 2
}
