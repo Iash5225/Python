{
 "cells": [
  {
   "cell_type": "code",
   "execution_count": 8,
   "metadata": {},
   "outputs": [],
   "source": [
    "import pandas as pd\n",
    "from scripts import create_dataframe_and_drop_duplicates, find_and_extract_elements,get_root"
   ]
  },
  {
   "cell_type": "markdown",
   "metadata": {},
   "source": [
    "## Manual\n"
   ]
  },
  {
   "cell_type": "code",
   "execution_count": 9,
   "metadata": {},
   "outputs": [],
   "source": [
    "# Replace 'your_file_path.ork' with the path to your XML file\n",
    "file_path = r\"C:\\Users\\iash.bashir\\src\\personal\\Python\\data\\rocket.xml\""
   ]
  },
  {
   "cell_type": "markdown",
   "metadata": {},
   "source": [
    "## Parse XML"
   ]
  },
  {
   "cell_type": "code",
   "execution_count": 10,
   "metadata": {},
   "outputs": [],
   "source": [
    "root = get_root(file_path)"
   ]
  },
  {
   "cell_type": "code",
   "execution_count": 11,
   "metadata": {},
   "outputs": [],
   "source": [
    "# Extract bodytube elements (or any other elements you're interested in)\n",
    "bodytubes = find_and_extract_elements(root, 'bodytube')\n",
    "masscomponents = find_and_extract_elements(root, 'masscomponent')\n",
    "bulkheads = find_and_extract_elements(root, 'bulkhead')\n",
    "fins = find_and_extract_elements(root, 'trapezoidfinset')\n",
    "nosecone = find_and_extract_elements(root, 'nosecone')\n",
    "innertube = find_and_extract_elements(root,'innertube')\n",
    "centeringring = find_and_extract_elements(root, 'centeringring')\n",
    "tubecoupler = find_and_extract_elements(root, 'tubecoupler')"
   ]
  },
  {
   "cell_type": "code",
   "execution_count": 12,
   "metadata": {},
   "outputs": [],
   "source": [
    "bodytubes_df = create_dataframe_and_drop_duplicates(bodytubes)\n",
    "masscomponents_df = create_dataframe_and_drop_duplicates(masscomponents)\n",
    "bulkheads_df = create_dataframe_and_drop_duplicates(bulkheads)\n",
    "fins_df = create_dataframe_and_drop_duplicates(fins)\n",
    "nosecone_df = create_dataframe_and_drop_duplicates(nosecone)\n",
    "innertube_df = create_dataframe_and_drop_duplicates(innertube)\n",
    "centeringring_df = create_dataframe_and_drop_duplicates(centeringring)\n",
    "tubecoupler_df = create_dataframe_and_drop_duplicates(tubecoupler)"
   ]
  },
  {
   "cell_type": "markdown",
   "metadata": {},
   "source": [
    "# Calculations"
   ]
  },
  {
   "cell_type": "code",
   "execution_count": 13,
   "metadata": {},
   "outputs": [],
   "source": [
    "# The pattern \\d+(\\.\\d+)? matches one or more digits followed optionally by a decimal point and more digits\n",
    "bodytubes_df['extracted_radius'] = bodytubes_df['radius'].str.extract(\n",
    "    r'(\\d+\\.\\d+)')\n",
    "bodytubes_df['extracted_radius'] = pd.to_numeric(\n",
    "    bodytubes_df['extracted_radius'])\n",
    "bodytubes_df['thickness'] = pd.to_numeric(\n",
    "    bodytubes_df['thickness'])\n",
    "bodytubes_df['inner_diameter'] = 2*(bodytubes_df['extracted_radius'] - bodytubes_df['thickness'])\n",
    "bodytubes_df['outer_diameter'] = bodytubes_df['inner_diameter'] + 2*bodytubes_df['thickness']"
   ]
  },
  {
   "cell_type": "code",
   "execution_count": 14,
   "metadata": {},
   "outputs": [
    {
     "data": {
      "text/html": [
       "<div>\n",
       "<style scoped>\n",
       "    .dataframe tbody tr th:only-of-type {\n",
       "        vertical-align: middle;\n",
       "    }\n",
       "\n",
       "    .dataframe tbody tr th {\n",
       "        vertical-align: top;\n",
       "    }\n",
       "\n",
       "    .dataframe thead th {\n",
       "        text-align: right;\n",
       "    }\n",
       "</style>\n",
       "<table border=\"1\" class=\"dataframe\">\n",
       "  <thead>\n",
       "    <tr style=\"text-align: right;\">\n",
       "      <th></th>\n",
       "      <th>name</th>\n",
       "      <th>id</th>\n",
       "      <th>finish</th>\n",
       "      <th>material</th>\n",
       "      <th>length</th>\n",
       "      <th>thickness</th>\n",
       "      <th>radius</th>\n",
       "      <th>subcomponents</th>\n",
       "      <th>extracted_radius</th>\n",
       "      <th>inner_diameter</th>\n",
       "      <th>outer_diameter</th>\n",
       "    </tr>\n",
       "  </thead>\n",
       "  <tbody>\n",
       "    <tr>\n",
       "      <th>0</th>\n",
       "      <td>Upper Body Tube</td>\n",
       "      <td>46e860cd-cf0b-4941-88d3-4955d041d0a2</td>\n",
       "      <td>normal</td>\n",
       "      <td>Fiberglass</td>\n",
       "      <td>1.1</td>\n",
       "      <td>0.0016</td>\n",
       "      <td>auto 0.0766</td>\n",
       "      <td>\\n</td>\n",
       "      <td>0.0766</td>\n",
       "      <td>0.15</td>\n",
       "      <td>0.1532</td>\n",
       "    </tr>\n",
       "    <tr>\n",
       "      <th>1</th>\n",
       "      <td>Av Bay</td>\n",
       "      <td>8a538e46-86de-4610-9448-59095f204328</td>\n",
       "      <td>normal</td>\n",
       "      <td>Fiberglass</td>\n",
       "      <td>0.15</td>\n",
       "      <td>0.0016</td>\n",
       "      <td>auto 0.0766</td>\n",
       "      <td>\\n</td>\n",
       "      <td>0.0766</td>\n",
       "      <td>0.15</td>\n",
       "      <td>0.1532</td>\n",
       "    </tr>\n",
       "    <tr>\n",
       "      <th>2</th>\n",
       "      <td>Lower Body Tube</td>\n",
       "      <td>1dd306d3-0eca-4a84-a742-6e0e3c19c8be</td>\n",
       "      <td>normal</td>\n",
       "      <td>Fiberglass</td>\n",
       "      <td>1.36</td>\n",
       "      <td>0.0016</td>\n",
       "      <td>auto 0.0766</td>\n",
       "      <td>\\n</td>\n",
       "      <td>0.0766</td>\n",
       "      <td>0.15</td>\n",
       "      <td>0.1532</td>\n",
       "    </tr>\n",
       "  </tbody>\n",
       "</table>\n",
       "</div>"
      ],
      "text/plain": [
       "              name                                    id  finish    material  \\\n",
       "0  Upper Body Tube  46e860cd-cf0b-4941-88d3-4955d041d0a2  normal  Fiberglass   \n",
       "1           Av Bay  8a538e46-86de-4610-9448-59095f204328  normal  Fiberglass   \n",
       "2  Lower Body Tube  1dd306d3-0eca-4a84-a742-6e0e3c19c8be  normal  Fiberglass   \n",
       "\n",
       "  length  thickness       radius     subcomponents  extracted_radius  \\\n",
       "0    1.1     0.0016  auto 0.0766  \\n                          0.0766   \n",
       "1   0.15     0.0016  auto 0.0766  \\n                          0.0766   \n",
       "2   1.36     0.0016  auto 0.0766  \\n                          0.0766   \n",
       "\n",
       "   inner_diameter  outer_diameter  \n",
       "0            0.15          0.1532  \n",
       "1            0.15          0.1532  \n",
       "2            0.15          0.1532  "
      ]
     },
     "metadata": {},
     "output_type": "display_data"
    }
   ],
   "source": [
    "display(bodytubes_df)"
   ]
  },
  {
   "cell_type": "code",
   "execution_count": null,
   "metadata": {},
   "outputs": [],
   "source": []
  }
 ],
 "metadata": {
  "kernelspec": {
   "display_name": "base",
   "language": "python",
   "name": "python3"
  },
  "language_info": {
   "codemirror_mode": {
    "name": "ipython",
    "version": 3
   },
   "file_extension": ".py",
   "mimetype": "text/x-python",
   "name": "python",
   "nbconvert_exporter": "python",
   "pygments_lexer": "ipython3",
   "version": "3.11.5"
  }
 },
 "nbformat": 4,
 "nbformat_minor": 2
}
